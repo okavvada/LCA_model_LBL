{
 "cells": [
  {
   "cell_type": "code",
   "execution_count": 1,
   "metadata": {
    "collapsed": false
   },
   "outputs": [],
   "source": [
    "import pandas as pd\n",
    "import numpy as np\n",
    "import parameters as P\n",
    "import sensitivity_parameters as SP\n",
    "import helper_functions as hf"
   ]
  },
  {
   "cell_type": "code",
   "execution_count": 2,
   "metadata": {
    "collapsed": true
   },
   "outputs": [],
   "source": [
    "import matplotlib.pyplot as plt\n",
    "%matplotlib inline"
   ]
  },
  {
   "cell_type": "code",
   "execution_count": 3,
   "metadata": {
    "collapsed": true
   },
   "outputs": [],
   "source": [
    "io_data = pd.read_csv(P.io_table_dollars_water_path)\n",
    "cost = hf.csv_dict_list(P.cost_impact_water_path)\n",
    "water_consumption = hf.csv_dict_list(P.water_consumption_path) \n",
    "water_withdrawal = hf.csv_dict_list(P.water_withdrawal_path) \n",
    "etoh_feed_stream_mass_kg = 1 "
   ]
  },
  {
   "cell_type": "code",
   "execution_count": 10,
   "metadata": {
    "collapsed": false
   },
   "outputs": [],
   "source": [
    "y = {}\n",
    "y_cred = {}\n",
    "for item in cost.keys():\n",
    "    y.update({item:0})\n",
    "    y_cred.update({item:0})"
   ]
  },
  {
   "cell_type": "code",
   "execution_count": 11,
   "metadata": {
    "collapsed": false
   },
   "outputs": [],
   "source": [
    "m = {} \n",
    "for scenario in P.scenario_range:\n",
    "    new_data = np.zeros([8,3])\n",
    "    m[scenario] = pd.DataFrame(new_data, columns=P.selectivity, index=P.processes)"
   ]
  },
  {
   "cell_type": "code",
   "execution_count": 15,
   "metadata": {
    "collapsed": false
   },
   "outputs": [],
   "source": [
    "for selectivity in P.selectivity:\n",
    "    for scenario in P.scenario_range:\n",
    "        y[\"lysine.us.kg\"] = cost[\"lysine.us.kg\"] * (SP.other_params[selectivity]['chlys_amount'][scenario] * \n",
    "                            SP.common_params['chlys_percent'][scenario]) \n",
    "        # 58% lysine + 42% ChOH for Chylys production (Stoichiometry) \n",
    "        y[\"cholinium.hydroxide.kg\"] = (cost[\"cholinium.hydroxide.kg\"] * \n",
    "                                       SP.other_params[selectivity]['chlys_amount'][scenario] * \n",
    "                                       SP.common_params['cholinium_percent'][scenario])  \n",
    "        # 58% lysine + 42% ChOH for Chylys production (Stoichiometry) \n",
    "        y[\"cellulase.kg\"] = cost[\"cellulase.kg\"] * SP.common_params['enzyme'][scenario]\n",
    "        y[\"csl.kg\"] = cost[\"csl.kg\"] * SP.other_params[selectivity]['csl.kg'][scenario]\n",
    "        y[\"farmedstover.kg\"] = cost[\"farmedstover.kg\"] * SP.other_params[selectivity]['feedstock'][scenario]  \n",
    "        y[\"dap.kg\"] = cost[\"dap.kg\"] * SP.other_params[selectivity]['dap.kg'][scenario] \n",
    "        y[\"h2so4.kg\"] = cost[\"h2so4.kg\"] * SP.other_params[selectivity]['h2so4.kg'][scenario]\n",
    "        y[\"naturalgas.MJ\"] = cost[\"naturalgas.MJ\"] * (hf.FuelConvertMJ(\n",
    "                            SP.other_params[selectivity]['ng_input_stream_mass_ww_kg'][scenario], \"naturalgas\",\"kg\"))\n",
    "        y[\"rail.mt_km\"] = (cost[\"rail.mt_km\"] * (SP.other_params[selectivity]['chlys_amount'][scenario]/1000) * \n",
    "                        SP.common_params['chlys_rail_mt_km'][scenario] +\n",
    "                            cost[\"rail.mt_km\"] * (\n",
    "                                etoh_feed_stream_mass_kg/1000 * SP.common_params['etoh_distribution_rail'][scenario])) \n",
    "        y[\"flatbedtruck.mt_km\"] = (cost[\"flatbedtruck.mt_km\"] * (\n",
    "                (SP.other_params[selectivity]['chlys_amount'][scenario]/1000) * \n",
    "                    SP.common_params['chlys_flatbedtruck_mt_km'][scenario]) +\n",
    "                        cost[\"flatbedtruck.mt_km\"] * (etoh_feed_stream_mass_kg/1000 * (\n",
    "                            SP.common_params['etoh_distribution_truck'][scenario])))\n",
    "        y[\"electricity.{}.kWh\".format(SP.analysis_params['facility_electricity'])] = (\n",
    "            cost[\"electricity.{}.kWh\".format(SP.analysis_params['facility_electricity'])] * (\n",
    "                SP.other_params[selectivity]['electricity_requirements'][scenario]))\n",
    "        y[\"hcl.kg\"] = cost[\"hcl.kg\"] * SP.other_params[selectivity]['hcl.kg'][scenario]\n",
    "        \n",
    "        y_cred[\"electricity.{}.kWh\".format(SP.analysis_params['facility_electricity'])] = -(\n",
    "\t\t\t\t\t\t\t            cost[\"electricity.{}.kWh\".format(SP.analysis_params['facility_electricity'])] * (\n",
    "\t\t\t\t\t\t\t\t\t\t\tSP.other_params[selectivity]['electricity_credit'][scenario]))\n",
    "\n",
    "        biorefinery_direct_ghg = hf.FuelCO2kg(hf.FuelConvertMJ(\n",
    "                SP.other_params[selectivity]['ng_input_stream_mass_ww_kg'][scenario],\"naturalgas\",\"kg\"), \"naturalgas\")\n",
    "\n",
    "        results_kg_co2e = hf.TotalWaterImpacts(io_data, y, cost, \n",
    "                                water_consumption, SP.other_params[selectivity]['biorefinery_direct_consumption'][scenario])\n",
    "        results_kg_co2e_credit = hf.TotalWaterImpacts(io_data, y_cred, cost, \n",
    "\t\t                                                      water_consumption, SP.other_params[selectivity]['biorefinery_direct_consumption'][scenario])\n",
    "        \n",
    "        results_kg_co2e_dict = results_kg_co2e.set_index('products')['liter_results_kg'].to_dict()\n",
    "\n",
    "        hf.AggregateResults(m, results_kg_co2e_dict, selectivity, scenario)\n",
    "        \n",
    "        m[scenario][selectivity] = m[scenario][selectivity] /27 # converting kg per kg results to g per MJ\n",
    "        m[scenario][selectivity].loc['electricity_credit'] = (results_kg_co2e_credit[results_kg_co2e_credit['products'] == \n",
    "                                                \t\t\t\t\t\t'electricity.US.kWh']['liter_results_kg'].iloc[0]/27)"
   ]
  },
  {
   "cell_type": "code",
   "execution_count": 17,
   "metadata": {
    "collapsed": false
   },
   "outputs": [
    {
     "data": {
      "text/plain": [
       "{'avg':                            iHG-Projected  iHG-Current  waterwash\n",
       " electricity_credit             -0.070157    -0.008254   0.000000\n",
       " Farming                         0.000000     0.000000   0.000000\n",
       " Transportation                  0.000000     0.000000   0.000000\n",
       " Petroleum                       0.034296     0.046199   0.067088\n",
       " Electricity                     0.027498     0.068971   0.172413\n",
       " Chemicals_And_Fertilizers       0.040954     0.090594   0.066985\n",
       " Direct                          0.237037     0.237037   0.048148\n",
       " Other                           0.000259     0.001370   0.001481,\n",
       " 'high':                            iHG-Projected  iHG-Current  waterwash\n",
       " electricity_credit             -0.008254    -0.008254   0.000000\n",
       " Farming                         0.000000     0.000000   0.000000\n",
       " Transportation                  0.000000     0.000000   0.000000\n",
       " Petroleum                       0.037489     0.050629   0.073016\n",
       " Electricity                     0.030230     0.075244   0.188175\n",
       " Chemicals_And_Fertilizers       0.044692     0.096891   0.072194\n",
       " Direct                          0.260741     0.260741   0.062963\n",
       " Other                           0.000296     0.001556   0.001593,\n",
       " 'low':                            iHG-Projected  iHG-Current  waterwash\n",
       " electricity_credit             -0.115553    -0.008254   0.000000\n",
       " Farming                         0.000000     0.000000   0.000000\n",
       " Transportation                  0.000000     0.000000   0.000000\n",
       " Petroleum                       0.031103     0.041769   0.060290\n",
       " Electricity                     0.024766     0.062697   0.154561\n",
       " Chemicals_And_Fertilizers       0.037216     0.084297   0.060092\n",
       " Direct                          0.213333     0.213333   0.033333\n",
       " Other                           0.000259     0.001222   0.001333}"
      ]
     },
     "execution_count": 17,
     "metadata": {},
     "output_type": "execute_result"
    }
   ],
   "source": [
    "m"
   ]
  },
  {
   "cell_type": "code",
   "execution_count": 18,
   "metadata": {
    "collapsed": false
   },
   "outputs": [],
   "source": [
    "aggregated_data_avg = m['avg'][['waterwash', 'iHG-Current', 'iHG-Projected']].T\n",
    "aggregated_data_low = m['low'][['waterwash', 'iHG-Current', 'iHG-Projected']].T\n",
    "aggregated_data_high = m['high'][['waterwash', 'iHG-Current', 'iHG-Projected']].T"
   ]
  },
  {
   "cell_type": "code",
   "execution_count": 19,
   "metadata": {
    "collapsed": false
   },
   "outputs": [
    {
     "data": {
      "text/plain": [
       "waterwash        0.356116\n",
       "iHG-Current      0.435917\n",
       "iHG-Projected    0.269887\n",
       "dtype: float64"
      ]
     },
     "execution_count": 19,
     "metadata": {},
     "output_type": "execute_result"
    }
   ],
   "source": [
    "aggregated_data_avg.sum(axis=1)"
   ]
  },
  {
   "cell_type": "code",
   "execution_count": 20,
   "metadata": {
    "collapsed": false
   },
   "outputs": [
    {
     "data": {
      "text/plain": [
       "waterwash        0.309610\n",
       "iHG-Current      0.395065\n",
       "iHG-Projected    0.191124\n",
       "dtype: float64"
      ]
     },
     "execution_count": 20,
     "metadata": {},
     "output_type": "execute_result"
    }
   ],
   "source": [
    "aggregated_data_low.sum(axis=1)"
   ]
  },
  {
   "cell_type": "code",
   "execution_count": 21,
   "metadata": {
    "collapsed": false
   },
   "outputs": [
    {
     "data": {
      "text/plain": [
       "waterwash        0.397941\n",
       "iHG-Current      0.476806\n",
       "iHG-Projected    0.365194\n",
       "dtype: float64"
      ]
     },
     "execution_count": 21,
     "metadata": {},
     "output_type": "execute_result"
    }
   ],
   "source": [
    "aggregated_data_high.sum(axis=1)"
   ]
  },
  {
   "cell_type": "code",
   "execution_count": null,
   "metadata": {
    "collapsed": false
   },
   "outputs": [],
   "source": [
    "aggregated_data_avg['electricity_credit'] = [0, -0.006, -0.08]\n",
    "aggregated_data_low['electricity_credit'] = [0, -0.009, -0.09]\n",
    "aggregated_data_high['electricity_credit'] = [0, -0.005, -0.06]"
   ]
  },
  {
   "cell_type": "code",
   "execution_count": null,
   "metadata": {
    "collapsed": false
   },
   "outputs": [],
   "source": [
    "aggregated_data_avg_pos = aggregated_data_avg.drop(['electricity_credit'],1)\n",
    "aggregated_data_low_pos = aggregated_data_low.drop(['electricity_credit'],1)\n",
    "aggregated_data_high_pos = aggregated_data_high.drop(['electricity_credit'],1)"
   ]
  },
  {
   "cell_type": "code",
   "execution_count": null,
   "metadata": {
    "collapsed": false
   },
   "outputs": [],
   "source": [
    "aggregated_data_avg_plot = aggregated_data_avg[list(reversed(aggregated_data_avg.columns.values))]"
   ]
  },
  {
   "cell_type": "code",
   "execution_count": null,
   "metadata": {
    "collapsed": false
   },
   "outputs": [],
   "source": [
    "aggregated_data_avg_plot"
   ]
  },
  {
   "cell_type": "code",
   "execution_count": null,
   "metadata": {
    "collapsed": false
   },
   "outputs": [],
   "source": [
    "error_min = (aggregated_data_low.sum(axis=1) - aggregated_data_avg_pos.sum(axis=1)).values*(-1)\n",
    "error_max = (aggregated_data_high.sum(axis=1) - aggregated_data_avg_pos.sum(axis=1)).values\n",
    "plt_errors = [error_min, error_max]"
   ]
  },
  {
   "cell_type": "code",
   "execution_count": null,
   "metadata": {
    "collapsed": false
   },
   "outputs": [],
   "source": [
    "import mpld3\n",
    "#mpld3.enable_notebook()\n",
    "mpld3.disable_notebook()"
   ]
  },
  {
   "cell_type": "code",
   "execution_count": null,
   "metadata": {
    "collapsed": false
   },
   "outputs": [],
   "source": [
    "\n",
    "plot = aggregated_data_avg_plot.plot(kind='bar', stacked = True, figsize=(9,6),\n",
    "                                     colormap='PRGn_r',\n",
    "                                     yerr={'Farming':plt_errors}, \n",
    "                                     error_kw= {'capsize':5, 'ecolor':'k', 'elinewidth':2, 'capthick':2, 'barsabove':True})\n",
    "plt.xticks(fontsize = 16)\n",
    "plt.yticks(fontsize = 16)\n",
    "plt.ylabel('gCO2 per MJ', fontsize = 18)\n",
    "#plt.ylim(-20,195)\n",
    "plt.axhline(0, color='black', linewidth=2)\n",
    "plot.set_axis_bgcolor(\"#EBEBEB\")\n",
    "plot.legend(loc='lower center', bbox_to_anchor=(1.25, 0.1),ncol=1, fancybox=True, shadow=True,fontsize=14)"
   ]
  },
  {
   "cell_type": "code",
   "execution_count": null,
   "metadata": {
    "collapsed": true
   },
   "outputs": [],
   "source": [
    "hcl\n",
    "coal\n",
    "diesel"
   ]
  },
  {
   "cell_type": "code",
   "execution_count": null,
   "metadata": {
    "collapsed": false
   },
   "outputs": [],
   "source": [
    "mpld3.fig_to_html(plt.gcf())"
   ]
  },
  {
   "cell_type": "code",
   "execution_count": null,
   "metadata": {
    "collapsed": false
   },
   "outputs": [],
   "source": [
    "cost['hcl.kg']"
   ]
  },
  {
   "cell_type": "code",
   "execution_count": null,
   "metadata": {
    "collapsed": true
   },
   "outputs": [],
   "source": []
  }
 ],
 "metadata": {
  "kernelspec": {
   "display_name": "Python 2",
   "language": "python",
   "name": "python2"
  },
  "language_info": {
   "codemirror_mode": {
    "name": "ipython",
    "version": 2
   },
   "file_extension": ".py",
   "mimetype": "text/x-python",
   "name": "python",
   "nbconvert_exporter": "python",
   "pygments_lexer": "ipython2",
   "version": "2.7.12"
  }
 },
 "nbformat": 4,
 "nbformat_minor": 0
}
