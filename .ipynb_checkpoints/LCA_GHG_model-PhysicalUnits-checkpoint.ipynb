{
 "cells": [
  {
   "cell_type": "code",
   "execution_count": 1,
   "metadata": {
    "collapsed": false
   },
   "outputs": [],
   "source": [
    "import pandas as pd\n",
    "import numpy as np\n",
    "import parameters as P\n",
    "import sensitivity_parameters as SP\n",
    "import helper_functions as hf"
   ]
  },
  {
   "cell_type": "code",
   "execution_count": 2,
   "metadata": {
    "collapsed": true
   },
   "outputs": [],
   "source": [
    "io_table_physicalunits_path = \"io_tables/io_table_physicalunits.csv\"\n",
    "io_table_physicalunits_water_path = \"io_tables/io_table_physicalunits_water.csv\""
   ]
  },
  {
   "cell_type": "code",
   "execution_count": 7,
   "metadata": {
    "collapsed": true
   },
   "outputs": [],
   "source": [
    "io_data = pd.read_csv(io_table_physicalunits_path).fillna(0)\n",
    "etoh_feed_stream_mass_kg = 1 "
   ]
  },
  {
   "cell_type": "code",
   "execution_count": 8,
   "metadata": {
    "collapsed": false
   },
   "outputs": [],
   "source": [
    "y = {}\n",
    "y_cred = {}\n",
    "for item in io_data['products'].keys():\n",
    "    y.update({item:0})\n",
    "    y_cred.update({item:0})"
   ]
  },
  {
   "cell_type": "code",
   "execution_count": 9,
   "metadata": {
    "collapsed": false
   },
   "outputs": [],
   "source": [
    "m = {} \n",
    "for scenario in P.scenario_range:\n",
    "    new_data = np.zeros([8,3])\n",
    "    m[scenario] = pd.DataFrame(new_data, columns=P.selectivity, index=P.processes)\n",
    "    \n",
    "n = {} \n",
    "for scenario in P.scenario_range:\n",
    "    new_data = np.zeros([1,3])\n",
    "    n[scenario] = pd.DataFrame(new_data, columns=P.selectivity, index=['electricity_credit'])"
   ]
  },
  {
   "cell_type": "code",
   "execution_count": 14,
   "metadata": {
    "collapsed": false
   },
   "outputs": [
    {
     "ename": "AttributeError",
     "evalue": "'module' object has no attribute 'combustion_direct_ghg'",
     "output_type": "error",
     "traceback": [
      "\u001b[0;31m---------------------------------------------------------------------------\u001b[0m",
      "\u001b[0;31mAttributeError\u001b[0m                            Traceback (most recent call last)",
      "\u001b[0;32m<ipython-input-14-9c51a8d95bec>\u001b[0m in \u001b[0;36m<module>\u001b[0;34m()\u001b[0m\n\u001b[1;32m     62\u001b[0m \u001b[0;34m\u001b[0m\u001b[0m\n\u001b[1;32m     63\u001b[0m         results_kg_co2e = hf.TotalGHGEmissions(io_data, y, \n\u001b[0;32m---> 64\u001b[0;31m                                                biorefinery_direct_ghg, P.combustion_direct_ghg)\n\u001b[0m\u001b[1;32m     65\u001b[0m \u001b[0;34m\u001b[0m\u001b[0m\n\u001b[1;32m     66\u001b[0m         y_cred[\"electricity.{}.kWh\".format(SP.analysis_params['facility_electricity'])] = -(\n",
      "\u001b[0;31mAttributeError\u001b[0m: 'module' object has no attribute 'combustion_direct_ghg'"
     ]
    }
   ],
   "source": [
    "for selectivity in P.selectivity:\n",
    "\t    for scenario in P.scenario_range:\n",
    "\t\t\ty[\"lysine.us.kg\"] = (SP_other_params[selectivity]['chlys_amount'][scenario] * \n",
    "\t\t\t\t\t\t\t\tSP_common_params['chlys_percent'][scenario]) \n",
    "\t\t\ty[\"cholinium.hydroxide.kg\"] = (SP_other_params[selectivity]['chlys_amount'][scenario] * \n",
    "\t\t\t                               SP_common_params['cholinium_percent'][scenario])  \n",
    "\t\t\ty[\"cellulase.kg\"] = SP_common_params['enzyme'][scenario]\n",
    "\t\t\ty[\"csl.kg\"] = SP_other_params[selectivity]['csl.kg'][scenario]\n",
    "\t\t\ty[\"farmedstover.kg\"] = SP_other_params[selectivity]['feedstock'][scenario]  \n",
    "\t\t\ty[\"dap.kg\"] = SP_other_params[selectivity]['dap.kg'][scenario] \n",
    "\t\t\ty[\"h2so4.kg\"] = SP_other_params[selectivity]['h2so4.kg'][scenario]\n",
    "\t\t\ty[\"naturalgas.MJ\"] = (hf.FuelConvertMJ(\n",
    "\t\t\t        \t\t\tSP_other_params[selectivity]['ng_input_stream_mass_ww_kg'][scenario], \"naturalgas\",\"kg\"))\n",
    "\t\t\ty[\"rail.mt_km\"] = ((SP_other_params[selectivity]['chlys_amount'][scenario]/1000) * \n",
    "\t\t\t\t\t\t\tSP_common_params['chlys_rail_mt_km'][scenario] +\n",
    "\t\t\t                \t(etoh_feed_stream_mass_kg/1000 * SP_common_params['etoh_distribution_rail'][scenario])) \n",
    "\t\t\ty[\"flatbedtruck.mt_km\"] = ((\n",
    "\t\t\t        (SP_other_params[selectivity]['chlys_amount'][scenario]/1000) * \n",
    "\t\t\t        \tSP_common_params['chlys_flatbedtruck_mt_km'][scenario]) +\n",
    "\t\t\t        \t\t(etoh_feed_stream_mass_kg/1000 * (\n",
    "\t\t\t        \t\t\tSP_common_params['etoh_distribution_truck'][scenario])))\n",
    "\t\t\ty[\"electricity.{}.kWh\".format(SP_analysis_params['facility_electricity'])] = (\n",
    "\t\t\t    (SP_other_params[selectivity]['electricity_requirements'][scenario]))\n",
    "\t\t\ty[\"hcl.kg\"] = SP_other_params[selectivity]['hcl.kg'][scenario]\n",
    "\n",
    "\t\t\ty_cred[\"electricity.{}.kWh\".format(SP_analysis_params['facility_electricity'])] = -(\n",
    "\t\t\t\t\t\t\t            (SP_other_params[selectivity]['electricity_credit'][scenario]))\n",
    "\n",
    "\t\t\tbiorefinery_direct_ghg = hf.FuelCO2kg(hf.FuelConvertMJ(\n",
    "\t\t\t        SP_other_params[selectivity]['ng_input_stream_mass_ww_kg'][scenario],\"naturalgas\",\"kg\"), \"naturalgas\")\n",
    "\n",
    "\t\t\t\n",
    "            results_kg_co2e = hf.TotalGHGEmissions(io_data, y,\n",
    "                                                   biorefinery_direct_ghg, SP_analysis_params['combustion_direct_ghg'], SP_analysis_params['time_horizon'])\n",
    "\n",
    "            results_kg_co2e_credit = hf.TotalGHGEmissions(io_data, y_cred, \n",
    "                                                          biorefinery_direct_ghg, SP_analysis_params['combustion_direct_ghg'],\n",
    "                                                          SP_analysis_params['time_horizon'])\n",
    "\n",
    "            results_kg_co2e_dict = results_kg_co2e.set_index('products')['ghg_results_kg'].to_dict()\n",
    "            hf.AggregateResults(m, results_kg_co2e_dict, selectivity, scenario)\n",
    "            m[scenario][selectivity] = m[scenario][selectivity] * 1000/27 # converting kg per kg results to g per MJ\n",
    "            m[scenario][selectivity].loc['electricity_credit'] = (results_kg_co2e_credit[results_kg_co2e_credit['products'] == \n",
    "                                                                    'electricity.US.kWh']['ghg_results_kg'].iloc[0] * 1000/27)"
   ]
  },
  {
   "cell_type": "code",
   "execution_count": 8,
   "metadata": {
    "collapsed": false
   },
   "outputs": [
    {
     "data": {
      "text/html": [
       "<div>\n",
       "<table border=\"1\" class=\"dataframe\">\n",
       "  <thead>\n",
       "    <tr style=\"text-align: right;\">\n",
       "      <th></th>\n",
       "      <th>iHG-Projected</th>\n",
       "      <th>iHG-Current</th>\n",
       "      <th>waterwash</th>\n",
       "    </tr>\n",
       "  </thead>\n",
       "  <tbody>\n",
       "    <tr>\n",
       "      <th>Farming</th>\n",
       "      <td>2.903830</td>\n",
       "      <td>2.903830</td>\n",
       "      <td>3.379564</td>\n",
       "    </tr>\n",
       "    <tr>\n",
       "      <th>Transportation</th>\n",
       "      <td>2.004239</td>\n",
       "      <td>2.098772</td>\n",
       "      <td>2.556408</td>\n",
       "    </tr>\n",
       "    <tr>\n",
       "      <th>Petroleum</th>\n",
       "      <td>0.288987</td>\n",
       "      <td>0.298976</td>\n",
       "      <td>2.726502</td>\n",
       "    </tr>\n",
       "    <tr>\n",
       "      <th>Electricity</th>\n",
       "      <td>0.502113</td>\n",
       "      <td>1.019773</td>\n",
       "      <td>26.176135</td>\n",
       "    </tr>\n",
       "    <tr>\n",
       "      <th>Chemicals_And_Fertilizers</th>\n",
       "      <td>73.267593</td>\n",
       "      <td>80.259729</td>\n",
       "      <td>92.383624</td>\n",
       "    </tr>\n",
       "    <tr>\n",
       "      <th>Direct</th>\n",
       "      <td>0.000000</td>\n",
       "      <td>0.000000</td>\n",
       "      <td>94.041719</td>\n",
       "    </tr>\n",
       "    <tr>\n",
       "      <th>Other</th>\n",
       "      <td>0.407407</td>\n",
       "      <td>1.000000</td>\n",
       "      <td>2.481481</td>\n",
       "    </tr>\n",
       "  </tbody>\n",
       "</table>\n",
       "</div>"
      ],
      "text/plain": [
       "                           iHG-Projected  iHG-Current  waterwash\n",
       "Farming                         2.903830     2.903830   3.379564\n",
       "Transportation                  2.004239     2.098772   2.556408\n",
       "Petroleum                       0.288987     0.298976   2.726502\n",
       "Electricity                     0.502113     1.019773  26.176135\n",
       "Chemicals_And_Fertilizers      73.267593    80.259729  92.383624\n",
       "Direct                          0.000000     0.000000  94.041719\n",
       "Other                           0.407407     1.000000   2.481481"
      ]
     },
     "execution_count": 8,
     "metadata": {},
     "output_type": "execute_result"
    }
   ],
   "source": [
    "m['avg']"
   ]
  },
  {
   "cell_type": "code",
   "execution_count": null,
   "metadata": {
    "collapsed": false
   },
   "outputs": [],
   "source": [
    "y_array = []\n",
    "cost_array = []\n",
    "for item in io_data['products']:\n",
    "    y_array.append(y[item])\n",
    "    cost_array.append(cost[item])"
   ]
  },
  {
   "cell_type": "code",
   "execution_count": null,
   "metadata": {
    "collapsed": false
   },
   "outputs": [],
   "source": [
    "result = []\n",
    "\n",
    "# get last index for the lists for iteration\n",
    "end_index = len(y_array)\n",
    "\n",
    "for i in range(end_index):\n",
    "    result.append(y_array[i]/cost_array[i])\n",
    "result"
   ]
  },
  {
   "cell_type": "code",
   "execution_count": null,
   "metadata": {
    "collapsed": false
   },
   "outputs": [],
   "source": [
    "m['avg']"
   ]
  },
  {
   "cell_type": "code",
   "execution_count": null,
   "metadata": {
    "collapsed": false
   },
   "outputs": [],
   "source": [
    "n = {} \n",
    "for scenario in P.scenario_range:\n",
    "    n_new_data = np.zeros([3,3])\n",
    "    n = pd.DataFrame(n_new_data, columns=P.selectivity, index=P.scenario_range)\n",
    "        "
   ]
  },
  {
   "cell_type": "code",
   "execution_count": null,
   "metadata": {
    "collapsed": false
   },
   "outputs": [],
   "source": [
    "biorefinery_direct_ghg = 0\n",
    "for selectivity in P.selectivity:\n",
    "    for scenario in P.scenario_range:\n",
    "        y[\"electricity.{}.kWh\".format(P.facility_electricity)] = (\n",
    "                -cost[\"electricity.{}.kWh\".format(P.facility_electricity)] * (\n",
    "                    SP.other_params[selectivity]['electricity_credit'][scenario]))\n",
    "        \n",
    "        results_kg_co2e = hf.TotalGHGEmissions(io_data, y, cost, \n",
    "                                               biorefinery_direct_ghg, P.combustion_direct_ghg)\n",
    "        results_kg_co2e_dict = results_kg_co2e.set_index('products')['ghg_results_kg'].to_dict()\n",
    "        n[selectivity][scenario] = results_kg_co2e_dict[\"electricity.US.kWh\"]"
   ]
  },
  {
   "cell_type": "code",
   "execution_count": null,
   "metadata": {
    "collapsed": false
   },
   "outputs": [],
   "source": [
    "results_kg_co2e_dict"
   ]
  },
  {
   "cell_type": "code",
   "execution_count": null,
   "metadata": {
    "collapsed": false
   },
   "outputs": [],
   "source": [
    "results_kg_co2e_dict[\"electricity.US.kWh\"].sum()"
   ]
  },
  {
   "cell_type": "code",
   "execution_count": null,
   "metadata": {
    "collapsed": false
   },
   "outputs": [],
   "source": [
    "A = np.matrix([[0,2,2],[2,0,2],[2,2,0]])"
   ]
  },
  {
   "cell_type": "code",
   "execution_count": null,
   "metadata": {
    "collapsed": false
   },
   "outputs": [],
   "source": [
    "A"
   ]
  },
  {
   "cell_type": "code",
   "execution_count": null,
   "metadata": {
    "collapsed": false
   },
   "outputs": [],
   "source": [
    "I = np.zeros((A.shape[1], A.shape[1]), int)\n",
    "np.fill_diagonal(I, 1)"
   ]
  },
  {
   "cell_type": "code",
   "execution_count": null,
   "metadata": {
    "collapsed": false
   },
   "outputs": [],
   "source": [
    "I"
   ]
  },
  {
   "cell_type": "code",
   "execution_count": null,
   "metadata": {
    "collapsed": false
   },
   "outputs": [],
   "source": [
    "(I-A)"
   ]
  },
  {
   "cell_type": "code",
   "execution_count": null,
   "metadata": {
    "collapsed": true
   },
   "outputs": [],
   "source": [
    "y=[1,1,1]"
   ]
  },
  {
   "cell_type": "code",
   "execution_count": null,
   "metadata": {
    "collapsed": false
   },
   "outputs": [],
   "source": [
    "np.linalg.solve((I - A), y)"
   ]
  },
  {
   "cell_type": "code",
   "execution_count": null,
   "metadata": {
    "collapsed": true
   },
   "outputs": [],
   "source": []
  }
 ],
 "metadata": {
  "kernelspec": {
   "display_name": "Python 2",
   "language": "python",
   "name": "python2"
  },
  "language_info": {
   "codemirror_mode": {
    "name": "ipython",
    "version": 2
   },
   "file_extension": ".py",
   "mimetype": "text/x-python",
   "name": "python",
   "nbconvert_exporter": "python",
   "pygments_lexer": "ipython2",
   "version": "2.7.12"
  }
 },
 "nbformat": 4,
 "nbformat_minor": 0
}
