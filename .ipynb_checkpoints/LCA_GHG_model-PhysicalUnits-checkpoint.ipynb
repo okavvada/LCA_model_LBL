{
 "cells": [
  {
   "cell_type": "code",
   "execution_count": 1,
   "metadata": {
    "collapsed": false
   },
   "outputs": [],
   "source": [
    "import pandas as pd\n",
    "import numpy as np\n",
    "import parameters as P\n",
    "import sensitivity_parameters as SP\n",
    "import helper_functions as hf"
   ]
  },
  {
   "cell_type": "code",
   "execution_count": 2,
   "metadata": {
    "collapsed": true
   },
   "outputs": [],
   "source": [
    "io_data = pd.read_csv(P.io_table_dollars_path)"
   ]
  },
  {
   "cell_type": "code",
   "execution_count": 3,
   "metadata": {
    "collapsed": false
   },
   "outputs": [],
   "source": [
    "cost = hf.csv_dict_list(P.cost_impact_path)"
   ]
  },
  {
   "cell_type": "code",
   "execution_count": 4,
   "metadata": {
    "collapsed": false
   },
   "outputs": [],
   "source": [
    "y = {}\n",
    "for item in cost.keys():\n",
    "    y.update({item:0})"
   ]
  },
  {
   "cell_type": "code",
   "execution_count": 5,
   "metadata": {
    "collapsed": false
   },
   "outputs": [],
   "source": [
    "m = {} \n",
    "for scenario in P.scenario_range:\n",
    "    new_data = np.zeros([7,3])\n",
    "    m[scenario] = pd.DataFrame(new_data, columns=P.selectivity, index=P.processes)"
   ]
  },
  {
   "cell_type": "code",
   "execution_count": 6,
   "metadata": {
    "collapsed": false
   },
   "outputs": [],
   "source": [
    "for selectivity in P.selectivity:\n",
    "    for scenario in P.scenario_range:\n",
    "        if (selectivity == \"waterwash\"): \n",
    "            y[\"lysine.us.kg\"] = SP.other_params[selectivity]['chlys_amount'][scenario] * 0.58 \n",
    "            # 58% lysine + 42% ChOH for Chylys production (Stoichiometry) \n",
    "            y[\"cholinium.hydroxide.kg\"] = (SP.other_params[selectivity]['chlys_amount'][scenario] * 0.42)  \n",
    "            # 58% lysine + 42% ChOH for Chylys production (Stoichiometry) \n",
    "            y[\"cellulase.kg\"] = cost[\"cellulase.kg\"] * SP.common_params['enzyme'][scenario]\n",
    "            y[\"csl.kg\"] = cost[\"csl.kg\"] * 0.06\n",
    "            y[\"farmedstover.kg\"] = cost[\"farmedstover.kg\"] * SP.other_params[selectivity]['feedstock'][scenario]  \n",
    "            y[\"dap.kg\"] = cost[\"dap.kg\"] * 0.01\n",
    "            y[\"h2so4.kg\"] = cost[\"h2so4.kg\"] * 0.002\n",
    "            y[\"naturalgas.MJ\"] = cost[\"naturalgas.MJ\"] * (hf.FuelConvertMJ(\n",
    "                    SP.other_params[selectivity]['ng_input_stream_mass_ww_kg'][scenario], \"naturalgas\",\"kg\"))\n",
    "            y[\"rail.mt_km\"] = (cost[\"rail.mt_km\"] * (SP.other_params[selectivity]['chlys_amount'][scenario]/1000) * 100 * 1.6 +\n",
    "                                  cost[\"rail.mt_km\"] * (\n",
    "                                    P.etoh_feed_stream_mass_kg/1000 * SP.common_params['etoh_distribution_rail'][scenario])) \n",
    "            y[\"flatbedtruck.mt_km\"] = (cost[\"flatbedtruck.mt_km\"] * (\n",
    "                    (SP.other_params[selectivity]['chlys_amount'][scenario]/1000) * 50 * 1.6) +\n",
    "                    cost[\"flatbedtruck.mt_km\"] * (P.etoh_feed_stream_mass_kg/1000 * (\n",
    "                    SP.common_params['etoh_distribution_truck'][scenario])))\n",
    "            y[\"electricity.{}.kWh\".format(P.facility_electricity)] = (\n",
    "                cost[\"electricity.{}.kWh\".format(P.facility_electricity)] * (\n",
    "                    SP.other_params[selectivity]['electricity_requirements'][scenario]))\n",
    "\n",
    "            biorefinery_direct_ghg = hf.FuelCO2kg(hf.FuelConvertMJ(\n",
    "                    SP.other_params[selectivity]['ng_input_stream_mass_ww_kg'][scenario],\"naturalgas\",\"kg\"), \"naturalgas\")\n",
    "            \n",
    "        \n",
    "        if (selectivity == \"iHG-Projected\"):\n",
    "            y[\"lysine.us.kg\"] = cost[\"lysine.us.kg\"] * SP.other_params[selectivity]['chlys_amount'][scenario] * 0.58 \n",
    "            # 55% lysine + 45% ChOH for Chylys production (assumption) \n",
    "            y[\"cholinium.hydroxide.kg\"] = (cost[\"cholinium.hydroxide.kg\"] * \n",
    "                                           SP.other_params[selectivity]['chlys_amount'][scenario] * 0.42)  \n",
    "            # 50% lysine + 50% ChOH for Chylys production (assumption) \n",
    "            y[\"cellulase.kg\"] = cost[\"cellulase.kg\"] * SP.common_params['enzyme'][scenario]\n",
    "            y[\"csl.kg\"] = cost[\"csl.kg\"] * 0.05\n",
    "            y[\"farmedstover.kg\"] = cost[\"farmedstover.kg\"] * SP.other_params[selectivity]['feedstock'][scenario]\n",
    "            y[\"dap.kg\"] = cost[\"dap.kg\"] * 0.017  \n",
    "            y[\"rail.mt_km\"] = (cost[\"rail.mt_km\"] * (\n",
    "                (SP.other_params[selectivity]['chlys_amount'][scenario]/1000) * 100 * 1.6) +\n",
    "                               cost[\"rail.mt_km\"] * (\n",
    "                P.etoh_feed_stream_mass_kg/1000 * SP.common_params['etoh_distribution_rail'][scenario]))\n",
    "            y[\"flatbedtruck.mt_km\"] = (cost[\"flatbedtruck.mt_km\"] * (\n",
    "                (SP.other_params[selectivity]['chlys_amount'][scenario]/1000) * 50 * 1.6) +\n",
    "                    cost[\"flatbedtruck.mt_km\"] * (\n",
    "                        P.etoh_feed_stream_mass_kg/1000 * SP.common_params['etoh_distribution_truck'][scenario]))\n",
    "            y[\"electricity.{}.kWh\".format(P.facility_electricity)] = (\n",
    "                cost[\"electricity.{}.kWh\".format(P.facility_electricity)] * (\n",
    "                    SP.other_params[selectivity]['electricity_requirements'][scenario]))\n",
    "\n",
    "            biorefinery_direct_ghg = 0\n",
    "                    \n",
    "        if (selectivity == \"iHG-Current\"):\n",
    "            # Data needs to be updated for H2SO4! \n",
    "            y[\"lysine.us.kg\"] = cost[\"lysine.us.kg\"] * SP.other_params[selectivity]['chlys_amount'][scenario] * 0.58        \n",
    "            # 55% lysine + 45% ChOH for Chylys production (assumption) \n",
    "            y[\"cholinium.hydroxide.kg\"] = (cost[\"cholinium.hydroxide.kg\"] * \n",
    "                                           SP.other_params[selectivity]['chlys_amount'][scenario] * 0.42)  \n",
    "            # 50% lysine + 50% ChOH for Chylys production (assumption) \n",
    "            y[\"cellulase.kg\"] = cost[\"cellulase.kg\"] * SP.common_params['enzyme'][scenario]\n",
    "            y[\"csl.kg\"] = cost[\"csl.kg\"] * 0.05\n",
    "            y[\"farmedstover.kg\"] = cost[\"farmedstover.kg\"] * SP.other_params[selectivity]['feedstock'][scenario]\n",
    "            y[\"dap.kg\"] = cost[\"dap.kg\"] * 0.01\n",
    "            y[\"hcl.kg\"] = cost[\"hcl.kg\"] * 0.18\n",
    "            y[\"rail.mt_km\"] = (cost[\"rail.mt_km\"] * (\n",
    "                (SP.other_params[selectivity]['chlys_amount'][scenario]/1000) * 100 * 1.6) + (\n",
    "                P.etoh_feed_stream_mass_kg/1000 * SP.common_params['etoh_distribution_rail'][scenario]))\n",
    "            y[\"flatbedtruck.mt_km\"] = (cost[\"flatbedtruck.mt_km\"] * (\n",
    "                (SP.other_params[selectivity]['chlys_amount'][scenario]/1000) * 50 * 1.6) +\n",
    "                    cost[\"flatbedtruck.mt_km\"] * (\n",
    "                        P.etoh_feed_stream_mass_kg/1000 * SP.common_params['etoh_distribution_truck'][scenario])) \n",
    "\n",
    "            y[\"electricity.{}.kWh\".format(P.facility_electricity)] = (\n",
    "                cost[\"electricity.{}.kWh\".format(P.facility_electricity)] * (\n",
    "                    SP.other_params[selectivity]['electricity_requirements'][scenario]))\n",
    "\n",
    "        results_kg_co2e = hf.TotalGHGEmissions(io_data, y, cost, \n",
    "                                               biorefinery_direct_ghg, P.combustion_direct_ghg)\n",
    "        results_kg_co2e_dict = results_kg_co2e.set_index('products')['ghg_results_kg'].to_dict()\n",
    "\n",
    "        m = hf.AggregateResults(m, results_kg_co2e_dict, selectivity, scenario)\n",
    "        \n",
    "        m[scenario][selectivity] = m[scenario][selectivity] * 1000/27 # converting kg per kg results to g per MJ"
   ]
  },
  {
   "cell_type": "code",
   "execution_count": 31,
   "metadata": {
    "collapsed": false
   },
   "outputs": [],
   "source": [
    "n = {} \n",
    "for scenario in P.scenario_range:\n",
    "    n_new_data = np.zeros([3,3])\n",
    "    n = pd.DataFrame(n_new_data, columns=P.selectivity, index=P.scenario_range)\n",
    "        "
   ]
  },
  {
   "cell_type": "code",
   "execution_count": 48,
   "metadata": {
    "collapsed": false
   },
   "outputs": [],
   "source": [
    "biorefinery_direct_ghg = 0\n",
    "for selectivity in P.selectivity:\n",
    "    for scenario in P.scenario_range:\n",
    "        y[\"electricity.{}.kWh\".format(P.facility_electricity)] = (\n",
    "                -cost[\"electricity.{}.kWh\".format(P.facility_electricity)] * (\n",
    "                    SP.other_params[selectivity]['electricity_credit'][scenario]))\n",
    "        \n",
    "        results_kg_co2e = hf.TotalGHGEmissions(io_data, y, cost, \n",
    "                                               biorefinery_direct_ghg, P.combustion_direct_ghg)\n",
    "        results_kg_co2e_dict = results_kg_co2e.set_index('products')['ghg_results_kg'].to_dict()\n",
    "        n[selectivity][scenario] = results_kg_co2e_dict[\"electricity.US.kWh\"]"
   ]
  },
  {
   "cell_type": "code",
   "execution_count": 51,
   "metadata": {
    "collapsed": false
   },
   "outputs": [
    {
     "data": {
      "text/plain": [
       "{'1-bromoalkane.kg': 0.021380220114400203,\n",
       " '1-methylimidazole.kg': 0.016490512596854662,\n",
       " '1_chlorobutane.kg': 0.00046873330188963968,\n",
       " '1_chloroethane.kg': 0.046148817632734498,\n",
       " 'acetic.acid.kg': 0.0,\n",
       " 'acetone.kg': 0.0022479063345152328,\n",
       " 'alpha_amylase.kg': 2.3693252205382113e-05,\n",
       " 'ammo.chloride.kg': 9.2628712431721816,\n",
       " 'ammonia.kg': 0.11014393719038529,\n",
       " 'ammonia_brazil.kg': 0.096154337089744815,\n",
       " 'ammonium.sulfate.kg': 0.0,\n",
       " 'atrazine.kg': 0.016538855023922546,\n",
       " 'atrazine_brazil.kg': 0.026176071159842322,\n",
       " 'barge.mt_km': 0.00017908214298595069,\n",
       " 'bromine.kg': 0.0,\n",
       " 'butadiene.kg': 0.001483089500133759,\n",
       " 'butadiene_via_butane.kg': 0.004004292482030416,\n",
       " 'butane.MJ': 0.014158729066122727,\n",
       " 'caco3.kg': 0.064674065894870042,\n",
       " 'caco3_brazil.kg': 0.0019476056575051315,\n",
       " 'cellulase.kg': 0.0037514555523087941,\n",
       " 'cement.kg': 0.0,\n",
       " 'char.MJ': 0.0,\n",
       " 'cholinium.hydroxide.kg': 0.0,\n",
       " 'cholinium.lysinate.kg': 0.0,\n",
       " 'citric.acid.kg': 0.0,\n",
       " 'coal.MJ': 0.00010319051298721752,\n",
       " 'combustion': 0.0,\n",
       " 'concrete.cu.m': 0.0,\n",
       " 'corn.bushel': 0.00025345953960853671,\n",
       " 'corn.stover.kg': 0.0,\n",
       " 'corn.stover.transportation.kg': 0.0,\n",
       " 'corn_grain_ethanol.MJ': 0.00066184335539564874,\n",
       " 'corn_grain_ethanol_rolledup.MJ': 0.0,\n",
       " 'corn_oil.kg': 0.0,\n",
       " 'corn_starch.kg': 0.0012199321866272561,\n",
       " 'corn_stover_ethanol_rolledup.MJ': 0.0,\n",
       " 'crudeoil.MJ': 0.00044280342474437012,\n",
       " 'cs.ethanol.chly.distribution.kg': 0.0,\n",
       " 'cs.ethanol.chly.production.kg': 0.011334324635980176,\n",
       " 'cs.ethanol.emimoac.production.kg': 0.011334324635980176,\n",
       " 'csl.kg': 0.0068393395149947932,\n",
       " 'dap.kg': 0.00039425900846982282,\n",
       " 'ddgs.kg': 0.0,\n",
       " 'diesel.MJ': 0.00067895997395549419,\n",
       " 'direct': 0.0,\n",
       " 'electricity.Coal.kWh': 0.0029858059550638485,\n",
       " 'electricity.FRCC.kWh': 0.06102907672598696,\n",
       " 'electricity.Lignin.kWh': 0.0,\n",
       " 'electricity.MRO.kWh': 0.0055375427314973578,\n",
       " 'electricity.NG.kWh': 0.090652553207650269,\n",
       " 'electricity.NGCC.kWh': 0.069469698543828173,\n",
       " 'electricity.NPCC.kWh': 0.023956368616465752,\n",
       " 'electricity.RFC.kWh': 0.011843614652336323,\n",
       " 'electricity.Renewables.kWh': 0.0,\n",
       " 'electricity.SERC.kWh': 0.020859217209226202,\n",
       " 'electricity.SPP.kWh': 0.047243266855055283,\n",
       " 'electricity.TRE.kWh': 0.055370142240357939,\n",
       " 'electricity.US.kWh': 0.031072593674604205,\n",
       " 'electricity.WECC.kWh': 0.030467945482421158,\n",
       " 'electricity.china.kWh': 0.012409481634291824,\n",
       " 'emimaco.kg': 5.0923577388624849e-06,\n",
       " 'emimcl.kg': 0.00057877753609806529,\n",
       " 'ethyl.acetate.kg': 0.065576631324978651,\n",
       " 'ethylene.MJ': 0.13083367653464648,\n",
       " 'ethylene.glycol.kg': 0.0,\n",
       " 'ethylene_oxide.kg': 0.0,\n",
       " 'etoh.ethylene.kg': 0.0,\n",
       " 'farmedbrazilcane.kg': 0.00016241494727772305,\n",
       " 'farmedmiscanthus.kg': 7.1462887402614636e-05,\n",
       " 'farmedstover.kg': 0.10069207978007966,\n",
       " 'farmedstraw.kg': 0.00043578999007966236,\n",
       " 'farmequip.NA': 6.6035795645249035e-06,\n",
       " 'flatbedtruck.mt_km': 0.004298105341355214,\n",
       " 'flyash.kg': 0.0,\n",
       " 'formaldehyde.kg': 0.0,\n",
       " 'gasoline.MJ': 0.00038670155340800441,\n",
       " 'gaspipeline.mt_km': 0.0,\n",
       " 'gluco_amylase.kg': 0.00021588655963966275,\n",
       " 'glucose.kg': 3.8119238557262396e-05,\n",
       " 'glycerin.kg': 0.0,\n",
       " 'glyoxal.kg': 0.0,\n",
       " 'glyphosate.kg': 0.0,\n",
       " 'h2.kg': 0.020369200313986483,\n",
       " 'h2so4.kg': 1.675425693523003e-07,\n",
       " 'hcl.kg': 0.097081899671020155,\n",
       " 'heavytruck.china.mt_km': 0.0072595343007736696,\n",
       " 'insecticide.kg': 0.025471058252794099,\n",
       " 'insecticide_brazil.kg': 0.04092605758569378,\n",
       " 'k2o.kg': 0.00021585715574873589,\n",
       " 'k2o_brazil.kg': 0.00020631577326866182,\n",
       " 'ligninpellets.MJ': 0.0,\n",
       " 'lime.kg': 0.0084350461267749047,\n",
       " 'liquidpipeline.mt_km': 0.0,\n",
       " 'lpg.kg': 0.0,\n",
       " 'lysine.china.kg': 0.00037505924216290379,\n",
       " 'lysine.us.kg': 0.024418864916363976,\n",
       " 'manganese.kg': 0.0,\n",
       " 'manganese_sulfate.kg': 0.00032814188512816358,\n",
       " 'marinetanker.mt_km': 1.4811520529731159e-05,\n",
       " 'meim.kg': 0.00091977471735084641,\n",
       " 'methanol.kg': 0.00019580749707002058,\n",
       " 'methylamine.kg': 0.042333482267626239,\n",
       " 'molasses.kg': 0.0,\n",
       " 'n.kg': 0.018929399537153731,\n",
       " 'n_butanol.kg': 0.00014907902687115191,\n",
       " 'nacl.kg': 8.1414815744202889e-05,\n",
       " 'naoh.kg': 0.0066056880592937541,\n",
       " 'naturalgas.MJ': 0.068034645456000006,\n",
       " 'o2.kg': 0.0,\n",
       " 'p.kg': 0.040017515350772241,\n",
       " 'p2o5.kg': 7.4725088877180233e-05,\n",
       " 'petrobutanol.MJ': 0.0099560312269328637,\n",
       " 'petrohexanol.MJ': 2.026437901119236e-07,\n",
       " 'phosphoric.acid.kg': 4.4756987620869646e-06,\n",
       " 'process.water.m3': 0.0,\n",
       " 'propene.MJ': 0.00065618416632983671,\n",
       " 'rail.china.mt_km': 0.0042081973359879123,\n",
       " 'rail.mt_km': 0.0011543452257490713,\n",
       " 'refgas.MJ': 0.0047484469235488259,\n",
       " 'rfo.MJ': 0.00047022271038097644,\n",
       " 'sbm.kg': 0.0,\n",
       " 'sg.ethanol.chly.distribution.kg': 0.0,\n",
       " 'sg.ethanol.chly.production.kg': 0.011332923232278833,\n",
       " 'sg.ethanol.emimoac.production.kg': 0.011332923232278833,\n",
       " 'silica.kg': 0.0,\n",
       " 'steel_canadian.kg': 7.5722354151760521e-05,\n",
       " 'steel_chinese.kg': 7.1253016076704641e-05,\n",
       " 'steel_domestic.kg': 8.0497045492643424e-05,\n",
       " 'sugarcane_ethanol.MJ': 0.0,\n",
       " 'sugarcane_ethanol_rolledup.MJ': 0.0,\n",
       " 'switchgrass.kg': 0.0,\n",
       " 'switchgrass.transportation.kg': 0.0,\n",
       " 't_butanol.kg': 0.00024069474524862305,\n",
       " 'tankertruck.mt_km': 0.0020786803154820184,\n",
       " 'triethylaluminum.kg': 4.3766390561914773e-07,\n",
       " 'trimethylamine.kg': 0.00093615752764193455,\n",
       " 'uranium.kg': 0.0019285780009479707,\n",
       " 'urea.kg': 0.0084842214375920356,\n",
       " 'urea_brazil.kg': 0.0049558215460916667,\n",
       " 'yeast.kg': 0.00089697693392972377,\n",
       " 'zeolite.kg': 0.0}"
      ]
     },
     "execution_count": 51,
     "metadata": {},
     "output_type": "execute_result"
    }
   ],
   "source": [
    "results_kg_co2e_dict"
   ]
  },
  {
   "cell_type": "code",
   "execution_count": 50,
   "metadata": {
    "collapsed": false
   },
   "outputs": [
    {
     "data": {
      "text/plain": [
       "0.031072593674604205"
      ]
     },
     "execution_count": 50,
     "metadata": {},
     "output_type": "execute_result"
    }
   ],
   "source": [
    "results_kg_co2e_dict[\"electricity.US.kWh\"].sum()"
   ]
  },
  {
   "cell_type": "code",
   "execution_count": 16,
   "metadata": {
    "collapsed": false
   },
   "outputs": [],
   "source": [
    "A = np.matrix([[0,2,2],[2,0,2],[2,2,0]])"
   ]
  },
  {
   "cell_type": "code",
   "execution_count": 17,
   "metadata": {
    "collapsed": false
   },
   "outputs": [
    {
     "data": {
      "text/plain": [
       "matrix([[0, 2, 2],\n",
       "        [2, 0, 2],\n",
       "        [2, 2, 0]])"
      ]
     },
     "execution_count": 17,
     "metadata": {},
     "output_type": "execute_result"
    }
   ],
   "source": [
    "A"
   ]
  },
  {
   "cell_type": "code",
   "execution_count": 18,
   "metadata": {
    "collapsed": false
   },
   "outputs": [],
   "source": [
    "I = np.zeros((A.shape[1], A.shape[1]), int)\n",
    "np.fill_diagonal(I, 1)"
   ]
  },
  {
   "cell_type": "code",
   "execution_count": 19,
   "metadata": {
    "collapsed": false
   },
   "outputs": [
    {
     "data": {
      "text/plain": [
       "array([[1, 0, 0],\n",
       "       [0, 1, 0],\n",
       "       [0, 0, 1]])"
      ]
     },
     "execution_count": 19,
     "metadata": {},
     "output_type": "execute_result"
    }
   ],
   "source": [
    "I"
   ]
  },
  {
   "cell_type": "code",
   "execution_count": 22,
   "metadata": {
    "collapsed": false
   },
   "outputs": [
    {
     "data": {
      "text/plain": [
       "matrix([[ 1, -2, -2],\n",
       "        [-2,  1, -2],\n",
       "        [-2, -2,  1]])"
      ]
     },
     "execution_count": 22,
     "metadata": {},
     "output_type": "execute_result"
    }
   ],
   "source": [
    "(I-A)"
   ]
  },
  {
   "cell_type": "code",
   "execution_count": 23,
   "metadata": {
    "collapsed": true
   },
   "outputs": [],
   "source": [
    "y=[1,1,1]"
   ]
  },
  {
   "cell_type": "code",
   "execution_count": 24,
   "metadata": {
    "collapsed": false
   },
   "outputs": [
    {
     "data": {
      "text/plain": [
       "array([-0.33333333, -0.33333333, -0.33333333])"
      ]
     },
     "execution_count": 24,
     "metadata": {},
     "output_type": "execute_result"
    }
   ],
   "source": [
    "np.linalg.solve((I - A), y)"
   ]
  },
  {
   "cell_type": "code",
   "execution_count": null,
   "metadata": {
    "collapsed": true
   },
   "outputs": [],
   "source": []
  }
 ],
 "metadata": {
  "kernelspec": {
   "display_name": "Python 2",
   "language": "python",
   "name": "python2"
  },
  "language_info": {
   "codemirror_mode": {
    "name": "ipython",
    "version": 2
   },
   "file_extension": ".py",
   "mimetype": "text/x-python",
   "name": "python",
   "nbconvert_exporter": "python",
   "pygments_lexer": "ipython2",
   "version": "2.7.12"
  }
 },
 "nbformat": 4,
 "nbformat_minor": 0
}
