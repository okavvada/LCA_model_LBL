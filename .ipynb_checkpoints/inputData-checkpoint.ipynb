{
 "cells": [
  {
   "cell_type": "code",
   "execution_count": 1,
   "metadata": {
    "collapsed": true
   },
   "outputs": [],
   "source": [
    "from __future__ import division\n",
    "import xlrd\n",
    "import pandas as pd"
   ]
  },
  {
   "cell_type": "code",
   "execution_count": 2,
   "metadata": {
    "collapsed": false
   },
   "outputs": [
    {
     "name": "stdout",
     "output_type": "stream",
     "text": [
      "WARNING *** OLE2 inconsistency: SSCS size is 0 but SSAT size is non-zero\n"
     ]
    }
   ],
   "source": [
    "workbook = xlrd.open_workbook('input_data/CornStover-to-EtOH-waterwash.xls')"
   ]
  },
  {
   "cell_type": "code",
   "execution_count": 3,
   "metadata": {
    "collapsed": true
   },
   "outputs": [],
   "source": [
    "worksheet = workbook.sheet_by_index(0)"
   ]
  },
  {
   "cell_type": "code",
   "execution_count": 4,
   "metadata": {
    "collapsed": false
   },
   "outputs": [],
   "source": [
    "for row, title in enumerate(worksheet.col_values(1)):\n",
    "    if title == 'Cost Basis Annual Rate':\n",
    "        value_index = next(i for i, j in enumerate(worksheet.row_values(row)[2:]) if j) + 2\n",
    "        etoh_value = worksheet.row_values(row)[value_index]\n",
    "        units_index = value_index + 1 + next(i for i, j in enumerate(worksheet.row_values(row)[value_index+1:]) if j)\n",
    "        units_value = worksheet.row_values(row)[units_index]"
   ]
  },
  {
   "cell_type": "code",
   "execution_count": 5,
   "metadata": {
    "collapsed": false
   },
   "outputs": [],
   "source": [
    "for row, title in enumerate(worksheet.col_values(1)):\n",
    "    if title == 'Bulk Material':\n",
    "        start_row = row\n",
    "        for row, title in enumerate(worksheet.col_values(1)[start_row:]):\n",
    "            if title == 'TOTAL':\n",
    "                end_row = start_row+row\n",
    "                break\n",
    "value_index = worksheet.row_values(start_row).index(\"Annual\\nAmount\")\n",
    "unit_index = value_index + 1 + next(i for i, j in enumerate(worksheet.row_values(start_row+1)[value_index+1:]) if j)"
   ]
  },
  {
   "cell_type": "code",
   "execution_count": 6,
   "metadata": {
    "collapsed": false
   },
   "outputs": [],
   "source": [
    "results = {}\n",
    "for row, item in enumerate(worksheet.col_values(1)[start_row+1:end_row]):\n",
    "    results.update({item: [worksheet.cell(start_row+row+1, value_index).value, worksheet.cell(start_row+row+1, unit_index).value]})"
   ]
  },
  {
   "cell_type": "code",
   "execution_count": 7,
   "metadata": {
    "collapsed": false
   },
   "outputs": [],
   "source": [
    "for row, title in enumerate(worksheet.col_values(1)):\n",
    "    if title == 'Utility':\n",
    "        start_row = row\n",
    "        for row, title in enumerate(worksheet.col_values(1)[start_row:]):\n",
    "            if title == 'TOTAL':\n",
    "                end_row = start_row+row\n",
    "                break\n",
    "value_index = worksheet.row_values(start_row).index(\"Annual\\nAmount\")\n",
    "unit_index = value_index+ 1 + next(i for i, j in enumerate(worksheet.row_values(start_row+1)[value_index+1:]) if j)"
   ]
  },
  {
   "cell_type": "code",
   "execution_count": 8,
   "metadata": {
    "collapsed": true
   },
   "outputs": [],
   "source": [
    "for row, item in enumerate(worksheet.col_values(1)[start_row+1:end_row]):\n",
    "    results.update({item: [worksheet.cell(start_row+row+1, value_index).value, worksheet.cell(start_row+row+1, unit_index).value]})"
   ]
  },
  {
   "cell_type": "code",
   "execution_count": 9,
   "metadata": {
    "collapsed": false
   },
   "outputs": [
    {
     "data": {
      "text/plain": [
       "{u'Air': [575961109.0, u'kg'],\n",
       " u'CIP2': [3364000.0, u'kg'],\n",
       " u'CT Water NoCost': [106949493.0, u'MT'],\n",
       " u'Cooling Water': [199663625.0, u'MT'],\n",
       " u'Corn Liquor': [10744.0, u'ton'],\n",
       " u'Diammonium phos': [2669887.0, u'lb'],\n",
       " u'Dry Yeast': [25.0, u'kg'],\n",
       " u'EMIM Acetate': [5046000.0, u'kg'],\n",
       " u'Hydrolase': [4900954.0, u'kg'],\n",
       " u'IL- recycle': [2523000000.0, u'kg'],\n",
       " u'Methane': [10510845490.0, u'ft3(STP)'],\n",
       " u'NaOH (50% w/w)': [0.0, u'MT'],\n",
       " u'Octane': [0.0, u'gal(STP)'],\n",
       " u'Std Power': [322896284.0, u'kW-h'],\n",
       " u'Stover': [965748.0, u'ton'],\n",
       " u'WWT nutrients': [420500.0, u'kg'],\n",
       " u'Water': [8077883004.0, u'lb'],\n",
       " u'steam no-cost': [2399776.0, u'MT']}"
      ]
     },
     "execution_count": 9,
     "metadata": {},
     "output_type": "execute_result"
    }
   ],
   "source": [
    "results"
   ]
  },
  {
   "cell_type": "code",
   "execution_count": 46,
   "metadata": {
    "collapsed": false
   },
   "outputs": [],
   "source": [
    "import SuperPro_translate as translate"
   ]
  },
  {
   "cell_type": "code",
   "execution_count": 52,
   "metadata": {
    "collapsed": false
   },
   "outputs": [],
   "source": [
    "results_names = {}\n",
    "for key, value in translate.SuperPro_names.iteritems():\n",
    "    if key in results.keys():\n",
    "        results_names.update({value:results[key]})"
   ]
  },
  {
   "cell_type": "code",
   "execution_count": 151,
   "metadata": {
    "collapsed": true
   },
   "outputs": [],
   "source": [
    "unit_types = {\n",
    "    \"mass\": ['kg', 'g', 'lb'],\n",
    "    \"volume\": ['l', 'ft3(STP)', 'gal(STP)', 'ml', 'km3(STP)', 'm3(STP)', 'cm3(STP)', 'oz'],\n",
    "}"
   ]
  },
  {
   "cell_type": "code",
   "execution_count": 152,
   "metadata": {
    "collapsed": false
   },
   "outputs": [],
   "source": [
    "unit_translate = {\n",
    "    'kg': 'kg', \n",
    "    'g': 'g',\n",
    "    'oz': 'oz',\n",
    "    'lb': 'lb',\n",
    "    'MT': 'MT',\n",
    "    'ton': 'ton',\n",
    "    'Ml': 'megaliters', \n",
    "    'kl': 'kiloliters', \n",
    "    'l': 'l', \n",
    "    'ml': 'ml', \n",
    "    'ft3(STP)': 'ft3',\n",
    "    'gal(STP)': 'gal',\n",
    "    'kW-h': 'kW-h',\n",
    "}"
   ]
  },
  {
   "cell_type": "code",
   "execution_count": 174,
   "metadata": {
    "collapsed": false
   },
   "outputs": [],
   "source": [
    "final_results = {}\n",
    "for key, value in results_names.iteritems():\n",
    "    unit = unit_translate[value[1]]\n",
    "    if value[1] in unit_types['mass']:\n",
    "        real_unit = massunits.MassUnit(value[0], unit, 'kg').doconvert()\n",
    "    elif value[1] in unit_types['volume']:\n",
    "        real_unit = volumeunits.VolumeUnit(value[0], unit, 'l').doconvert()         \n",
    "    else:\n",
    "        if value[1] == 'ton':\n",
    "            real_unit = value[0]* 907.18500036199\n",
    "        elif value[1] == 'MT':\n",
    "            real_unit = value[0]* 1000\n",
    "        else:\n",
    "            real_unit = value[0]\n",
    "                \n",
    "    final_results.update({key:real_unit})   "
   ]
  },
  {
   "cell_type": "code",
   "execution_count": 175,
   "metadata": {
    "collapsed": false
   },
   "outputs": [
    {
     "data": {
      "text/plain": [
       "{'caoh.kg': 420500.0,\n",
       " 'cellulase_amount': 4900954.0,\n",
       " 'csl.kg': 9746795.64388922,\n",
       " 'dap.kg': 1211040.3719621901,\n",
       " 'electricity_requirements': 322896284.0,\n",
       " 'feedstock': 876112099.7295911,\n",
       " 'ionicLiquid_amount': 5046000.0,\n",
       " 'naoh.kg': 0.0,\n",
       " 'ng_input_stream_MJ': 297633999292.54504,\n",
       " 'octane_ltr': 0.0}"
      ]
     },
     "execution_count": 175,
     "metadata": {},
     "output_type": "execute_result"
    }
   ],
   "source": [
    "final_results"
   ]
  },
  {
   "cell_type": "code",
   "execution_count": 170,
   "metadata": {
    "collapsed": false
   },
   "outputs": [
    {
     "data": {
      "text/plain": [
       "{'caoh.kg': [420500.0, u'kg'],\n",
       " 'cellulase_amount': [4900954.0, u'kg'],\n",
       " 'csl.kg': [10744.0, u'ton'],\n",
       " 'dap.kg': [2669887.0, u'lb'],\n",
       " 'electricity_requirements': [322896284.0, u'kW-h'],\n",
       " 'feedstock': [965748.0, u'ton'],\n",
       " 'ionicLiquid_amount': [5046000.0, u'kg'],\n",
       " 'naoh.kg': [0.0, u'MT'],\n",
       " 'ng_input_stream_MJ': [10510845490.0, u'ft3(STP)'],\n",
       " 'octane_ltr': [0.0, u'gal(STP)']}"
      ]
     },
     "execution_count": 170,
     "metadata": {},
     "output_type": "execute_result"
    }
   ],
   "source": [
    "results_names"
   ]
  },
  {
   "cell_type": "code",
   "execution_count": null,
   "metadata": {
    "collapsed": true
   },
   "outputs": [],
   "source": []
  }
 ],
 "metadata": {
  "kernelspec": {
   "display_name": "Python 2",
   "language": "python",
   "name": "python2"
  },
  "language_info": {
   "codemirror_mode": {
    "name": "ipython",
    "version": 2
   },
   "file_extension": ".py",
   "mimetype": "text/x-python",
   "name": "python",
   "nbconvert_exporter": "python",
   "pygments_lexer": "ipython2",
   "version": "2.7.12"
  }
 },
 "nbformat": 4,
 "nbformat_minor": 0
}
