{
 "cells": [
  {
   "cell_type": "code",
   "execution_count": 1,
   "metadata": {
    "collapsed": false
   },
   "outputs": [],
   "source": [
    "import pandas as pd\n",
    "import numpy as np\n",
    "import parameters as P\n",
    "import sensitivity_parameters as SP\n",
    "import helper_functions as hf"
   ]
  },
  {
   "cell_type": "code",
   "execution_count": 2,
   "metadata": {
    "collapsed": true
   },
   "outputs": [],
   "source": [
    "io_data = pd.read_csv(P.io_table_dollars_path)"
   ]
  },
  {
   "cell_type": "code",
   "execution_count": 3,
   "metadata": {
    "collapsed": false
   },
   "outputs": [],
   "source": [
    "cost = hf.csv_dict_list(P.cost_impact_path)"
   ]
  },
  {
   "cell_type": "code",
   "execution_count": 4,
   "metadata": {
    "collapsed": false
   },
   "outputs": [],
   "source": [
    "y = {}\n",
    "for item in cost.keys():\n",
    "    y.update({item:0})"
   ]
  },
  {
   "cell_type": "code",
   "execution_count": 5,
   "metadata": {
    "collapsed": false
   },
   "outputs": [],
   "source": [
    "m = {} \n",
    "for scenario in P.scenario_range:\n",
    "    new_data = np.zeros([7,3])\n",
    "    m[scenario] = pd.DataFrame(new_data, columns=P.selectivity, index=P.processes)"
   ]
  },
  {
   "cell_type": "code",
   "execution_count": 6,
   "metadata": {
    "collapsed": false
   },
   "outputs": [],
   "source": [
    "for selectivity in P.selectivity:\n",
    "    for scenario in P.scenario_range:\n",
    "        if (selectivity == \"waterwash\"): \n",
    "            y[\"lysine.us.kg\"] = cost[\"lysine.us.kg\"] * SP.other_params[selectivity]['chlys_amount'][scenario] * 0.58 \n",
    "            # 58% lysine + 42% ChOH for Chylys production (Stoichiometry) \n",
    "            y[\"cholinium.hydroxide.kg\"] = (cost[\"cholinium.hydroxide.kg\"] * \n",
    "                                           SP.other_params[selectivity]['chlys_amount'][scenario] * 0.42)  \n",
    "            # 58% lysine + 42% ChOH for Chylys production (Stoichiometry) \n",
    "            y[\"cellulase.kg\"] = cost[\"cellulase.kg\"] * SP.common_params['enzyme'][scenario]\n",
    "            y[\"csl.kg\"] = cost[\"csl.kg\"] * 0.06\n",
    "            y[\"farmedstover.kg\"] = cost[\"farmedstover.kg\"] * SP.other_params[selectivity]['feedstock'][scenario]  \n",
    "            y[\"dap.kg\"] = cost[\"dap.kg\"] * 0.01\n",
    "            y[\"h2so4.kg\"] = cost[\"h2so4.kg\"] * 0.002\n",
    "            y[\"naturalgas.MJ\"] = cost[\"naturalgas.MJ\"] * (hf.FuelConvertMJ(\n",
    "                    SP.other_params[selectivity]['ng_input_stream_mass_ww_kg'][scenario], \"naturalgas\",\"kg\"))\n",
    "            y[\"rail.mt_km\"] = (cost[\"rail.mt_km\"] * (SP.other_params[selectivity]['chlys_amount'][scenario]/1000) * 100 * 1.6 +\n",
    "                                  cost[\"rail.mt_km\"] * (\n",
    "                                    P.etoh_feed_stream_mass_kg/1000 * SP.common_params['etoh_distribution_rail'][scenario])) \n",
    "            y[\"flatbedtruck.mt_km\"] = (cost[\"flatbedtruck.mt_km\"] * (\n",
    "                    (SP.other_params[selectivity]['chlys_amount'][scenario]/1000) * 50 * 1.6) +\n",
    "                    cost[\"flatbedtruck.mt_km\"] * (P.etoh_feed_stream_mass_kg/1000 * (\n",
    "                    SP.common_params['etoh_distribution_truck'][scenario])))\n",
    "            y[\"electricity.{}.kWh\".format(P.facility_electricity)] = (\n",
    "                cost[\"electricity.{}.kWh\".format(P.facility_electricity)] * (\n",
    "                    SP.other_params[selectivity]['electricity_requirements'][scenario]))\n",
    "\n",
    "            biorefinery_direct_ghg = hf.FuelCO2kg(hf.FuelConvertMJ(\n",
    "                    SP.other_params[selectivity]['ng_input_stream_mass_ww_kg'][scenario],\"naturalgas\",\"kg\"), \"naturalgas\")\n",
    "            \n",
    "        \n",
    "        if (selectivity == \"iHG-Projected\"):\n",
    "            y[\"lysine.us.kg\"] = cost[\"lysine.us.kg\"] * SP.other_params[selectivity]['chlys_amount'][scenario] * 0.58 \n",
    "            # 55% lysine + 45% ChOH for Chylys production (assumption) \n",
    "            y[\"cholinium.hydroxide.kg\"] = (cost[\"cholinium.hydroxide.kg\"] * \n",
    "                                           SP.other_params[selectivity]['chlys_amount'][scenario] * 0.42)  \n",
    "            # 50% lysine + 50% ChOH for Chylys production (assumption) \n",
    "            y[\"cellulase.kg\"] = cost[\"cellulase.kg\"] * SP.common_params['enzyme'][scenario]\n",
    "            y[\"csl.kg\"] = cost[\"csl.kg\"] * 0.05\n",
    "            y[\"farmedstover.kg\"] = cost[\"farmedstover.kg\"] * SP.other_params[selectivity]['feedstock'][scenario]\n",
    "            y[\"dap.kg\"] = cost[\"dap.kg\"] * 0.017  \n",
    "            y[\"rail.mt_km\"] = (cost[\"rail.mt_km\"] * (\n",
    "                (SP.other_params[selectivity]['chlys_amount'][scenario]/1000) * 100 * 1.6) +\n",
    "                               cost[\"rail.mt_km\"] * (\n",
    "                P.etoh_feed_stream_mass_kg/1000 * SP.common_params['etoh_distribution_rail'][scenario]))\n",
    "            y[\"flatbedtruck.mt_km\"] = (cost[\"flatbedtruck.mt_km\"] * (\n",
    "                (SP.other_params[selectivity]['chlys_amount'][scenario]/1000) * 50 * 1.6) +\n",
    "                    cost[\"flatbedtruck.mt_km\"] * (\n",
    "                        P.etoh_feed_stream_mass_kg/1000 * SP.common_params['etoh_distribution_truck'][scenario]))\n",
    "            y[\"electricity.{}.kWh\".format(P.facility_electricity)] = (\n",
    "                cost[\"electricity.{}.kWh\".format(P.facility_electricity)] * (\n",
    "                    SP.other_params[selectivity]['electricity_requirements'][scenario]))\n",
    "\n",
    "            biorefinery_direct_ghg = 0\n",
    "                    \n",
    "        if (selectivity == \"iHG-Current\"):\n",
    "            # Data needs to be updated for H2SO4! \n",
    "            y[\"lysine.us.kg\"] = cost[\"lysine.us.kg\"] * SP.other_params[selectivity]['chlys_amount'][scenario] * 0.58        \n",
    "            # 55% lysine + 45% ChOH for Chylys production (assumption) \n",
    "            y[\"cholinium.hydroxide.kg\"] = (cost[\"cholinium.hydroxide.kg\"] * \n",
    "                                           SP.other_params[selectivity]['chlys_amount'][scenario] * 0.42)  \n",
    "            # 50% lysine + 50% ChOH for Chylys production (assumption) \n",
    "            y[\"cellulase.kg\"] = cost[\"cellulase.kg\"] * SP.common_params['enzyme'][scenario]\n",
    "            y[\"csl.kg\"] = cost[\"csl.kg\"] * 0.05\n",
    "            y[\"farmedstover.kg\"] = cost[\"farmedstover.kg\"] * SP.other_params[selectivity]['feedstock'][scenario]\n",
    "            y[\"dap.kg\"] = cost[\"dap.kg\"] * 0.01\n",
    "            y[\"hcl.kg\"] = cost[\"hcl.kg\"] * 0.18\n",
    "            y[\"rail.mt_km\"] = (cost[\"rail.mt_km\"] * (\n",
    "                (SP.other_params[selectivity]['chlys_amount'][scenario]/1000) * 100 * 1.6) + (\n",
    "                P.etoh_feed_stream_mass_kg/1000 * SP.common_params['etoh_distribution_rail'][scenario]))\n",
    "            y[\"flatbedtruck.mt_km\"] = (cost[\"flatbedtruck.mt_km\"] * (\n",
    "                (SP.other_params[selectivity]['chlys_amount'][scenario]/1000) * 50 * 1.6) +\n",
    "                    cost[\"flatbedtruck.mt_km\"] * (\n",
    "                        P.etoh_feed_stream_mass_kg/1000 * SP.common_params['etoh_distribution_truck'][scenario])) \n",
    "\n",
    "            y[\"electricity.{}.kWh\".format(P.facility_electricity)] = (\n",
    "                cost[\"electricity.{}.kWh\".format(P.facility_electricity)] * (\n",
    "                    SP.other_params[selectivity]['electricity_requirements'][scenario]))\n",
    "\n",
    "        results_kg_co2e = hf.TotalGHGEmissions(io_data, y, cost, \n",
    "                                               biorefinery_direct_ghg, P.combustion_direct_ghg)\n",
    "        \n",
    "        results_kg_co2e_dict = results_kg_co2e.set_index('products')['ghg_results_kg'].to_dict()\n",
    "\n",
    "        m = hf.AggregateResults(m, results_kg_co2e_dict, selectivity, scenario)\n",
    "        \n",
    "        m[scenario][selectivity] = m[scenario][selectivity] * 1000/27 # converting kg per kg results to g per MJ"
   ]
  },
  {
   "cell_type": "code",
   "execution_count": 10,
   "metadata": {
    "collapsed": false
   },
   "outputs": [
    {
     "data": {
      "text/plain": [
       "0.16281498562583571"
      ]
     },
     "execution_count": 10,
     "metadata": {},
     "output_type": "execute_result"
    }
   ],
   "source": [
    "sum([results_kg_co2e_dict[\"flatbedtruck.mt_km\"], \n",
    "                                              results_kg_co2e_dict[\"tankertruck.mt_km\"],\n",
    "                                              results_kg_co2e_dict[\"rail.mt_km\"],\n",
    "                                              results_kg_co2e_dict[\"gaspipeline.mt_km\"],\n",
    "                                              results_kg_co2e_dict[\"liquidpipeline.mt_km\"],\n",
    "                                              results_kg_co2e_dict[\"barge.mt_km\"],\n",
    "                                              results_kg_co2e_dict[\"marinetanker.mt_km\"]])"
   ]
  },
  {
   "cell_type": "code",
   "execution_count": null,
   "metadata": {
    "collapsed": true
   },
   "outputs": [],
   "source": []
  },
  {
   "cell_type": "code",
   "execution_count": null,
   "metadata": {
    "collapsed": false
   },
   "outputs": [],
   "source": [
    "num_sectors = A.shape[1] \n",
    "I = np.zeros((A.shape[1], A.shape[1]), int)\n",
    "np.fill_diagonal(I, 1)\n",
    "#solution = np.linalg.solve((I - A), y)"
   ]
  },
  {
   "cell_type": "code",
   "execution_count": null,
   "metadata": {
    "collapsed": false
   },
   "outputs": [],
   "source": [
    "c = I-A"
   ]
  },
  {
   "cell_type": "code",
   "execution_count": null,
   "metadata": {
    "collapsed": false
   },
   "outputs": [],
   "source": [
    "cd = pd.DataFrame(c, columns=io_data.drop(['products'],1).columns)"
   ]
  },
  {
   "cell_type": "code",
   "execution_count": null,
   "metadata": {
    "collapsed": false
   },
   "outputs": [],
   "source": [
    "cd.loc[:, (cd[:2] != 0).any()][:2]"
   ]
  },
  {
   "cell_type": "code",
   "execution_count": null,
   "metadata": {
    "collapsed": false
   },
   "outputs": [],
   "source": [
    "io_data.loc[:, (io_data[:2] != 0).any()][:2]"
   ]
  },
  {
   "cell_type": "code",
   "execution_count": null,
   "metadata": {
    "collapsed": false
   },
   "outputs": [],
   "source": [
    "n = {} \n",
    "for scenario in P.scenario_range:\n",
    "    n_new_data = np.zeros([3,3])\n",
    "    n = pd.DataFrame(n_new_data, columns=P.selectivity, index=P.scenario_range)\n",
    "        "
   ]
  },
  {
   "cell_type": "code",
   "execution_count": null,
   "metadata": {
    "collapsed": false
   },
   "outputs": [],
   "source": [
    "biorefinery_direct_ghg = 0\n",
    "for selectivity in P.selectivity:\n",
    "    for scenario in P.scenario_range:\n",
    "        y[\"electricity.{}.kWh\".format(P.facility_electricity)] = (\n",
    "                -cost[\"electricity.{}.kWh\".format(P.facility_electricity)] * (\n",
    "                    SP.other_params[selectivity]['electricity_credit'][scenario]))\n",
    "        \n",
    "        results_kg_co2e = hf.TotalGHGEmissions(io_data, y, cost, \n",
    "                                               biorefinery_direct_ghg, P.combustion_direct_ghg)\n",
    "        results_kg_co2e_dict = results_kg_co2e.set_index('products')['ghg_results_kg'].to_dict()\n",
    "        n[selectivity][scenario] = results_kg_co2e_dict[\"electricity.US.kWh\"]"
   ]
  },
  {
   "cell_type": "code",
   "execution_count": null,
   "metadata": {
    "collapsed": false
   },
   "outputs": [],
   "source": [
    "results_kg_co2e_dict"
   ]
  },
  {
   "cell_type": "code",
   "execution_count": null,
   "metadata": {
    "collapsed": false
   },
   "outputs": [],
   "source": [
    "results_kg_co2e_dict[\"electricity.US.kWh\"].sum()"
   ]
  },
  {
   "cell_type": "code",
   "execution_count": null,
   "metadata": {
    "collapsed": false
   },
   "outputs": [],
   "source": [
    "A = np.matrix([[0,2,2],[2,0,2],[2,2,0]])"
   ]
  },
  {
   "cell_type": "code",
   "execution_count": null,
   "metadata": {
    "collapsed": false
   },
   "outputs": [],
   "source": [
    "A"
   ]
  },
  {
   "cell_type": "code",
   "execution_count": null,
   "metadata": {
    "collapsed": false
   },
   "outputs": [],
   "source": [
    "I = np.zeros((A.shape[1], A.shape[1]), int)\n",
    "np.fill_diagonal(I, 1)"
   ]
  },
  {
   "cell_type": "code",
   "execution_count": null,
   "metadata": {
    "collapsed": false
   },
   "outputs": [],
   "source": [
    "I"
   ]
  },
  {
   "cell_type": "code",
   "execution_count": null,
   "metadata": {
    "collapsed": false
   },
   "outputs": [],
   "source": [
    "(I-A)"
   ]
  },
  {
   "cell_type": "code",
   "execution_count": null,
   "metadata": {
    "collapsed": true
   },
   "outputs": [],
   "source": [
    "y=[1,1,1]"
   ]
  },
  {
   "cell_type": "code",
   "execution_count": null,
   "metadata": {
    "collapsed": false
   },
   "outputs": [],
   "source": [
    "np.linalg.solve((I - A), y)"
   ]
  },
  {
   "cell_type": "code",
   "execution_count": null,
   "metadata": {
    "collapsed": true
   },
   "outputs": [],
   "source": []
  }
 ],
 "metadata": {
  "kernelspec": {
   "display_name": "Python 2",
   "language": "python",
   "name": "python2"
  },
  "language_info": {
   "codemirror_mode": {
    "name": "ipython",
    "version": 2
   },
   "file_extension": ".py",
   "mimetype": "text/x-python",
   "name": "python",
   "nbconvert_exporter": "python",
   "pygments_lexer": "ipython2",
   "version": "2.7.12"
  }
 },
 "nbformat": 4,
 "nbformat_minor": 0
}
