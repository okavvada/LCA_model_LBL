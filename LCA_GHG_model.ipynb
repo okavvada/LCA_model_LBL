{
 "cells": [
  {
   "cell_type": "code",
   "execution_count": 1,
   "metadata": {
    "collapsed": false
   },
   "outputs": [],
   "source": [
    "import pandas as pd\n",
    "import numpy as np\n",
    "import parameters as P\n",
    "import sensitivity_parameters as SP\n",
    "import helper_functions as hf"
   ]
  },
  {
   "cell_type": "code",
   "execution_count": 2,
   "metadata": {
    "collapsed": true
   },
   "outputs": [],
   "source": [
    "import matplotlib.pyplot as plt\n",
    "%matplotlib inline"
   ]
  },
  {
   "cell_type": "code",
   "execution_count": 3,
   "metadata": {
    "collapsed": true
   },
   "outputs": [],
   "source": [
    "io_data = pd.read_csv(P.io_table_dollars_path)"
   ]
  },
  {
   "cell_type": "code",
   "execution_count": 4,
   "metadata": {
    "collapsed": false
   },
   "outputs": [],
   "source": [
    "cost = hf.csv_dict_list(P.cost_impact_path)"
   ]
  },
  {
   "cell_type": "code",
   "execution_count": 5,
   "metadata": {
    "collapsed": false
   },
   "outputs": [],
   "source": [
    "y = {}\n",
    "for item in cost.keys():\n",
    "    y.update({item:0})"
   ]
  },
  {
   "cell_type": "code",
   "execution_count": 6,
   "metadata": {
    "collapsed": false
   },
   "outputs": [],
   "source": [
    "m = {} \n",
    "for scenario in P.scenario_range:\n",
    "    new_data = np.zeros([7,3])\n",
    "    m[scenario] = pd.DataFrame(new_data, columns=P.selectivity, index=P.processes)"
   ]
  },
  {
   "cell_type": "code",
   "execution_count": 7,
   "metadata": {
    "collapsed": false
   },
   "outputs": [],
   "source": [
    "for selectivity in P.selectivity:\n",
    "    for scenario in P.scenario_range:\n",
    "        y[\"lysine.us.kg\"] = cost[\"lysine.us.kg\"] * (SP.other_params[selectivity]['chlys_amount'][scenario] * \n",
    "                            SP.common_params['chlys_percent'][scenario]) \n",
    "        # 58% lysine + 42% ChOH for Chylys production (Stoichiometry) \n",
    "        y[\"cholinium.hydroxide.kg\"] = (cost[\"cholinium.hydroxide.kg\"] * \n",
    "                                       SP.other_params[selectivity]['chlys_amount'][scenario] * \n",
    "                                       SP.common_params['cholinium_percent'][scenario])  \n",
    "        # 58% lysine + 42% ChOH for Chylys production (Stoichiometry) \n",
    "        y[\"cellulase.kg\"] = cost[\"cellulase.kg\"] * SP.common_params['enzyme'][scenario]\n",
    "        y[\"csl.kg\"] = cost[\"csl.kg\"] * SP.other_params[selectivity]['csl.kg'][scenario]\n",
    "        y[\"farmedstover.kg\"] = cost[\"farmedstover.kg\"] * SP.other_params[selectivity]['feedstock'][scenario]  \n",
    "        y[\"dap.kg\"] = cost[\"dap.kg\"] * SP.other_params[selectivity]['dap.kg'][scenario] \n",
    "        y[\"h2so4.kg\"] = cost[\"h2so4.kg\"] * SP.other_params[selectivity]['h2so4.kg'][scenario]\n",
    "        y[\"naturalgas.MJ\"] = cost[\"naturalgas.MJ\"] * (hf.FuelConvertMJ(\n",
    "                            SP.other_params[selectivity]['ng_input_stream_mass_ww_kg'][scenario], \"naturalgas\",\"kg\"))\n",
    "        y[\"rail.mt_km\"] = (cost[\"rail.mt_km\"] * (SP.other_params[selectivity]['chlys_amount'][scenario]/1000) * \n",
    "                        SP.common_params['chlys_rail_mt_km'][scenario] +\n",
    "                            cost[\"rail.mt_km\"] * (\n",
    "                                P.etoh_feed_stream_mass_kg/1000 * SP.common_params['etoh_distribution_rail'][scenario])) \n",
    "        y[\"flatbedtruck.mt_km\"] = (cost[\"flatbedtruck.mt_km\"] * (\n",
    "                (SP.other_params[selectivity]['chlys_amount'][scenario]/1000) * \n",
    "                    SP.common_params['chlys_flatbedtruck_mt_km'][scenario]) +\n",
    "                        cost[\"flatbedtruck.mt_km\"] * (P.etoh_feed_stream_mass_kg/1000 * (\n",
    "                            SP.common_params['etoh_distribution_truck'][scenario])))\n",
    "        y[\"electricity.{}.kWh\".format(P.facility_electricity)] = (\n",
    "            cost[\"electricity.{}.kWh\".format(P.facility_electricity)] * (\n",
    "                SP.other_params[selectivity]['electricity_requirements'][scenario]))\n",
    "        y[\"hcl.kg\"] = cost[\"hcl.kg\"] * SP.other_params[selectivity]['hcl.kg'][scenario]\n",
    "\n",
    "        biorefinery_direct_ghg = hf.FuelCO2kg(hf.FuelConvertMJ(\n",
    "                SP.other_params[selectivity]['ng_input_stream_mass_ww_kg'][scenario],\"naturalgas\",\"kg\"), \"naturalgas\")\n",
    "\n",
    "        results_kg_co2e = hf.TotalGHGEmissions(io_data, y, cost, \n",
    "                                               biorefinery_direct_ghg, P.combustion_direct_ghg)\n",
    "        \n",
    "        results_kg_co2e_dict = results_kg_co2e.set_index('products')['ghg_results_kg'].to_dict()\n",
    "\n",
    "        hf.AggregateResults(m, results_kg_co2e_dict, selectivity, scenario)\n",
    "        \n",
    "        m[scenario][selectivity] = m[scenario][selectivity] * 1000/27 # converting kg per kg results to g per MJ"
   ]
  },
  {
   "cell_type": "code",
   "execution_count": 8,
   "metadata": {
    "collapsed": false
   },
   "outputs": [
    {
     "data": {
      "text/html": [
       "<div>\n",
       "<table border=\"1\" class=\"dataframe\">\n",
       "  <thead>\n",
       "    <tr style=\"text-align: right;\">\n",
       "      <th></th>\n",
       "      <th>iHG-Projected</th>\n",
       "      <th>iHG-Current</th>\n",
       "      <th>waterwash</th>\n",
       "    </tr>\n",
       "  </thead>\n",
       "  <tbody>\n",
       "    <tr>\n",
       "      <th>Farming</th>\n",
       "      <td>2.903830</td>\n",
       "      <td>2.903830</td>\n",
       "      <td>3.379564</td>\n",
       "    </tr>\n",
       "    <tr>\n",
       "      <th>Transportation</th>\n",
       "      <td>3.683544</td>\n",
       "      <td>4.475926</td>\n",
       "      <td>5.472493</td>\n",
       "    </tr>\n",
       "    <tr>\n",
       "      <th>Petroleum</th>\n",
       "      <td>2.182441</td>\n",
       "      <td>2.870289</td>\n",
       "      <td>5.800505</td>\n",
       "    </tr>\n",
       "    <tr>\n",
       "      <th>Electricity</th>\n",
       "      <td>9.505824</td>\n",
       "      <td>18.782255</td>\n",
       "      <td>41.253173</td>\n",
       "    </tr>\n",
       "    <tr>\n",
       "      <th>Chemicals_And_Fertilizers</th>\n",
       "      <td>9.054613</td>\n",
       "      <td>20.188270</td>\n",
       "      <td>18.056143</td>\n",
       "    </tr>\n",
       "    <tr>\n",
       "      <th>Direct</th>\n",
       "      <td>0.000000</td>\n",
       "      <td>0.000000</td>\n",
       "      <td>94.041719</td>\n",
       "    </tr>\n",
       "    <tr>\n",
       "      <th>Other</th>\n",
       "      <td>0.407407</td>\n",
       "      <td>0.777778</td>\n",
       "      <td>0.851852</td>\n",
       "    </tr>\n",
       "  </tbody>\n",
       "</table>\n",
       "</div>"
      ],
      "text/plain": [
       "                           iHG-Projected  iHG-Current  waterwash\n",
       "Farming                         2.903830     2.903830   3.379564\n",
       "Transportation                  3.683544     4.475926   5.472493\n",
       "Petroleum                       2.182441     2.870289   5.800505\n",
       "Electricity                     9.505824    18.782255  41.253173\n",
       "Chemicals_And_Fertilizers       9.054613    20.188270  18.056143\n",
       "Direct                          0.000000     0.000000  94.041719\n",
       "Other                           0.407407     0.777778   0.851852"
      ]
     },
     "execution_count": 8,
     "metadata": {},
     "output_type": "execute_result"
    }
   ],
   "source": [
    "m['avg']"
   ]
  },
  {
   "cell_type": "code",
   "execution_count": 10,
   "metadata": {
    "collapsed": false
   },
   "outputs": [],
   "source": [
    "n = {} \n",
    "for scenario in P.scenario_range:\n",
    "    n_new_data = np.zeros([3,3])\n",
    "    n = pd.DataFrame(n_new_data, columns=P.selectivity, index=P.scenario_range)\n",
    "        "
   ]
  },
  {
   "cell_type": "code",
   "execution_count": 11,
   "metadata": {
    "collapsed": false
   },
   "outputs": [],
   "source": [
    "biorefinery_direct_ghg = 0\n",
    "for selectivity in P.selectivity:\n",
    "    for scenario in P.scenario_range:\n",
    "        y[\"electricity.{}.kWh\".format(P.facility_electricity)] = (\n",
    "                -cost[\"electricity.{}.kWh\".format(P.facility_electricity)] * (\n",
    "                    SP.other_params[selectivity]['electricity_credit'][scenario]))\n",
    "        \n",
    "        results_kg_co2e = hf.TotalGHGEmissions(io_data, y, cost, \n",
    "                                               biorefinery_direct_ghg, P.combustion_direct_ghg)\n",
    "        results_kg_co2e_dict = results_kg_co2e.set_index('products')['ghg_results_kg'].to_dict()\n",
    "        n[selectivity][scenario] = results_kg_co2e_dict[\"electricity.US.kWh\"]"
   ]
  },
  {
   "cell_type": "code",
   "execution_count": 12,
   "metadata": {
    "collapsed": false
   },
   "outputs": [],
   "source": [
    "aggregated_data_avg = m['avg'][['waterwash', 'iHG-Current', 'iHG-Projected']].T\n",
    "aggregated_data_low = m['low'][['waterwash', 'iHG-Current', 'iHG-Projected']].T\n",
    "aggregated_data_high = m['high'][['waterwash', 'iHG-Current', 'iHG-Projected']].T"
   ]
  },
  {
   "cell_type": "code",
   "execution_count": 20,
   "metadata": {
    "collapsed": false
   },
   "outputs": [],
   "source": [
    "bb = aggregated_data_high.to_dict()"
   ]
  },
  {
   "cell_type": "code",
   "execution_count": 21,
   "metadata": {
    "collapsed": false
   },
   "outputs": [
    {
     "data": {
      "text/html": [
       "<div>\n",
       "<table border=\"1\" class=\"dataframe\">\n",
       "  <thead>\n",
       "    <tr style=\"text-align: right;\">\n",
       "      <th></th>\n",
       "      <th>Farming</th>\n",
       "      <th>Transportation</th>\n",
       "      <th>Petroleum</th>\n",
       "      <th>Electricity</th>\n",
       "      <th>Chemicals_And_Fertilizers</th>\n",
       "      <th>Direct</th>\n",
       "      <th>Other</th>\n",
       "    </tr>\n",
       "  </thead>\n",
       "  <tbody>\n",
       "    <tr>\n",
       "      <th>waterwash</th>\n",
       "      <td>3.713196</td>\n",
       "      <td>5.950810</td>\n",
       "      <td>6.252992</td>\n",
       "      <td>45.040133</td>\n",
       "      <td>19.318473</td>\n",
       "      <td>100.502601</td>\n",
       "      <td>0.888889</td>\n",
       "    </tr>\n",
       "    <tr>\n",
       "      <th>iHG-Current</th>\n",
       "      <td>3.194213</td>\n",
       "      <td>4.928090</td>\n",
       "      <td>3.161752</td>\n",
       "      <td>20.879858</td>\n",
       "      <td>22.391631</td>\n",
       "      <td>0.000000</td>\n",
       "      <td>0.814815</td>\n",
       "    </tr>\n",
       "    <tr>\n",
       "      <th>iHG-Projected</th>\n",
       "      <td>3.194213</td>\n",
       "      <td>4.028063</td>\n",
       "      <td>2.381753</td>\n",
       "      <td>10.449636</td>\n",
       "      <td>9.834756</td>\n",
       "      <td>0.000000</td>\n",
       "      <td>0.444444</td>\n",
       "    </tr>\n",
       "  </tbody>\n",
       "</table>\n",
       "</div>"
      ],
      "text/plain": [
       "                Farming  Transportation  Petroleum  Electricity  \\\n",
       "waterwash      3.713196        5.950810   6.252992    45.040133   \n",
       "iHG-Current    3.194213        4.928090   3.161752    20.879858   \n",
       "iHG-Projected  3.194213        4.028063   2.381753    10.449636   \n",
       "\n",
       "               Chemicals_And_Fertilizers      Direct     Other  \n",
       "waterwash                      19.318473  100.502601  0.888889  \n",
       "iHG-Current                    22.391631    0.000000  0.814815  \n",
       "iHG-Projected                   9.834756    0.000000  0.444444  "
      ]
     },
     "execution_count": 21,
     "metadata": {},
     "output_type": "execute_result"
    }
   ],
   "source": [
    "aggregated_data_high"
   ]
  },
  {
   "cell_type": "code",
   "execution_count": 22,
   "metadata": {
    "collapsed": false
   },
   "outputs": [
    {
     "data": {
      "text/plain": [
       "{'Chemicals_And_Fertilizers': {'iHG-Current': 22.391631284370892,\n",
       "  'iHG-Projected': 9.8347563943862504,\n",
       "  'waterwash': 19.318473424537292},\n",
       " 'Direct': {'iHG-Current': 0.0,\n",
       "  'iHG-Projected': 0.0,\n",
       "  'waterwash': 100.50260065066666},\n",
       " 'Electricity': {'iHG-Current': 20.879858459592466,\n",
       "  'iHG-Projected': 10.449635889233253,\n",
       "  'waterwash': 45.040133157729031},\n",
       " 'Farming': {'iHG-Current': 3.1942134603703702,\n",
       "  'iHG-Projected': 3.1942134603703702,\n",
       "  'waterwash': 3.7131959181481475},\n",
       " 'Other': {'iHG-Current': 0.81481481481481566,\n",
       "  'iHG-Projected': 0.44444444444444076,\n",
       "  'waterwash': 0.88888888888888973},\n",
       " 'Petroleum': {'iHG-Current': 3.1617516785853161,\n",
       "  'iHG-Projected': 2.3817534808794156,\n",
       "  'waterwash': 6.2529924464261333},\n",
       " 'Transportation': {'iHG-Current': 4.9280895403594052,\n",
       "  'iHG-Projected': 4.0280632242805536,\n",
       "  'waterwash': 5.9508101106890265}}"
      ]
     },
     "execution_count": 22,
     "metadata": {},
     "output_type": "execute_result"
    }
   ],
   "source": [
    "bb"
   ]
  },
  {
   "cell_type": "code",
   "execution_count": 24,
   "metadata": {
    "collapsed": false
   },
   "outputs": [
    {
     "name": "stdout",
     "output_type": "stream",
     "text": [
      "Chemicals_And_Fertilizers\n",
      "Transportation\n",
      "Electricity\n",
      "Petroleum\n",
      "Direct\n",
      "Other\n",
      "Farming\n"
     ]
    }
   ],
   "source": [
    "\n",
    "for key, value in bb.iteritems():\n",
    "    key"
   ]
  },
  {
   "cell_type": "code",
   "execution_count": 54,
   "metadata": {
    "collapsed": false
   },
   "outputs": [
    {
     "data": {
      "text/html": [
       "<div>\n",
       "<table border=\"1\" class=\"dataframe\">\n",
       "  <thead>\n",
       "    <tr style=\"text-align: right;\">\n",
       "      <th></th>\n",
       "      <th>Farming</th>\n",
       "      <th>Transportation</th>\n",
       "      <th>Petroleum</th>\n",
       "      <th>Electricity</th>\n",
       "      <th>Chemicals_And_Fertilizers</th>\n",
       "      <th>Direct</th>\n",
       "      <th>Other</th>\n",
       "      <th>electricity_credit</th>\n",
       "    </tr>\n",
       "  </thead>\n",
       "  <tbody>\n",
       "    <tr>\n",
       "      <th>waterwash</th>\n",
       "      <td>3.713196</td>\n",
       "      <td>5.950810</td>\n",
       "      <td>6.252992</td>\n",
       "      <td>45.040133</td>\n",
       "      <td>19.318473</td>\n",
       "      <td>100.502601</td>\n",
       "      <td>0.888889</td>\n",
       "      <td>0.00</td>\n",
       "    </tr>\n",
       "    <tr>\n",
       "      <th>iHG-Current</th>\n",
       "      <td>3.194213</td>\n",
       "      <td>4.928090</td>\n",
       "      <td>3.161752</td>\n",
       "      <td>20.879858</td>\n",
       "      <td>22.391631</td>\n",
       "      <td>0.000000</td>\n",
       "      <td>0.814815</td>\n",
       "      <td>-0.78</td>\n",
       "    </tr>\n",
       "    <tr>\n",
       "      <th>iHG-Projected</th>\n",
       "      <td>3.194213</td>\n",
       "      <td>4.028063</td>\n",
       "      <td>2.381753</td>\n",
       "      <td>10.449636</td>\n",
       "      <td>9.834756</td>\n",
       "      <td>0.000000</td>\n",
       "      <td>0.444444</td>\n",
       "      <td>-2.10</td>\n",
       "    </tr>\n",
       "  </tbody>\n",
       "</table>\n",
       "</div>"
      ],
      "text/plain": [
       "                Farming  Transportation  Petroleum  Electricity  \\\n",
       "waterwash      3.713196        5.950810   6.252992    45.040133   \n",
       "iHG-Current    3.194213        4.928090   3.161752    20.879858   \n",
       "iHG-Projected  3.194213        4.028063   2.381753    10.449636   \n",
       "\n",
       "               Chemicals_And_Fertilizers      Direct     Other  \\\n",
       "waterwash                      19.318473  100.502601  0.888889   \n",
       "iHG-Current                    22.391631    0.000000  0.814815   \n",
       "iHG-Projected                   9.834756    0.000000  0.444444   \n",
       "\n",
       "               electricity_credit  \n",
       "waterwash                    0.00  \n",
       "iHG-Current                 -0.78  \n",
       "iHG-Projected               -2.10  "
      ]
     },
     "execution_count": 54,
     "metadata": {},
     "output_type": "execute_result"
    }
   ],
   "source": [
    "aggregated_data_high['error_max'] = "
   ]
  },
  {
   "cell_type": "code",
   "execution_count": 47,
   "metadata": {
    "collapsed": false
   },
   "outputs": [],
   "source": [
    "aggregated_data_avg['electricity_credit'] = [0, -1.25, -15.22]\n",
    "aggregated_data_low['electricity_credit'] = [0, -9.5, -25.54]\n",
    "aggregated_data_high['electricity_credit'] = [0, -0.78, -2.1]"
   ]
  },
  {
   "cell_type": "code",
   "execution_count": 48,
   "metadata": {
    "collapsed": true
   },
   "outputs": [],
   "source": [
    "aggregated_data_avg_pos = aggregated_data_avg.drop(['electricity_credit'],1)\n",
    "aggregated_data_low_pos = aggregated_data_low.drop(['electricity_credit'],1)\n",
    "aggregated_data_high_pos = aggregated_data_high.drop(['electricity_credit'],1)"
   ]
  },
  {
   "cell_type": "code",
   "execution_count": 49,
   "metadata": {
    "collapsed": false
   },
   "outputs": [],
   "source": [
    "aggregated_data_avg_plot = aggregated_data_avg[list(reversed(aggregated_data_avg.columns.values))]"
   ]
  },
  {
   "cell_type": "code",
   "execution_count": 50,
   "metadata": {
    "collapsed": false
   },
   "outputs": [
    {
     "data": {
      "text/html": [
       "<div>\n",
       "<table border=\"1\" class=\"dataframe\">\n",
       "  <thead>\n",
       "    <tr style=\"text-align: right;\">\n",
       "      <th></th>\n",
       "      <th>electricity_credit</th>\n",
       "      <th>Other</th>\n",
       "      <th>Direct</th>\n",
       "      <th>Chemicals_And_Fertilizers</th>\n",
       "      <th>Electricity</th>\n",
       "      <th>Petroleum</th>\n",
       "      <th>Transportation</th>\n",
       "      <th>Farming</th>\n",
       "    </tr>\n",
       "  </thead>\n",
       "  <tbody>\n",
       "    <tr>\n",
       "      <th>waterwash</th>\n",
       "      <td>0.00</td>\n",
       "      <td>0.851852</td>\n",
       "      <td>94.041719</td>\n",
       "      <td>18.056143</td>\n",
       "      <td>41.253173</td>\n",
       "      <td>5.800505</td>\n",
       "      <td>5.472493</td>\n",
       "      <td>3.379564</td>\n",
       "    </tr>\n",
       "    <tr>\n",
       "      <th>iHG-Current</th>\n",
       "      <td>-1.25</td>\n",
       "      <td>0.777778</td>\n",
       "      <td>0.000000</td>\n",
       "      <td>20.188270</td>\n",
       "      <td>18.782255</td>\n",
       "      <td>2.870289</td>\n",
       "      <td>4.475926</td>\n",
       "      <td>2.903830</td>\n",
       "    </tr>\n",
       "    <tr>\n",
       "      <th>iHG-Projected</th>\n",
       "      <td>-15.22</td>\n",
       "      <td>0.407407</td>\n",
       "      <td>0.000000</td>\n",
       "      <td>9.054613</td>\n",
       "      <td>9.505824</td>\n",
       "      <td>2.182441</td>\n",
       "      <td>3.683544</td>\n",
       "      <td>2.903830</td>\n",
       "    </tr>\n",
       "  </tbody>\n",
       "</table>\n",
       "</div>"
      ],
      "text/plain": [
       "               electricity_credit     Other     Direct  \\\n",
       "waterwash                    0.00  0.851852  94.041719   \n",
       "iHG-Current                 -1.25  0.777778   0.000000   \n",
       "iHG-Projected              -15.22  0.407407   0.000000   \n",
       "\n",
       "               Chemicals_And_Fertilizers  Electricity  Petroleum  \\\n",
       "waterwash                      18.056143    41.253173   5.800505   \n",
       "iHG-Current                    20.188270    18.782255   2.870289   \n",
       "iHG-Projected                   9.054613     9.505824   2.182441   \n",
       "\n",
       "               Transportation   Farming  \n",
       "waterwash            5.472493  3.379564  \n",
       "iHG-Current          4.475926  2.903830  \n",
       "iHG-Projected        3.683544  2.903830  "
      ]
     },
     "execution_count": 50,
     "metadata": {},
     "output_type": "execute_result"
    }
   ],
   "source": [
    "aggregated_data_avg_plot"
   ]
  },
  {
   "cell_type": "code",
   "execution_count": 51,
   "metadata": {
    "collapsed": false
   },
   "outputs": [],
   "source": [
    "error_min = (aggregated_data_low.sum(axis=1) - aggregated_data_avg_pos.sum(axis=1)).values*(-1)\n",
    "error_max = (aggregated_data_high.sum(axis=1) - aggregated_data_avg_pos.sum(axis=1)).values\n",
    "plt_errors = [error_min, error_max]"
   ]
  },
  {
   "cell_type": "code",
   "execution_count": 56,
   "metadata": {
    "collapsed": false
   },
   "outputs": [],
   "source": [
    "import mpld3\n",
    "mpld3.enable_notebook()\n",
    "# mpld3.disable_notebook()"
   ]
  },
  {
   "cell_type": "code",
   "execution_count": 64,
   "metadata": {
    "collapsed": false
   },
   "outputs": [
    {
     "data": {
      "image/png": "[encoded data removed]",
      "text/html": [
       "\n",
       "\n",
       "<style>\n",
       "\n",
       "</style>\n",
       "\n",
       "<div id=\"fig_el5823844606544169657256802\"></div>\n",
       "<script>\n",
       "function mpld3_load_lib(url, callback){\n",
       "  var s = document.createElement('script');\n",
       "  s.src = url;\n",
       "  s.async = true;\n",
       "  s.onreadystatechange = s.onload = callback;\n",
       "  s.onerror = function(){console.warn(\"failed to load library \" + url);};\n",
       "  document.getElementsByTagName(\"head\")[0].appendChild(s);\n",
       "}\n",
       "\n",
       "if(typeof(mpld3) !== \"undefined\" && mpld3._mpld3IsLoaded){\n",
       "   // already loaded: just create the figure\n",
       "   !function(mpld3){\n",
       "       \n",
       "       mpld3.draw_figure(\"fig_el5823844606544169657256802\", {\"axes\": [{\"xlim\": [-0.5, 2.5], \"yscale\": \"linear\", \"axesbg\": \"#EBEBEB\", \"texts\": [{\"v_baseline\": \"auto\", \"h_anchor\": \"middle\", \"color\": \"#000000\", \"text\": \"gCO2 per MJ\", \"coordinates\": \"axes\", \"zorder\": 3, \"alpha\": 1, \"fontsize\": 18.0, \"position\": [-0.078405017921146944, 0.5], \"rotation\": -90.0, \"id\": \"el582384470962064\"}, {\"v_baseline\": \"auto\", \"h_anchor\": \"start\", \"color\": \"#000000\", \"text\": \"electricity_credit\", \"coordinates\": \"axes\", \"zorder\": 2000003.0, \"alpha\": 1, \"fontsize\": 14.0, \"position\": [1.1078006770211068, 0.58078143667861415], \"rotation\": -0.0, \"id\": \"el582384478593296\"}, {\"v_baseline\": \"auto\", \"h_anchor\": \"start\", \"color\": \"#000000\", \"text\": \"Other\", \"coordinates\": \"axes\", \"zorder\": 2000003.0, \"alpha\": 1, \"fontsize\": 14.0, \"position\": [1.1078006770211068, 0.51631664426523294], \"rotation\": -0.0, \"id\": \"el582384478594576\"}, {\"v_baseline\": \"auto\", \"h_anchor\": \"start\", \"color\": \"#000000\", \"text\": \"Direct\", \"coordinates\": \"axes\", \"zorder\": 2000003.0, \"alpha\": 1, \"fontsize\": 14.0, \"position\": [1.1078006770211068, 0.45508605884109926], \"rotation\": -0.0, \"id\": \"el582384478632784\"}, {\"v_baseline\": \"auto\", \"h_anchor\": \"start\", \"color\": \"#000000\", \"text\": \"Chemicals_And_Fertilizers\", \"coordinates\": \"axes\", \"zorder\": 2000003.0, \"alpha\": 1, \"fontsize\": 14.0, \"position\": [1.1078006770211068, 0.39385547341696531], \"rotation\": -0.0, \"id\": \"el582384478634064\"}, {\"v_baseline\": \"auto\", \"h_anchor\": \"start\", \"color\": \"#000000\", \"text\": \"Electricity\", \"coordinates\": \"axes\", \"zorder\": 2000003.0, \"alpha\": 1, \"fontsize\": 14.0, \"position\": [1.1078006770211068, 0.32939068100358426], \"rotation\": -0.0, \"id\": \"el582384478635344\"}, {\"v_baseline\": \"auto\", \"h_anchor\": \"start\", \"color\": \"#000000\", \"text\": \"Petroleum\", \"coordinates\": \"axes\", \"zorder\": 2000003.0, \"alpha\": 1, \"fontsize\": 14.0, \"position\": [1.1078006770211068, 0.26816009557945042], \"rotation\": -0.0, \"id\": \"el582384463537936\"}, {\"v_baseline\": \"auto\", \"h_anchor\": \"start\", \"color\": \"#000000\", \"text\": \"Transportation\", \"coordinates\": \"axes\", \"zorder\": 2000003.0, \"alpha\": 1, \"fontsize\": 14.0, \"position\": [1.1078006770211068, 0.20692951015531663], \"rotation\": -0.0, \"id\": \"el582384478689488\"}, {\"v_baseline\": \"auto\", \"h_anchor\": \"start\", \"color\": \"#000000\", \"text\": \"Farming\", \"coordinates\": \"axes\", \"zorder\": 2000003.0, \"alpha\": 1, \"fontsize\": 14.0, \"position\": [1.1078006770211068, 0.14569892473118284], \"rotation\": -0.0, \"id\": \"el582384478690768\"}], \"zoomable\": true, \"images\": [], \"xdomain\": [-0.5, 2.5], \"ylim\": [-20.0, 195.0], \"paths\": [{\"edgecolor\": \"#000000\", \"facecolor\": \"#00441B\", \"edgewidth\": 1.0, \"pathcodes\": [\"M\", \"L\", \"L\", \"L\", \"Z\"], \"yindex\": 1, \"coordinates\": \"data\", \"dasharray\": \"none\", \"zorder\": 1, \"alpha\": 1, \"xindex\": 0, \"data\": \"data03\", \"id\": \"el582384477776656\"}, {\"edgecolor\": \"#000000\", \"facecolor\": \"#00441B\", \"edgewidth\": 1.0, \"pathcodes\": [\"M\", \"L\", \"L\", \"L\", \"Z\"], \"yindex\": 1, \"coordinates\": \"data\", \"dasharray\": \"none\", \"zorder\": 1, \"alpha\": 1, \"xindex\": 0, \"data\": \"data04\", \"id\": \"el582384463936016\"}, {\"edgecolor\": \"#000000\", \"facecolor\": \"#00441B\", \"edgewidth\": 1.0, \"pathcodes\": [\"M\", \"L\", \"L\", \"L\", \"Z\"], \"yindex\": 1, \"coordinates\": \"data\", \"dasharray\": \"none\", \"zorder\": 1, \"alpha\": 1, \"xindex\": 0, \"data\": \"data05\", \"id\": \"el582384477779920\"}, {\"edgecolor\": \"#000000\", \"facecolor\": \"#348E48\", \"edgewidth\": 1.0, \"pathcodes\": [\"M\", \"L\", \"L\", \"L\", \"Z\"], \"yindex\": 2, \"coordinates\": \"data\", \"dasharray\": \"none\", \"zorder\": 1, \"alpha\": 1, \"xindex\": 0, \"data\": \"data03\", \"id\": \"el582384477831312\"}, {\"edgecolor\": \"#000000\", \"facecolor\": \"#348E48\", \"edgewidth\": 1.0, \"pathcodes\": [\"M\", \"L\", \"L\", \"L\", \"Z\"], \"yindex\": 2, \"coordinates\": \"data\", \"dasharray\": \"none\", \"zorder\": 1, \"alpha\": 1, \"xindex\": 0, \"data\": \"data04\", \"id\": \"el582384477832592\"}, {\"edgecolor\": \"#000000\", \"facecolor\": \"#348E48\", \"edgewidth\": 1.0, \"pathcodes\": [\"M\", \"L\", \"L\", \"L\", \"Z\"], \"yindex\": 2, \"coordinates\": \"data\", \"dasharray\": \"none\", \"zorder\": 1, \"alpha\": 1, \"xindex\": 0, \"data\": \"data05\", \"id\": \"el582384477883472\"}, {\"edgecolor\": \"#000000\", \"facecolor\": \"#9BD497\", \"edgewidth\": 1.0, \"pathcodes\": [\"M\", \"L\", \"L\", \"L\", \"Z\"], \"yindex\": 3, \"coordinates\": \"data\", \"dasharray\": \"none\", \"zorder\": 1, \"alpha\": 1, \"xindex\": 0, \"data\": \"data03\", \"id\": \"el582384477885648\"}, {\"edgecolor\": \"#000000\", \"facecolor\": \"#9BD497\", \"edgewidth\": 1.0, \"pathcodes\": [\"M\", \"L\", \"L\", \"L\", \"Z\"], \"yindex\": 3, \"coordinates\": \"data\", \"dasharray\": \"none\", \"zorder\": 1, \"alpha\": 1, \"xindex\": 0, \"data\": \"data04\", \"id\": \"el582384477936144\"}, {\"edgecolor\": \"#000000\", \"facecolor\": \"#9BD497\", \"edgewidth\": 1.0, \"pathcodes\": [\"M\", \"L\", \"L\", \"L\", \"Z\"], \"yindex\": 3, \"coordinates\": \"data\", \"dasharray\": \"none\", \"zorder\": 1, \"alpha\": 1, \"xindex\": 0, \"data\": \"data05\", \"id\": \"el582384477937808\"}, {\"edgecolor\": \"#000000\", \"facecolor\": \"#E1F1DC\", \"edgewidth\": 1.0, \"pathcodes\": [\"M\", \"L\", \"L\", \"L\", \"Z\"], \"yindex\": 4, \"coordinates\": \"data\", \"dasharray\": \"none\", \"zorder\": 1, \"alpha\": 1, \"xindex\": 0, \"data\": \"data03\", \"id\": \"el582384477939088\"}, {\"edgecolor\": \"#000000\", \"facecolor\": \"#E1F1DC\", \"edgewidth\": 1.0, \"pathcodes\": [\"M\", \"L\", \"L\", \"L\", \"Z\"], \"yindex\": 4, \"coordinates\": \"data\", \"dasharray\": \"none\", \"zorder\": 1, \"alpha\": 1, \"xindex\": 0, \"data\": \"data04\", \"id\": \"el582384477994576\"}, {\"edgecolor\": \"#000000\", \"facecolor\": \"#E1F1DC\", \"edgewidth\": 1.0, \"pathcodes\": [\"M\", \"L\", \"L\", \"L\", \"Z\"], \"yindex\": 4, \"coordinates\": \"data\", \"dasharray\": \"none\", \"zorder\": 1, \"alpha\": 1, \"xindex\": 0, \"data\": \"data05\", \"id\": \"el582384477996240\"}, {\"edgecolor\": \"#000000\", \"facecolor\": \"#EBDDEC\", \"edgewidth\": 1.0, \"pathcodes\": [\"M\", \"L\", \"L\", \"L\", \"Z\"], \"yindex\": 5, \"coordinates\": \"data\", \"dasharray\": \"none\", \"zorder\": 1, \"alpha\": 1, \"xindex\": 0, \"data\": \"data03\", \"id\": \"el582384478039440\"}, {\"edgecolor\": \"#000000\", \"facecolor\": \"#EBDDEC\", \"edgewidth\": 1.0, \"pathcodes\": [\"M\", \"L\", \"L\", \"L\", \"Z\"], \"yindex\": 5, \"coordinates\": \"data\", \"dasharray\": \"none\", \"zorder\": 1, \"alpha\": 1, \"xindex\": 0, \"data\": \"data04\", \"id\": \"el582384478040720\"}, {\"edgecolor\": \"#000000\", \"facecolor\": \"#EBDDEC\", \"edgewidth\": 1.0, \"pathcodes\": [\"M\", \"L\", \"L\", \"L\", \"Z\"], \"yindex\": 5, \"coordinates\": \"data\", \"dasharray\": \"none\", \"zorder\": 1, \"alpha\": 1, \"xindex\": 0, \"data\": \"data05\", \"id\": \"el582384478042000\"}, {\"edgecolor\": \"#000000\", \"facecolor\": \"#BC9DCA\", \"edgewidth\": 1.0, \"pathcodes\": [\"M\", \"L\", \"L\", \"L\", \"Z\"], \"yindex\": 6, \"coordinates\": \"data\", \"dasharray\": \"none\", \"zorder\": 1, \"alpha\": 1, \"xindex\": 0, \"data\": \"data03\", \"id\": \"el582384478097872\"}, {\"edgecolor\": \"#000000\", \"facecolor\": \"#BC9DCA\", \"edgewidth\": 1.0, \"pathcodes\": [\"M\", \"L\", \"L\", \"L\", \"Z\"], \"yindex\": 6, \"coordinates\": \"data\", \"dasharray\": \"none\", \"zorder\": 1, \"alpha\": 1, \"xindex\": 0, \"data\": \"data04\", \"id\": \"el582384478099152\"}, {\"edgecolor\": \"#000000\", \"facecolor\": \"#BC9DCA\", \"edgewidth\": 1.0, \"pathcodes\": [\"M\", \"L\", \"L\", \"L\", \"Z\"], \"yindex\": 6, \"coordinates\": \"data\", \"dasharray\": \"none\", \"zorder\": 1, \"alpha\": 1, \"xindex\": 0, \"data\": \"data05\", \"id\": \"el582384478150032\"}, {\"edgecolor\": \"#000000\", \"facecolor\": \"#844693\", \"edgewidth\": 1.0, \"pathcodes\": [\"M\", \"L\", \"L\", \"L\", \"Z\"], \"yindex\": 7, \"coordinates\": \"data\", \"dasharray\": \"none\", \"zorder\": 1, \"alpha\": 1, \"xindex\": 0, \"data\": \"data03\", \"id\": \"el582384478152208\"}, {\"edgecolor\": \"#000000\", \"facecolor\": \"#844693\", \"edgewidth\": 1.0, \"pathcodes\": [\"M\", \"L\", \"L\", \"L\", \"Z\"], \"yindex\": 7, \"coordinates\": \"data\", \"dasharray\": \"none\", \"zorder\": 1, \"alpha\": 1, \"xindex\": 0, \"data\": \"data04\", \"id\": \"el582384478206800\"}, {\"edgecolor\": \"#000000\", \"facecolor\": \"#844693\", \"edgewidth\": 1.0, \"pathcodes\": [\"M\", \"L\", \"L\", \"L\", \"Z\"], \"yindex\": 7, \"coordinates\": \"data\", \"dasharray\": \"none\", \"zorder\": 1, \"alpha\": 1, \"xindex\": 0, \"data\": \"data05\", \"id\": \"el582384478208464\"}, {\"edgecolor\": \"#000000\", \"facecolor\": \"#40004B\", \"edgewidth\": 1.0, \"pathcodes\": [\"M\", \"L\", \"L\", \"L\", \"Z\"], \"yindex\": 8, \"coordinates\": \"data\", \"dasharray\": \"none\", \"zorder\": 1, \"alpha\": 1, \"xindex\": 0, \"data\": \"data03\", \"id\": \"el582384478209936\"}, {\"edgecolor\": \"#000000\", \"facecolor\": \"#40004B\", \"edgewidth\": 1.0, \"pathcodes\": [\"M\", \"L\", \"L\", \"L\", \"Z\"], \"yindex\": 8, \"coordinates\": \"data\", \"dasharray\": \"none\", \"zorder\": 1, \"alpha\": 1, \"xindex\": 0, \"data\": \"data04\", \"id\": \"el582384478261136\"}, {\"edgecolor\": \"#000000\", \"facecolor\": \"#40004B\", \"edgewidth\": 1.0, \"pathcodes\": [\"M\", \"L\", \"L\", \"L\", \"Z\"], \"yindex\": 8, \"coordinates\": \"data\", \"dasharray\": \"none\", \"zorder\": 1, \"alpha\": 1, \"xindex\": 0, \"data\": \"data05\", \"id\": \"el582384478262800\"}, {\"edgecolor\": \"#000000\", \"facecolor\": \"#00441B\", \"edgewidth\": 1.0, \"pathcodes\": [\"M\", \"L\", \"L\", \"L\", \"Z\"], \"yindex\": 1, \"coordinates\": \"axes\", \"dasharray\": \"none\", \"zorder\": 2000001.0, \"alpha\": 1, \"xindex\": 0, \"data\": \"data07\", \"id\": \"el582384478594192\"}, {\"edgecolor\": \"#000000\", \"facecolor\": \"#348E48\", \"edgewidth\": 1.0, \"pathcodes\": [\"M\", \"L\", \"L\", \"L\", \"Z\"], \"yindex\": 2, \"coordinates\": \"axes\", \"dasharray\": \"none\", \"zorder\": 2000001.0, \"alpha\": 1, \"xindex\": 0, \"data\": \"data07\", \"id\": \"el582384478632400\"}, {\"edgecolor\": \"#000000\", \"facecolor\": \"#9BD497\", \"edgewidth\": 1.0, \"pathcodes\": [\"M\", \"L\", \"L\", \"L\", \"Z\"], \"yindex\": 3, \"coordinates\": \"axes\", \"dasharray\": \"none\", \"zorder\": 2000001.0, \"alpha\": 1, \"xindex\": 0, \"data\": \"data07\", \"id\": \"el582384478633680\"}, {\"edgecolor\": \"#000000\", \"facecolor\": \"#E1F1DC\", \"edgewidth\": 1.0, \"pathcodes\": [\"M\", \"L\", \"L\", \"L\", \"Z\"], \"yindex\": 4, \"coordinates\": \"axes\", \"dasharray\": \"none\", \"zorder\": 2000001.0, \"alpha\": 1, \"xindex\": 0, \"data\": \"data07\", \"id\": \"el582384478634960\"}, {\"edgecolor\": \"#000000\", \"facecolor\": \"#EBDDEC\", \"edgewidth\": 1.0, \"pathcodes\": [\"M\", \"L\", \"L\", \"L\", \"Z\"], \"yindex\": 5, \"coordinates\": \"axes\", \"dasharray\": \"none\", \"zorder\": 2000001.0, \"alpha\": 1, \"xindex\": 0, \"data\": \"data07\", \"id\": \"el582384478560336\"}, {\"edgecolor\": \"#000000\", \"facecolor\": \"#BC9DCA\", \"edgewidth\": 1.0, \"pathcodes\": [\"M\", \"L\", \"L\", \"L\", \"Z\"], \"yindex\": 6, \"coordinates\": \"axes\", \"dasharray\": \"none\", \"zorder\": 2000001.0, \"alpha\": 1, \"xindex\": 0, \"data\": \"data07\", \"id\": \"el582384478635792\"}, {\"edgecolor\": \"#000000\", \"facecolor\": \"#844693\", \"edgewidth\": 1.0, \"pathcodes\": [\"M\", \"L\", \"L\", \"L\", \"Z\"], \"yindex\": 7, \"coordinates\": \"axes\", \"dasharray\": \"none\", \"zorder\": 2000001.0, \"alpha\": 1, \"xindex\": 0, \"data\": \"data07\", \"id\": \"el582384478690384\"}, {\"edgecolor\": \"#000000\", \"facecolor\": \"#40004B\", \"edgewidth\": 1.0, \"pathcodes\": [\"M\", \"L\", \"L\", \"L\", \"Z\"], \"yindex\": 8, \"coordinates\": \"axes\", \"dasharray\": \"none\", \"zorder\": 2000001.0, \"alpha\": 1, \"xindex\": 0, \"data\": \"data07\", \"id\": \"el582384478691664\"}, {\"edgecolor\": \"#000000\", \"facecolor\": \"#FFFFFF\", \"edgewidth\": 1.0, \"pathcodes\": [\"M\", \"L\", \"S\", \"L\", \"S\", \"L\", \"S\", \"L\", \"S\", \"Z\"], \"yindex\": 1, \"coordinates\": \"axes\", \"dasharray\": \"none\", \"zorder\": 1999999.0, \"alpha\": 1, \"xindex\": 0, \"data\": \"data08\", \"id\": \"el582384478592912\"}], \"sharey\": [], \"sharex\": [], \"axesbgalpha\": null, \"axes\": [{\"scale\": \"linear\", \"tickformat\": [\"waterwash\", \"iHG-Current\", \"iHG-Projected\"], \"grid\": {\"gridOn\": false}, \"visible\": true, \"fontsize\": 16.0, \"position\": \"bottom\", \"nticks\": 3, \"tickvalues\": [0, 1, 2]}, {\"scale\": \"linear\", \"tickformat\": null, \"grid\": {\"gridOn\": false}, \"visible\": true, \"fontsize\": 16.0, \"position\": \"left\", \"nticks\": 6, \"tickvalues\": null}], \"lines\": [{\"drawstyle\": \"default\", \"color\": \"#000000\", \"yindex\": 1, \"coordinates\": \"display\", \"dasharray\": \"none\", \"zorder\": 2, \"alpha\": 1, \"xindex\": 0, \"linewidth\": 2.0, \"data\": \"data02\", \"id\": \"el582384475674000\"}], \"markers\": [{\"edgecolor\": \"#000000\", \"facecolor\": \"#000000\", \"edgewidth\": 2, \"yindex\": 1, \"coordinates\": \"data\", \"zorder\": 2, \"markerpath\": [[[5.0, 3.061616997868383e-16], [-5.0, -3.061616997868383e-16]], [\"M\", \"L\"]], \"alpha\": 1, \"xindex\": 0, \"data\": \"data01\", \"id\": \"el582384478319120pts\"}, {\"edgecolor\": \"#000000\", \"facecolor\": \"#000000\", \"edgewidth\": 2, \"yindex\": 2, \"coordinates\": \"data\", \"zorder\": 2, \"markerpath\": [[[5.0, 3.061616997868383e-16], [-5.0, -3.061616997868383e-16]], [\"M\", \"L\"]], \"alpha\": 1, \"xindex\": 0, \"data\": \"data01\", \"id\": \"el582384478319440pts\"}], \"id\": \"el582384445627536\", \"ydomain\": [-20.0, 195.0], \"collections\": [{\"paths\": [[[[0.0, 145.91751126410298], [0.0, 181.6670945970852]], [\"M\", \"L\"]], [[[1.0, 35.08930002204857], [1.0, 54.590359238093264]], [\"M\", \"L\"]], [[[2.0, -0.3605121410530394], [2.0, 28.23286689359428]], [\"M\", \"L\"]]], \"edgecolors\": [\"#000000\"], \"edgewidths\": [2.0], \"offsets\": \"data06\", \"yindex\": 1, \"id\": \"el582384478317776\", \"pathtransforms\": [], \"pathcoordinates\": \"data\", \"offsetcoordinates\": \"display\", \"zorder\": 2, \"xindex\": 0, \"alphas\": [null], \"facecolors\": []}], \"xscale\": \"linear\", \"bbox\": [0.125, 0.125, 0.77500000000000002, 0.77500000000000002]}], \"height\": 480.0, \"width\": 720.0, \"plugins\": [{\"type\": \"reset\"}, {\"enabled\": false, \"button\": true, \"type\": \"zoom\"}, {\"enabled\": false, \"button\": true, \"type\": \"boxzoom\"}], \"data\": {\"data08\": [[1.024168657905217, 0.12090800477897257], [1.4758313420947828, 0.12090800477897257], [1.4814068100358422, 0.12090800477897257], [1.4814068100358422, 0.12927120669056158], [1.4814068100358422, 0.6214027031063323], [1.4814068100358422, 0.6297659050179212], [1.4758313420947828, 0.6297659050179212], [1.024168657905217, 0.6297659050179212], [1.0185931899641576, 0.6297659050179212], [1.0185931899641576, 0.6214027031063323], [1.0185931899641576, 0.12927120669056158], [1.0185931899641576, 0.12090800477897257], [1.024168657905217, 0.12090800477897257]], \"data06\": [[0.0, 0.0]], \"data07\": [[1.0297441258462763, 0.5807814366786141, 0.5163166442652329, 0.45508605884109926, 0.3938554734169653, 0.32939068100358426, 0.2681600955794504, 0.20692951015531663, 0.14569892473118284], [1.0854988052568697, 0.5807814366786141, 0.5163166442652329, 0.45508605884109926, 0.3938554734169653, 0.32939068100358426, 0.2681600955794504, 0.20692951015531663, 0.14569892473118284], [1.0854988052568697, 0.6100526433691756, 0.5455878509557944, 0.4843572655316608, 0.42312668010752685, 0.3586618876941458, 0.29743130227001197, 0.23620071684587815, 0.17497013142174436], [1.0297441258462763, 0.6100526433691756, 0.5455878509557944, 0.4843572655316608, 0.42312668010752685, 0.3586618876941458, 0.29743130227001197, 0.23620071684587815, 0.17497013142174436]], \"data04\": [[0.75, -1.25, 0.0, -1.25, 0.7777777777777826, 20.966047869413895, 39.74830325811554, 42.61859196315616, 47.09451773007091], [1.25, -1.25, 0.0, -1.25, 0.7777777777777826, 20.966047869413895, 39.74830325811554, 42.61859196315616, 47.09451773007091], [1.25, 0.0, 0.7777777777777826, -1.25, 20.966047869413895, 39.74830325811554, 42.61859196315616, 47.09451773007091, 49.99834814858943], [0.75, 0.0, 0.7777777777777826, -1.25, 20.966047869413895, 39.74830325811554, 42.61859196315616, 47.09451773007091, 49.99834814858943]], \"data05\": [[1.75, -15.22, 0.0, -15.22, 0.40740740740740783, 9.462020100767491, 18.96784431340992, 21.150284919871297, 24.83382843923359], [2.25, -15.22, 0.0, -15.22, 0.40740740740740783, 9.462020100767491, 18.96784431340992, 21.150284919871297, 24.83382843923359], [2.25, 0.0, 0.40740740740740783, -15.22, 9.462020100767491, 18.96784431340992, 21.150284919871297, 24.83382843923359, 27.737658857752105], [1.75, 0.0, 0.40740740740740783, -15.22, 9.462020100767491, 18.96784431340992, 21.150284919871297, 24.83382843923359, 27.737658857752105]], \"data02\": [[90.0, 94.6046511627907], [648.0, 94.6046511627907]], \"data03\": [[-0.25, 0.0, 0.0, 0.8518518518518732, 94.89357103211856, 112.9497136429621, 154.2028868787064, 160.00339170831242, 165.47588475154114], [0.25, 0.0, 0.0, 0.8518518518518732, 94.89357103211856, 112.9497136429621, 154.2028868787064, 160.00339170831242, 165.47588475154114], [0.25, 0.0, 0.8518518518518732, 94.89357103211856, 112.9497136429621, 154.2028868787064, 160.00339170831242, 165.47588475154114, 168.8554490896893], [-0.25, 0.0, 0.8518518518518732, 94.89357103211856, 112.9497136429621, 154.2028868787064, 160.00339170831242, 165.47588475154114, 168.8554490896893]], \"data01\": [[0.0, 145.91751126410298, 181.6670945970852], [1.0, 35.08930002204857, 54.590359238093264], [2.0, -0.3605121410530394, 28.23286689359428]]}, \"id\": \"el582384460654416\"});\n",
       "   }(mpld3);\n",
       "}else if(typeof define === \"function\" && define.amd){\n",
       "   // require.js is available: use it to load d3/mpld3\n",
       "   require.config({paths: {d3: \"https://mpld3.github.io/js/d3.v3.min\"}});\n",
       "   require([\"d3\"], function(d3){\n",
       "      window.d3 = d3;\n",
       "      mpld3_load_lib(\"https://mpld3.github.io/js/mpld3.v0.3.js\", function(){\n",
       "         \n",
       "         mpld3.draw_figure(\"fig_el5823844606544169657256802\", {\"axes\": [{\"xlim\": [-0.5, 2.5], \"yscale\": \"linear\", \"axesbg\": \"#EBEBEB\", \"texts\": [{\"v_baseline\": \"auto\", \"h_anchor\": \"middle\", \"color\": \"#000000\", \"text\": \"gCO2 per MJ\", \"coordinates\": \"axes\", \"zorder\": 3, \"alpha\": 1, \"fontsize\": 18.0, \"position\": [-0.078405017921146944, 0.5], \"rotation\": -90.0, \"id\": \"el582384470962064\"}, {\"v_baseline\": \"auto\", \"h_anchor\": \"start\", \"color\": \"#000000\", \"text\": \"electricity_credit\", \"coordinates\": \"axes\", \"zorder\": 2000003.0, \"alpha\": 1, \"fontsize\": 14.0, \"position\": [1.1078006770211068, 0.58078143667861415], \"rotation\": -0.0, \"id\": \"el582384478593296\"}, {\"v_baseline\": \"auto\", \"h_anchor\": \"start\", \"color\": \"#000000\", \"text\": \"Other\", \"coordinates\": \"axes\", \"zorder\": 2000003.0, \"alpha\": 1, \"fontsize\": 14.0, \"position\": [1.1078006770211068, 0.51631664426523294], \"rotation\": -0.0, \"id\": \"el582384478594576\"}, {\"v_baseline\": \"auto\", \"h_anchor\": \"start\", \"color\": \"#000000\", \"text\": \"Direct\", \"coordinates\": \"axes\", \"zorder\": 2000003.0, \"alpha\": 1, \"fontsize\": 14.0, \"position\": [1.1078006770211068, 0.45508605884109926], \"rotation\": -0.0, \"id\": \"el582384478632784\"}, {\"v_baseline\": \"auto\", \"h_anchor\": \"start\", \"color\": \"#000000\", \"text\": \"Chemicals_And_Fertilizers\", \"coordinates\": \"axes\", \"zorder\": 2000003.0, \"alpha\": 1, \"fontsize\": 14.0, \"position\": [1.1078006770211068, 0.39385547341696531], \"rotation\": -0.0, \"id\": \"el582384478634064\"}, {\"v_baseline\": \"auto\", \"h_anchor\": \"start\", \"color\": \"#000000\", \"text\": \"Electricity\", \"coordinates\": \"axes\", \"zorder\": 2000003.0, \"alpha\": 1, \"fontsize\": 14.0, \"position\": [1.1078006770211068, 0.32939068100358426], \"rotation\": -0.0, \"id\": \"el582384478635344\"}, {\"v_baseline\": \"auto\", \"h_anchor\": \"start\", \"color\": \"#000000\", \"text\": \"Petroleum\", \"coordinates\": \"axes\", \"zorder\": 2000003.0, \"alpha\": 1, \"fontsize\": 14.0, \"position\": [1.1078006770211068, 0.26816009557945042], \"rotation\": -0.0, \"id\": \"el582384463537936\"}, {\"v_baseline\": \"auto\", \"h_anchor\": \"start\", \"color\": \"#000000\", \"text\": \"Transportation\", \"coordinates\": \"axes\", \"zorder\": 2000003.0, \"alpha\": 1, \"fontsize\": 14.0, \"position\": [1.1078006770211068, 0.20692951015531663], \"rotation\": -0.0, \"id\": \"el582384478689488\"}, {\"v_baseline\": \"auto\", \"h_anchor\": \"start\", \"color\": \"#000000\", \"text\": \"Farming\", \"coordinates\": \"axes\", \"zorder\": 2000003.0, \"alpha\": 1, \"fontsize\": 14.0, \"position\": [1.1078006770211068, 0.14569892473118284], \"rotation\": -0.0, \"id\": \"el582384478690768\"}], \"zoomable\": true, \"images\": [], \"xdomain\": [-0.5, 2.5], \"ylim\": [-20.0, 195.0], \"paths\": [{\"edgecolor\": \"#000000\", \"facecolor\": \"#00441B\", \"edgewidth\": 1.0, \"pathcodes\": [\"M\", \"L\", \"L\", \"L\", \"Z\"], \"yindex\": 1, \"coordinates\": \"data\", \"dasharray\": \"none\", \"zorder\": 1, \"alpha\": 1, \"xindex\": 0, \"data\": \"data03\", \"id\": \"el582384477776656\"}, {\"edgecolor\": \"#000000\", \"facecolor\": \"#00441B\", \"edgewidth\": 1.0, \"pathcodes\": [\"M\", \"L\", \"L\", \"L\", \"Z\"], \"yindex\": 1, \"coordinates\": \"data\", \"dasharray\": \"none\", \"zorder\": 1, \"alpha\": 1, \"xindex\": 0, \"data\": \"data04\", \"id\": \"el582384463936016\"}, {\"edgecolor\": \"#000000\", \"facecolor\": \"#00441B\", \"edgewidth\": 1.0, \"pathcodes\": [\"M\", \"L\", \"L\", \"L\", \"Z\"], \"yindex\": 1, \"coordinates\": \"data\", \"dasharray\": \"none\", \"zorder\": 1, \"alpha\": 1, \"xindex\": 0, \"data\": \"data05\", \"id\": \"el582384477779920\"}, {\"edgecolor\": \"#000000\", \"facecolor\": \"#348E48\", \"edgewidth\": 1.0, \"pathcodes\": [\"M\", \"L\", \"L\", \"L\", \"Z\"], \"yindex\": 2, \"coordinates\": \"data\", \"dasharray\": \"none\", \"zorder\": 1, \"alpha\": 1, \"xindex\": 0, \"data\": \"data03\", \"id\": \"el582384477831312\"}, {\"edgecolor\": \"#000000\", \"facecolor\": \"#348E48\", \"edgewidth\": 1.0, \"pathcodes\": [\"M\", \"L\", \"L\", \"L\", \"Z\"], \"yindex\": 2, \"coordinates\": \"data\", \"dasharray\": \"none\", \"zorder\": 1, \"alpha\": 1, \"xindex\": 0, \"data\": \"data04\", \"id\": \"el582384477832592\"}, {\"edgecolor\": \"#000000\", \"facecolor\": \"#348E48\", \"edgewidth\": 1.0, \"pathcodes\": [\"M\", \"L\", \"L\", \"L\", \"Z\"], \"yindex\": 2, \"coordinates\": \"data\", \"dasharray\": \"none\", \"zorder\": 1, \"alpha\": 1, \"xindex\": 0, \"data\": \"data05\", \"id\": \"el582384477883472\"}, {\"edgecolor\": \"#000000\", \"facecolor\": \"#9BD497\", \"edgewidth\": 1.0, \"pathcodes\": [\"M\", \"L\", \"L\", \"L\", \"Z\"], \"yindex\": 3, \"coordinates\": \"data\", \"dasharray\": \"none\", \"zorder\": 1, \"alpha\": 1, \"xindex\": 0, \"data\": \"data03\", \"id\": \"el582384477885648\"}, {\"edgecolor\": \"#000000\", \"facecolor\": \"#9BD497\", \"edgewidth\": 1.0, \"pathcodes\": [\"M\", \"L\", \"L\", \"L\", \"Z\"], \"yindex\": 3, \"coordinates\": \"data\", \"dasharray\": \"none\", \"zorder\": 1, \"alpha\": 1, \"xindex\": 0, \"data\": \"data04\", \"id\": \"el582384477936144\"}, {\"edgecolor\": \"#000000\", \"facecolor\": \"#9BD497\", \"edgewidth\": 1.0, \"pathcodes\": [\"M\", \"L\", \"L\", \"L\", \"Z\"], \"yindex\": 3, \"coordinates\": \"data\", \"dasharray\": \"none\", \"zorder\": 1, \"alpha\": 1, \"xindex\": 0, \"data\": \"data05\", \"id\": \"el582384477937808\"}, {\"edgecolor\": \"#000000\", \"facecolor\": \"#E1F1DC\", \"edgewidth\": 1.0, \"pathcodes\": [\"M\", \"L\", \"L\", \"L\", \"Z\"], \"yindex\": 4, \"coordinates\": \"data\", \"dasharray\": \"none\", \"zorder\": 1, \"alpha\": 1, \"xindex\": 0, \"data\": \"data03\", \"id\": \"el582384477939088\"}, {\"edgecolor\": \"#000000\", \"facecolor\": \"#E1F1DC\", \"edgewidth\": 1.0, \"pathcodes\": [\"M\", \"L\", \"L\", \"L\", \"Z\"], \"yindex\": 4, \"coordinates\": \"data\", \"dasharray\": \"none\", \"zorder\": 1, \"alpha\": 1, \"xindex\": 0, \"data\": \"data04\", \"id\": \"el582384477994576\"}, {\"edgecolor\": \"#000000\", \"facecolor\": \"#E1F1DC\", \"edgewidth\": 1.0, \"pathcodes\": [\"M\", \"L\", \"L\", \"L\", \"Z\"], \"yindex\": 4, \"coordinates\": \"data\", \"dasharray\": \"none\", \"zorder\": 1, \"alpha\": 1, \"xindex\": 0, \"data\": \"data05\", \"id\": \"el582384477996240\"}, {\"edgecolor\": \"#000000\", \"facecolor\": \"#EBDDEC\", \"edgewidth\": 1.0, \"pathcodes\": [\"M\", \"L\", \"L\", \"L\", \"Z\"], \"yindex\": 5, \"coordinates\": \"data\", \"dasharray\": \"none\", \"zorder\": 1, \"alpha\": 1, \"xindex\": 0, \"data\": \"data03\", \"id\": \"el582384478039440\"}, {\"edgecolor\": \"#000000\", \"facecolor\": \"#EBDDEC\", \"edgewidth\": 1.0, \"pathcodes\": [\"M\", \"L\", \"L\", \"L\", \"Z\"], \"yindex\": 5, \"coordinates\": \"data\", \"dasharray\": \"none\", \"zorder\": 1, \"alpha\": 1, \"xindex\": 0, \"data\": \"data04\", \"id\": \"el582384478040720\"}, {\"edgecolor\": \"#000000\", \"facecolor\": \"#EBDDEC\", \"edgewidth\": 1.0, \"pathcodes\": [\"M\", \"L\", \"L\", \"L\", \"Z\"], \"yindex\": 5, \"coordinates\": \"data\", \"dasharray\": \"none\", \"zorder\": 1, \"alpha\": 1, \"xindex\": 0, \"data\": \"data05\", \"id\": \"el582384478042000\"}, {\"edgecolor\": \"#000000\", \"facecolor\": \"#BC9DCA\", \"edgewidth\": 1.0, \"pathcodes\": [\"M\", \"L\", \"L\", \"L\", \"Z\"], \"yindex\": 6, \"coordinates\": \"data\", \"dasharray\": \"none\", \"zorder\": 1, \"alpha\": 1, \"xindex\": 0, \"data\": \"data03\", \"id\": \"el582384478097872\"}, {\"edgecolor\": \"#000000\", \"facecolor\": \"#BC9DCA\", \"edgewidth\": 1.0, \"pathcodes\": [\"M\", \"L\", \"L\", \"L\", \"Z\"], \"yindex\": 6, \"coordinates\": \"data\", \"dasharray\": \"none\", \"zorder\": 1, \"alpha\": 1, \"xindex\": 0, \"data\": \"data04\", \"id\": \"el582384478099152\"}, {\"edgecolor\": \"#000000\", \"facecolor\": \"#BC9DCA\", \"edgewidth\": 1.0, \"pathcodes\": [\"M\", \"L\", \"L\", \"L\", \"Z\"], \"yindex\": 6, \"coordinates\": \"data\", \"dasharray\": \"none\", \"zorder\": 1, \"alpha\": 1, \"xindex\": 0, \"data\": \"data05\", \"id\": \"el582384478150032\"}, {\"edgecolor\": \"#000000\", \"facecolor\": \"#844693\", \"edgewidth\": 1.0, \"pathcodes\": [\"M\", \"L\", \"L\", \"L\", \"Z\"], \"yindex\": 7, \"coordinates\": \"data\", \"dasharray\": \"none\", \"zorder\": 1, \"alpha\": 1, \"xindex\": 0, \"data\": \"data03\", \"id\": \"el582384478152208\"}, {\"edgecolor\": \"#000000\", \"facecolor\": \"#844693\", \"edgewidth\": 1.0, \"pathcodes\": [\"M\", \"L\", \"L\", \"L\", \"Z\"], \"yindex\": 7, \"coordinates\": \"data\", \"dasharray\": \"none\", \"zorder\": 1, \"alpha\": 1, \"xindex\": 0, \"data\": \"data04\", \"id\": \"el582384478206800\"}, {\"edgecolor\": \"#000000\", \"facecolor\": \"#844693\", \"edgewidth\": 1.0, \"pathcodes\": [\"M\", \"L\", \"L\", \"L\", \"Z\"], \"yindex\": 7, \"coordinates\": \"data\", \"dasharray\": \"none\", \"zorder\": 1, \"alpha\": 1, \"xindex\": 0, \"data\": \"data05\", \"id\": \"el582384478208464\"}, {\"edgecolor\": \"#000000\", \"facecolor\": \"#40004B\", \"edgewidth\": 1.0, \"pathcodes\": [\"M\", \"L\", \"L\", \"L\", \"Z\"], \"yindex\": 8, \"coordinates\": \"data\", \"dasharray\": \"none\", \"zorder\": 1, \"alpha\": 1, \"xindex\": 0, \"data\": \"data03\", \"id\": \"el582384478209936\"}, {\"edgecolor\": \"#000000\", \"facecolor\": \"#40004B\", \"edgewidth\": 1.0, \"pathcodes\": [\"M\", \"L\", \"L\", \"L\", \"Z\"], \"yindex\": 8, \"coordinates\": \"data\", \"dasharray\": \"none\", \"zorder\": 1, \"alpha\": 1, \"xindex\": 0, \"data\": \"data04\", \"id\": \"el582384478261136\"}, {\"edgecolor\": \"#000000\", \"facecolor\": \"#40004B\", \"edgewidth\": 1.0, \"pathcodes\": [\"M\", \"L\", \"L\", \"L\", \"Z\"], \"yindex\": 8, \"coordinates\": \"data\", \"dasharray\": \"none\", \"zorder\": 1, \"alpha\": 1, \"xindex\": 0, \"data\": \"data05\", \"id\": \"el582384478262800\"}, {\"edgecolor\": \"#000000\", \"facecolor\": \"#00441B\", \"edgewidth\": 1.0, \"pathcodes\": [\"M\", \"L\", \"L\", \"L\", \"Z\"], \"yindex\": 1, \"coordinates\": \"axes\", \"dasharray\": \"none\", \"zorder\": 2000001.0, \"alpha\": 1, \"xindex\": 0, \"data\": \"data07\", \"id\": \"el582384478594192\"}, {\"edgecolor\": \"#000000\", \"facecolor\": \"#348E48\", \"edgewidth\": 1.0, \"pathcodes\": [\"M\", \"L\", \"L\", \"L\", \"Z\"], \"yindex\": 2, \"coordinates\": \"axes\", \"dasharray\": \"none\", \"zorder\": 2000001.0, \"alpha\": 1, \"xindex\": 0, \"data\": \"data07\", \"id\": \"el582384478632400\"}, {\"edgecolor\": \"#000000\", \"facecolor\": \"#9BD497\", \"edgewidth\": 1.0, \"pathcodes\": [\"M\", \"L\", \"L\", \"L\", \"Z\"], \"yindex\": 3, \"coordinates\": \"axes\", \"dasharray\": \"none\", \"zorder\": 2000001.0, \"alpha\": 1, \"xindex\": 0, \"data\": \"data07\", \"id\": \"el582384478633680\"}, {\"edgecolor\": \"#000000\", \"facecolor\": \"#E1F1DC\", \"edgewidth\": 1.0, \"pathcodes\": [\"M\", \"L\", \"L\", \"L\", \"Z\"], \"yindex\": 4, \"coordinates\": \"axes\", \"dasharray\": \"none\", \"zorder\": 2000001.0, \"alpha\": 1, \"xindex\": 0, \"data\": \"data07\", \"id\": \"el582384478634960\"}, {\"edgecolor\": \"#000000\", \"facecolor\": \"#EBDDEC\", \"edgewidth\": 1.0, \"pathcodes\": [\"M\", \"L\", \"L\", \"L\", \"Z\"], \"yindex\": 5, \"coordinates\": \"axes\", \"dasharray\": \"none\", \"zorder\": 2000001.0, \"alpha\": 1, \"xindex\": 0, \"data\": \"data07\", \"id\": \"el582384478560336\"}, {\"edgecolor\": \"#000000\", \"facecolor\": \"#BC9DCA\", \"edgewidth\": 1.0, \"pathcodes\": [\"M\", \"L\", \"L\", \"L\", \"Z\"], \"yindex\": 6, \"coordinates\": \"axes\", \"dasharray\": \"none\", \"zorder\": 2000001.0, \"alpha\": 1, \"xindex\": 0, \"data\": \"data07\", \"id\": \"el582384478635792\"}, {\"edgecolor\": \"#000000\", \"facecolor\": \"#844693\", \"edgewidth\": 1.0, \"pathcodes\": [\"M\", \"L\", \"L\", \"L\", \"Z\"], \"yindex\": 7, \"coordinates\": \"axes\", \"dasharray\": \"none\", \"zorder\": 2000001.0, \"alpha\": 1, \"xindex\": 0, \"data\": \"data07\", \"id\": \"el582384478690384\"}, {\"edgecolor\": \"#000000\", \"facecolor\": \"#40004B\", \"edgewidth\": 1.0, \"pathcodes\": [\"M\", \"L\", \"L\", \"L\", \"Z\"], \"yindex\": 8, \"coordinates\": \"axes\", \"dasharray\": \"none\", \"zorder\": 2000001.0, \"alpha\": 1, \"xindex\": 0, \"data\": \"data07\", \"id\": \"el582384478691664\"}, {\"edgecolor\": \"#000000\", \"facecolor\": \"#FFFFFF\", \"edgewidth\": 1.0, \"pathcodes\": [\"M\", \"L\", \"S\", \"L\", \"S\", \"L\", \"S\", \"L\", \"S\", \"Z\"], \"yindex\": 1, \"coordinates\": \"axes\", \"dasharray\": \"none\", \"zorder\": 1999999.0, \"alpha\": 1, \"xindex\": 0, \"data\": \"data08\", \"id\": \"el582384478592912\"}], \"sharey\": [], \"sharex\": [], \"axesbgalpha\": null, \"axes\": [{\"scale\": \"linear\", \"tickformat\": [\"waterwash\", \"iHG-Current\", \"iHG-Projected\"], \"grid\": {\"gridOn\": false}, \"visible\": true, \"fontsize\": 16.0, \"position\": \"bottom\", \"nticks\": 3, \"tickvalues\": [0, 1, 2]}, {\"scale\": \"linear\", \"tickformat\": null, \"grid\": {\"gridOn\": false}, \"visible\": true, \"fontsize\": 16.0, \"position\": \"left\", \"nticks\": 6, \"tickvalues\": null}], \"lines\": [{\"drawstyle\": \"default\", \"color\": \"#000000\", \"yindex\": 1, \"coordinates\": \"display\", \"dasharray\": \"none\", \"zorder\": 2, \"alpha\": 1, \"xindex\": 0, \"linewidth\": 2.0, \"data\": \"data02\", \"id\": \"el582384475674000\"}], \"markers\": [{\"edgecolor\": \"#000000\", \"facecolor\": \"#000000\", \"edgewidth\": 2, \"yindex\": 1, \"coordinates\": \"data\", \"zorder\": 2, \"markerpath\": [[[5.0, 3.061616997868383e-16], [-5.0, -3.061616997868383e-16]], [\"M\", \"L\"]], \"alpha\": 1, \"xindex\": 0, \"data\": \"data01\", \"id\": \"el582384478319120pts\"}, {\"edgecolor\": \"#000000\", \"facecolor\": \"#000000\", \"edgewidth\": 2, \"yindex\": 2, \"coordinates\": \"data\", \"zorder\": 2, \"markerpath\": [[[5.0, 3.061616997868383e-16], [-5.0, -3.061616997868383e-16]], [\"M\", \"L\"]], \"alpha\": 1, \"xindex\": 0, \"data\": \"data01\", \"id\": \"el582384478319440pts\"}], \"id\": \"el582384445627536\", \"ydomain\": [-20.0, 195.0], \"collections\": [{\"paths\": [[[[0.0, 145.91751126410298], [0.0, 181.6670945970852]], [\"M\", \"L\"]], [[[1.0, 35.08930002204857], [1.0, 54.590359238093264]], [\"M\", \"L\"]], [[[2.0, -0.3605121410530394], [2.0, 28.23286689359428]], [\"M\", \"L\"]]], \"edgecolors\": [\"#000000\"], \"edgewidths\": [2.0], \"offsets\": \"data06\", \"yindex\": 1, \"id\": \"el582384478317776\", \"pathtransforms\": [], \"pathcoordinates\": \"data\", \"offsetcoordinates\": \"display\", \"zorder\": 2, \"xindex\": 0, \"alphas\": [null], \"facecolors\": []}], \"xscale\": \"linear\", \"bbox\": [0.125, 0.125, 0.77500000000000002, 0.77500000000000002]}], \"height\": 480.0, \"width\": 720.0, \"plugins\": [{\"type\": \"reset\"}, {\"enabled\": false, \"button\": true, \"type\": \"zoom\"}, {\"enabled\": false, \"button\": true, \"type\": \"boxzoom\"}], \"data\": {\"data08\": [[1.024168657905217, 0.12090800477897257], [1.4758313420947828, 0.12090800477897257], [1.4814068100358422, 0.12090800477897257], [1.4814068100358422, 0.12927120669056158], [1.4814068100358422, 0.6214027031063323], [1.4814068100358422, 0.6297659050179212], [1.4758313420947828, 0.6297659050179212], [1.024168657905217, 0.6297659050179212], [1.0185931899641576, 0.6297659050179212], [1.0185931899641576, 0.6214027031063323], [1.0185931899641576, 0.12927120669056158], [1.0185931899641576, 0.12090800477897257], [1.024168657905217, 0.12090800477897257]], \"data06\": [[0.0, 0.0]], \"data07\": [[1.0297441258462763, 0.5807814366786141, 0.5163166442652329, 0.45508605884109926, 0.3938554734169653, 0.32939068100358426, 0.2681600955794504, 0.20692951015531663, 0.14569892473118284], [1.0854988052568697, 0.5807814366786141, 0.5163166442652329, 0.45508605884109926, 0.3938554734169653, 0.32939068100358426, 0.2681600955794504, 0.20692951015531663, 0.14569892473118284], [1.0854988052568697, 0.6100526433691756, 0.5455878509557944, 0.4843572655316608, 0.42312668010752685, 0.3586618876941458, 0.29743130227001197, 0.23620071684587815, 0.17497013142174436], [1.0297441258462763, 0.6100526433691756, 0.5455878509557944, 0.4843572655316608, 0.42312668010752685, 0.3586618876941458, 0.29743130227001197, 0.23620071684587815, 0.17497013142174436]], \"data04\": [[0.75, -1.25, 0.0, -1.25, 0.7777777777777826, 20.966047869413895, 39.74830325811554, 42.61859196315616, 47.09451773007091], [1.25, -1.25, 0.0, -1.25, 0.7777777777777826, 20.966047869413895, 39.74830325811554, 42.61859196315616, 47.09451773007091], [1.25, 0.0, 0.7777777777777826, -1.25, 20.966047869413895, 39.74830325811554, 42.61859196315616, 47.09451773007091, 49.99834814858943], [0.75, 0.0, 0.7777777777777826, -1.25, 20.966047869413895, 39.74830325811554, 42.61859196315616, 47.09451773007091, 49.99834814858943]], \"data05\": [[1.75, -15.22, 0.0, -15.22, 0.40740740740740783, 9.462020100767491, 18.96784431340992, 21.150284919871297, 24.83382843923359], [2.25, -15.22, 0.0, -15.22, 0.40740740740740783, 9.462020100767491, 18.96784431340992, 21.150284919871297, 24.83382843923359], [2.25, 0.0, 0.40740740740740783, -15.22, 9.462020100767491, 18.96784431340992, 21.150284919871297, 24.83382843923359, 27.737658857752105], [1.75, 0.0, 0.40740740740740783, -15.22, 9.462020100767491, 18.96784431340992, 21.150284919871297, 24.83382843923359, 27.737658857752105]], \"data02\": [[90.0, 94.6046511627907], [648.0, 94.6046511627907]], \"data03\": [[-0.25, 0.0, 0.0, 0.8518518518518732, 94.89357103211856, 112.9497136429621, 154.2028868787064, 160.00339170831242, 165.47588475154114], [0.25, 0.0, 0.0, 0.8518518518518732, 94.89357103211856, 112.9497136429621, 154.2028868787064, 160.00339170831242, 165.47588475154114], [0.25, 0.0, 0.8518518518518732, 94.89357103211856, 112.9497136429621, 154.2028868787064, 160.00339170831242, 165.47588475154114, 168.8554490896893], [-0.25, 0.0, 0.8518518518518732, 94.89357103211856, 112.9497136429621, 154.2028868787064, 160.00339170831242, 165.47588475154114, 168.8554490896893]], \"data01\": [[0.0, 145.91751126410298, 181.6670945970852], [1.0, 35.08930002204857, 54.590359238093264], [2.0, -0.3605121410530394, 28.23286689359428]]}, \"id\": \"el582384460654416\"});\n",
       "      });\n",
       "    });\n",
       "}else{\n",
       "    // require.js not available: dynamically load d3 & mpld3\n",
       "    mpld3_load_lib(\"https://mpld3.github.io/js/d3.v3.min.js\", function(){\n",
       "         mpld3_load_lib(\"https://mpld3.github.io/js/mpld3.v0.3.js\", function(){\n",
       "                 \n",
       "                 mpld3.draw_figure(\"fig_el5823844606544169657256802\", {\"axes\": [{\"xlim\": [-0.5, 2.5], \"yscale\": \"linear\", \"axesbg\": \"#EBEBEB\", \"texts\": [{\"v_baseline\": \"auto\", \"h_anchor\": \"middle\", \"color\": \"#000000\", \"text\": \"gCO2 per MJ\", \"coordinates\": \"axes\", \"zorder\": 3, \"alpha\": 1, \"fontsize\": 18.0, \"position\": [-0.078405017921146944, 0.5], \"rotation\": -90.0, \"id\": \"el582384470962064\"}, {\"v_baseline\": \"auto\", \"h_anchor\": \"start\", \"color\": \"#000000\", \"text\": \"electricity_credit\", \"coordinates\": \"axes\", \"zorder\": 2000003.0, \"alpha\": 1, \"fontsize\": 14.0, \"position\": [1.1078006770211068, 0.58078143667861415], \"rotation\": -0.0, \"id\": \"el582384478593296\"}, {\"v_baseline\": \"auto\", \"h_anchor\": \"start\", \"color\": \"#000000\", \"text\": \"Other\", \"coordinates\": \"axes\", \"zorder\": 2000003.0, \"alpha\": 1, \"fontsize\": 14.0, \"position\": [1.1078006770211068, 0.51631664426523294], \"rotation\": -0.0, \"id\": \"el582384478594576\"}, {\"v_baseline\": \"auto\", \"h_anchor\": \"start\", \"color\": \"#000000\", \"text\": \"Direct\", \"coordinates\": \"axes\", \"zorder\": 2000003.0, \"alpha\": 1, \"fontsize\": 14.0, \"position\": [1.1078006770211068, 0.45508605884109926], \"rotation\": -0.0, \"id\": \"el582384478632784\"}, {\"v_baseline\": \"auto\", \"h_anchor\": \"start\", \"color\": \"#000000\", \"text\": \"Chemicals_And_Fertilizers\", \"coordinates\": \"axes\", \"zorder\": 2000003.0, \"alpha\": 1, \"fontsize\": 14.0, \"position\": [1.1078006770211068, 0.39385547341696531], \"rotation\": -0.0, \"id\": \"el582384478634064\"}, {\"v_baseline\": \"auto\", \"h_anchor\": \"start\", \"color\": \"#000000\", \"text\": \"Electricity\", \"coordinates\": \"axes\", \"zorder\": 2000003.0, \"alpha\": 1, \"fontsize\": 14.0, \"position\": [1.1078006770211068, 0.32939068100358426], \"rotation\": -0.0, \"id\": \"el582384478635344\"}, {\"v_baseline\": \"auto\", \"h_anchor\": \"start\", \"color\": \"#000000\", \"text\": \"Petroleum\", \"coordinates\": \"axes\", \"zorder\": 2000003.0, \"alpha\": 1, \"fontsize\": 14.0, \"position\": [1.1078006770211068, 0.26816009557945042], \"rotation\": -0.0, \"id\": \"el582384463537936\"}, {\"v_baseline\": \"auto\", \"h_anchor\": \"start\", \"color\": \"#000000\", \"text\": \"Transportation\", \"coordinates\": \"axes\", \"zorder\": 2000003.0, \"alpha\": 1, \"fontsize\": 14.0, \"position\": [1.1078006770211068, 0.20692951015531663], \"rotation\": -0.0, \"id\": \"el582384478689488\"}, {\"v_baseline\": \"auto\", \"h_anchor\": \"start\", \"color\": \"#000000\", \"text\": \"Farming\", \"coordinates\": \"axes\", \"zorder\": 2000003.0, \"alpha\": 1, \"fontsize\": 14.0, \"position\": [1.1078006770211068, 0.14569892473118284], \"rotation\": -0.0, \"id\": \"el582384478690768\"}], \"zoomable\": true, \"images\": [], \"xdomain\": [-0.5, 2.5], \"ylim\": [-20.0, 195.0], \"paths\": [{\"edgecolor\": \"#000000\", \"facecolor\": \"#00441B\", \"edgewidth\": 1.0, \"pathcodes\": [\"M\", \"L\", \"L\", \"L\", \"Z\"], \"yindex\": 1, \"coordinates\": \"data\", \"dasharray\": \"none\", \"zorder\": 1, \"alpha\": 1, \"xindex\": 0, \"data\": \"data03\", \"id\": \"el582384477776656\"}, {\"edgecolor\": \"#000000\", \"facecolor\": \"#00441B\", \"edgewidth\": 1.0, \"pathcodes\": [\"M\", \"L\", \"L\", \"L\", \"Z\"], \"yindex\": 1, \"coordinates\": \"data\", \"dasharray\": \"none\", \"zorder\": 1, \"alpha\": 1, \"xindex\": 0, \"data\": \"data04\", \"id\": \"el582384463936016\"}, {\"edgecolor\": \"#000000\", \"facecolor\": \"#00441B\", \"edgewidth\": 1.0, \"pathcodes\": [\"M\", \"L\", \"L\", \"L\", \"Z\"], \"yindex\": 1, \"coordinates\": \"data\", \"dasharray\": \"none\", \"zorder\": 1, \"alpha\": 1, \"xindex\": 0, \"data\": \"data05\", \"id\": \"el582384477779920\"}, {\"edgecolor\": \"#000000\", \"facecolor\": \"#348E48\", \"edgewidth\": 1.0, \"pathcodes\": [\"M\", \"L\", \"L\", \"L\", \"Z\"], \"yindex\": 2, \"coordinates\": \"data\", \"dasharray\": \"none\", \"zorder\": 1, \"alpha\": 1, \"xindex\": 0, \"data\": \"data03\", \"id\": \"el582384477831312\"}, {\"edgecolor\": \"#000000\", \"facecolor\": \"#348E48\", \"edgewidth\": 1.0, \"pathcodes\": [\"M\", \"L\", \"L\", \"L\", \"Z\"], \"yindex\": 2, \"coordinates\": \"data\", \"dasharray\": \"none\", \"zorder\": 1, \"alpha\": 1, \"xindex\": 0, \"data\": \"data04\", \"id\": \"el582384477832592\"}, {\"edgecolor\": \"#000000\", \"facecolor\": \"#348E48\", \"edgewidth\": 1.0, \"pathcodes\": [\"M\", \"L\", \"L\", \"L\", \"Z\"], \"yindex\": 2, \"coordinates\": \"data\", \"dasharray\": \"none\", \"zorder\": 1, \"alpha\": 1, \"xindex\": 0, \"data\": \"data05\", \"id\": \"el582384477883472\"}, {\"edgecolor\": \"#000000\", \"facecolor\": \"#9BD497\", \"edgewidth\": 1.0, \"pathcodes\": [\"M\", \"L\", \"L\", \"L\", \"Z\"], \"yindex\": 3, \"coordinates\": \"data\", \"dasharray\": \"none\", \"zorder\": 1, \"alpha\": 1, \"xindex\": 0, \"data\": \"data03\", \"id\": \"el582384477885648\"}, {\"edgecolor\": \"#000000\", \"facecolor\": \"#9BD497\", \"edgewidth\": 1.0, \"pathcodes\": [\"M\", \"L\", \"L\", \"L\", \"Z\"], \"yindex\": 3, \"coordinates\": \"data\", \"dasharray\": \"none\", \"zorder\": 1, \"alpha\": 1, \"xindex\": 0, \"data\": \"data04\", \"id\": \"el582384477936144\"}, {\"edgecolor\": \"#000000\", \"facecolor\": \"#9BD497\", \"edgewidth\": 1.0, \"pathcodes\": [\"M\", \"L\", \"L\", \"L\", \"Z\"], \"yindex\": 3, \"coordinates\": \"data\", \"dasharray\": \"none\", \"zorder\": 1, \"alpha\": 1, \"xindex\": 0, \"data\": \"data05\", \"id\": \"el582384477937808\"}, {\"edgecolor\": \"#000000\", \"facecolor\": \"#E1F1DC\", \"edgewidth\": 1.0, \"pathcodes\": [\"M\", \"L\", \"L\", \"L\", \"Z\"], \"yindex\": 4, \"coordinates\": \"data\", \"dasharray\": \"none\", \"zorder\": 1, \"alpha\": 1, \"xindex\": 0, \"data\": \"data03\", \"id\": \"el582384477939088\"}, {\"edgecolor\": \"#000000\", \"facecolor\": \"#E1F1DC\", \"edgewidth\": 1.0, \"pathcodes\": [\"M\", \"L\", \"L\", \"L\", \"Z\"], \"yindex\": 4, \"coordinates\": \"data\", \"dasharray\": \"none\", \"zorder\": 1, \"alpha\": 1, \"xindex\": 0, \"data\": \"data04\", \"id\": \"el582384477994576\"}, {\"edgecolor\": \"#000000\", \"facecolor\": \"#E1F1DC\", \"edgewidth\": 1.0, \"pathcodes\": [\"M\", \"L\", \"L\", \"L\", \"Z\"], \"yindex\": 4, \"coordinates\": \"data\", \"dasharray\": \"none\", \"zorder\": 1, \"alpha\": 1, \"xindex\": 0, \"data\": \"data05\", \"id\": \"el582384477996240\"}, {\"edgecolor\": \"#000000\", \"facecolor\": \"#EBDDEC\", \"edgewidth\": 1.0, \"pathcodes\": [\"M\", \"L\", \"L\", \"L\", \"Z\"], \"yindex\": 5, \"coordinates\": \"data\", \"dasharray\": \"none\", \"zorder\": 1, \"alpha\": 1, \"xindex\": 0, \"data\": \"data03\", \"id\": \"el582384478039440\"}, {\"edgecolor\": \"#000000\", \"facecolor\": \"#EBDDEC\", \"edgewidth\": 1.0, \"pathcodes\": [\"M\", \"L\", \"L\", \"L\", \"Z\"], \"yindex\": 5, \"coordinates\": \"data\", \"dasharray\": \"none\", \"zorder\": 1, \"alpha\": 1, \"xindex\": 0, \"data\": \"data04\", \"id\": \"el582384478040720\"}, {\"edgecolor\": \"#000000\", \"facecolor\": \"#EBDDEC\", \"edgewidth\": 1.0, \"pathcodes\": [\"M\", \"L\", \"L\", \"L\", \"Z\"], \"yindex\": 5, \"coordinates\": \"data\", \"dasharray\": \"none\", \"zorder\": 1, \"alpha\": 1, \"xindex\": 0, \"data\": \"data05\", \"id\": \"el582384478042000\"}, {\"edgecolor\": \"#000000\", \"facecolor\": \"#BC9DCA\", \"edgewidth\": 1.0, \"pathcodes\": [\"M\", \"L\", \"L\", \"L\", \"Z\"], \"yindex\": 6, \"coordinates\": \"data\", \"dasharray\": \"none\", \"zorder\": 1, \"alpha\": 1, \"xindex\": 0, \"data\": \"data03\", \"id\": \"el582384478097872\"}, {\"edgecolor\": \"#000000\", \"facecolor\": \"#BC9DCA\", \"edgewidth\": 1.0, \"pathcodes\": [\"M\", \"L\", \"L\", \"L\", \"Z\"], \"yindex\": 6, \"coordinates\": \"data\", \"dasharray\": \"none\", \"zorder\": 1, \"alpha\": 1, \"xindex\": 0, \"data\": \"data04\", \"id\": \"el582384478099152\"}, {\"edgecolor\": \"#000000\", \"facecolor\": \"#BC9DCA\", \"edgewidth\": 1.0, \"pathcodes\": [\"M\", \"L\", \"L\", \"L\", \"Z\"], \"yindex\": 6, \"coordinates\": \"data\", \"dasharray\": \"none\", \"zorder\": 1, \"alpha\": 1, \"xindex\": 0, \"data\": \"data05\", \"id\": \"el582384478150032\"}, {\"edgecolor\": \"#000000\", \"facecolor\": \"#844693\", \"edgewidth\": 1.0, \"pathcodes\": [\"M\", \"L\", \"L\", \"L\", \"Z\"], \"yindex\": 7, \"coordinates\": \"data\", \"dasharray\": \"none\", \"zorder\": 1, \"alpha\": 1, \"xindex\": 0, \"data\": \"data03\", \"id\": \"el582384478152208\"}, {\"edgecolor\": \"#000000\", \"facecolor\": \"#844693\", \"edgewidth\": 1.0, \"pathcodes\": [\"M\", \"L\", \"L\", \"L\", \"Z\"], \"yindex\": 7, \"coordinates\": \"data\", \"dasharray\": \"none\", \"zorder\": 1, \"alpha\": 1, \"xindex\": 0, \"data\": \"data04\", \"id\": \"el582384478206800\"}, {\"edgecolor\": \"#000000\", \"facecolor\": \"#844693\", \"edgewidth\": 1.0, \"pathcodes\": [\"M\", \"L\", \"L\", \"L\", \"Z\"], \"yindex\": 7, \"coordinates\": \"data\", \"dasharray\": \"none\", \"zorder\": 1, \"alpha\": 1, \"xindex\": 0, \"data\": \"data05\", \"id\": \"el582384478208464\"}, {\"edgecolor\": \"#000000\", \"facecolor\": \"#40004B\", \"edgewidth\": 1.0, \"pathcodes\": [\"M\", \"L\", \"L\", \"L\", \"Z\"], \"yindex\": 8, \"coordinates\": \"data\", \"dasharray\": \"none\", \"zorder\": 1, \"alpha\": 1, \"xindex\": 0, \"data\": \"data03\", \"id\": \"el582384478209936\"}, {\"edgecolor\": \"#000000\", \"facecolor\": \"#40004B\", \"edgewidth\": 1.0, \"pathcodes\": [\"M\", \"L\", \"L\", \"L\", \"Z\"], \"yindex\": 8, \"coordinates\": \"data\", \"dasharray\": \"none\", \"zorder\": 1, \"alpha\": 1, \"xindex\": 0, \"data\": \"data04\", \"id\": \"el582384478261136\"}, {\"edgecolor\": \"#000000\", \"facecolor\": \"#40004B\", \"edgewidth\": 1.0, \"pathcodes\": [\"M\", \"L\", \"L\", \"L\", \"Z\"], \"yindex\": 8, \"coordinates\": \"data\", \"dasharray\": \"none\", \"zorder\": 1, \"alpha\": 1, \"xindex\": 0, \"data\": \"data05\", \"id\": \"el582384478262800\"}, {\"edgecolor\": \"#000000\", \"facecolor\": \"#00441B\", \"edgewidth\": 1.0, \"pathcodes\": [\"M\", \"L\", \"L\", \"L\", \"Z\"], \"yindex\": 1, \"coordinates\": \"axes\", \"dasharray\": \"none\", \"zorder\": 2000001.0, \"alpha\": 1, \"xindex\": 0, \"data\": \"data07\", \"id\": \"el582384478594192\"}, {\"edgecolor\": \"#000000\", \"facecolor\": \"#348E48\", \"edgewidth\": 1.0, \"pathcodes\": [\"M\", \"L\", \"L\", \"L\", \"Z\"], \"yindex\": 2, \"coordinates\": \"axes\", \"dasharray\": \"none\", \"zorder\": 2000001.0, \"alpha\": 1, \"xindex\": 0, \"data\": \"data07\", \"id\": \"el582384478632400\"}, {\"edgecolor\": \"#000000\", \"facecolor\": \"#9BD497\", \"edgewidth\": 1.0, \"pathcodes\": [\"M\", \"L\", \"L\", \"L\", \"Z\"], \"yindex\": 3, \"coordinates\": \"axes\", \"dasharray\": \"none\", \"zorder\": 2000001.0, \"alpha\": 1, \"xindex\": 0, \"data\": \"data07\", \"id\": \"el582384478633680\"}, {\"edgecolor\": \"#000000\", \"facecolor\": \"#E1F1DC\", \"edgewidth\": 1.0, \"pathcodes\": [\"M\", \"L\", \"L\", \"L\", \"Z\"], \"yindex\": 4, \"coordinates\": \"axes\", \"dasharray\": \"none\", \"zorder\": 2000001.0, \"alpha\": 1, \"xindex\": 0, \"data\": \"data07\", \"id\": \"el582384478634960\"}, {\"edgecolor\": \"#000000\", \"facecolor\": \"#EBDDEC\", \"edgewidth\": 1.0, \"pathcodes\": [\"M\", \"L\", \"L\", \"L\", \"Z\"], \"yindex\": 5, \"coordinates\": \"axes\", \"dasharray\": \"none\", \"zorder\": 2000001.0, \"alpha\": 1, \"xindex\": 0, \"data\": \"data07\", \"id\": \"el582384478560336\"}, {\"edgecolor\": \"#000000\", \"facecolor\": \"#BC9DCA\", \"edgewidth\": 1.0, \"pathcodes\": [\"M\", \"L\", \"L\", \"L\", \"Z\"], \"yindex\": 6, \"coordinates\": \"axes\", \"dasharray\": \"none\", \"zorder\": 2000001.0, \"alpha\": 1, \"xindex\": 0, \"data\": \"data07\", \"id\": \"el582384478635792\"}, {\"edgecolor\": \"#000000\", \"facecolor\": \"#844693\", \"edgewidth\": 1.0, \"pathcodes\": [\"M\", \"L\", \"L\", \"L\", \"Z\"], \"yindex\": 7, \"coordinates\": \"axes\", \"dasharray\": \"none\", \"zorder\": 2000001.0, \"alpha\": 1, \"xindex\": 0, \"data\": \"data07\", \"id\": \"el582384478690384\"}, {\"edgecolor\": \"#000000\", \"facecolor\": \"#40004B\", \"edgewidth\": 1.0, \"pathcodes\": [\"M\", \"L\", \"L\", \"L\", \"Z\"], \"yindex\": 8, \"coordinates\": \"axes\", \"dasharray\": \"none\", \"zorder\": 2000001.0, \"alpha\": 1, \"xindex\": 0, \"data\": \"data07\", \"id\": \"el582384478691664\"}, {\"edgecolor\": \"#000000\", \"facecolor\": \"#FFFFFF\", \"edgewidth\": 1.0, \"pathcodes\": [\"M\", \"L\", \"S\", \"L\", \"S\", \"L\", \"S\", \"L\", \"S\", \"Z\"], \"yindex\": 1, \"coordinates\": \"axes\", \"dasharray\": \"none\", \"zorder\": 1999999.0, \"alpha\": 1, \"xindex\": 0, \"data\": \"data08\", \"id\": \"el582384478592912\"}], \"sharey\": [], \"sharex\": [], \"axesbgalpha\": null, \"axes\": [{\"scale\": \"linear\", \"tickformat\": [\"waterwash\", \"iHG-Current\", \"iHG-Projected\"], \"grid\": {\"gridOn\": false}, \"visible\": true, \"fontsize\": 16.0, \"position\": \"bottom\", \"nticks\": 3, \"tickvalues\": [0, 1, 2]}, {\"scale\": \"linear\", \"tickformat\": null, \"grid\": {\"gridOn\": false}, \"visible\": true, \"fontsize\": 16.0, \"position\": \"left\", \"nticks\": 6, \"tickvalues\": null}], \"lines\": [{\"drawstyle\": \"default\", \"color\": \"#000000\", \"yindex\": 1, \"coordinates\": \"display\", \"dasharray\": \"none\", \"zorder\": 2, \"alpha\": 1, \"xindex\": 0, \"linewidth\": 2.0, \"data\": \"data02\", \"id\": \"el582384475674000\"}], \"markers\": [{\"edgecolor\": \"#000000\", \"facecolor\": \"#000000\", \"edgewidth\": 2, \"yindex\": 1, \"coordinates\": \"data\", \"zorder\": 2, \"markerpath\": [[[5.0, 3.061616997868383e-16], [-5.0, -3.061616997868383e-16]], [\"M\", \"L\"]], \"alpha\": 1, \"xindex\": 0, \"data\": \"data01\", \"id\": \"el582384478319120pts\"}, {\"edgecolor\": \"#000000\", \"facecolor\": \"#000000\", \"edgewidth\": 2, \"yindex\": 2, \"coordinates\": \"data\", \"zorder\": 2, \"markerpath\": [[[5.0, 3.061616997868383e-16], [-5.0, -3.061616997868383e-16]], [\"M\", \"L\"]], \"alpha\": 1, \"xindex\": 0, \"data\": \"data01\", \"id\": \"el582384478319440pts\"}], \"id\": \"el582384445627536\", \"ydomain\": [-20.0, 195.0], \"collections\": [{\"paths\": [[[[0.0, 145.91751126410298], [0.0, 181.6670945970852]], [\"M\", \"L\"]], [[[1.0, 35.08930002204857], [1.0, 54.590359238093264]], [\"M\", \"L\"]], [[[2.0, -0.3605121410530394], [2.0, 28.23286689359428]], [\"M\", \"L\"]]], \"edgecolors\": [\"#000000\"], \"edgewidths\": [2.0], \"offsets\": \"data06\", \"yindex\": 1, \"id\": \"el582384478317776\", \"pathtransforms\": [], \"pathcoordinates\": \"data\", \"offsetcoordinates\": \"display\", \"zorder\": 2, \"xindex\": 0, \"alphas\": [null], \"facecolors\": []}], \"xscale\": \"linear\", \"bbox\": [0.125, 0.125, 0.77500000000000002, 0.77500000000000002]}], \"height\": 480.0, \"width\": 720.0, \"plugins\": [{\"type\": \"reset\"}, {\"enabled\": false, \"button\": true, \"type\": \"zoom\"}, {\"enabled\": false, \"button\": true, \"type\": \"boxzoom\"}], \"data\": {\"data08\": [[1.024168657905217, 0.12090800477897257], [1.4758313420947828, 0.12090800477897257], [1.4814068100358422, 0.12090800477897257], [1.4814068100358422, 0.12927120669056158], [1.4814068100358422, 0.6214027031063323], [1.4814068100358422, 0.6297659050179212], [1.4758313420947828, 0.6297659050179212], [1.024168657905217, 0.6297659050179212], [1.0185931899641576, 0.6297659050179212], [1.0185931899641576, 0.6214027031063323], [1.0185931899641576, 0.12927120669056158], [1.0185931899641576, 0.12090800477897257], [1.024168657905217, 0.12090800477897257]], \"data06\": [[0.0, 0.0]], \"data07\": [[1.0297441258462763, 0.5807814366786141, 0.5163166442652329, 0.45508605884109926, 0.3938554734169653, 0.32939068100358426, 0.2681600955794504, 0.20692951015531663, 0.14569892473118284], [1.0854988052568697, 0.5807814366786141, 0.5163166442652329, 0.45508605884109926, 0.3938554734169653, 0.32939068100358426, 0.2681600955794504, 0.20692951015531663, 0.14569892473118284], [1.0854988052568697, 0.6100526433691756, 0.5455878509557944, 0.4843572655316608, 0.42312668010752685, 0.3586618876941458, 0.29743130227001197, 0.23620071684587815, 0.17497013142174436], [1.0297441258462763, 0.6100526433691756, 0.5455878509557944, 0.4843572655316608, 0.42312668010752685, 0.3586618876941458, 0.29743130227001197, 0.23620071684587815, 0.17497013142174436]], \"data04\": [[0.75, -1.25, 0.0, -1.25, 0.7777777777777826, 20.966047869413895, 39.74830325811554, 42.61859196315616, 47.09451773007091], [1.25, -1.25, 0.0, -1.25, 0.7777777777777826, 20.966047869413895, 39.74830325811554, 42.61859196315616, 47.09451773007091], [1.25, 0.0, 0.7777777777777826, -1.25, 20.966047869413895, 39.74830325811554, 42.61859196315616, 47.09451773007091, 49.99834814858943], [0.75, 0.0, 0.7777777777777826, -1.25, 20.966047869413895, 39.74830325811554, 42.61859196315616, 47.09451773007091, 49.99834814858943]], \"data05\": [[1.75, -15.22, 0.0, -15.22, 0.40740740740740783, 9.462020100767491, 18.96784431340992, 21.150284919871297, 24.83382843923359], [2.25, -15.22, 0.0, -15.22, 0.40740740740740783, 9.462020100767491, 18.96784431340992, 21.150284919871297, 24.83382843923359], [2.25, 0.0, 0.40740740740740783, -15.22, 9.462020100767491, 18.96784431340992, 21.150284919871297, 24.83382843923359, 27.737658857752105], [1.75, 0.0, 0.40740740740740783, -15.22, 9.462020100767491, 18.96784431340992, 21.150284919871297, 24.83382843923359, 27.737658857752105]], \"data02\": [[90.0, 94.6046511627907], [648.0, 94.6046511627907]], \"data03\": [[-0.25, 0.0, 0.0, 0.8518518518518732, 94.89357103211856, 112.9497136429621, 154.2028868787064, 160.00339170831242, 165.47588475154114], [0.25, 0.0, 0.0, 0.8518518518518732, 94.89357103211856, 112.9497136429621, 154.2028868787064, 160.00339170831242, 165.47588475154114], [0.25, 0.0, 0.8518518518518732, 94.89357103211856, 112.9497136429621, 154.2028868787064, 160.00339170831242, 165.47588475154114, 168.8554490896893], [-0.25, 0.0, 0.8518518518518732, 94.89357103211856, 112.9497136429621, 154.2028868787064, 160.00339170831242, 165.47588475154114, 168.8554490896893]], \"data01\": [[0.0, 145.91751126410298, 181.6670945970852], [1.0, 35.08930002204857, 54.590359238093264], [2.0, -0.3605121410530394, 28.23286689359428]]}, \"id\": \"el582384460654416\"});\n",
       "            })\n",
       "         });\n",
       "}\n",
       "</script>"
      ],
      "text/plain": [
       "<matplotlib.figure.Figure at 0x109e02f50>"
      ]
     },
     "metadata": {},
     "output_type": "display_data"
    }
   ],
   "source": [
    "\n",
    "plot = aggregated_data_avg_plot.plot(kind='bar', stacked = True, figsize=(9,6),\n",
    "                                     colormap='PRGn_r',\n",
    "                                     yerr={'Farming':plt_errors}, \n",
    "                                     error_kw= {'capsize':5, 'ecolor':'k', 'elinewidth':2, 'capthick':2, 'barsabove':True})\n",
    "plt.xticks(fontsize = 16)\n",
    "plt.yticks(fontsize = 16)\n",
    "plt.ylabel('gCO2 per MJ', fontsize = 18)\n",
    "plt.ylim(-20,195)\n",
    "plt.axhline(0, color='black', linewidth=2)\n",
    "plot.set_axis_bgcolor(\"#EBEBEB\")\n",
    "plot.legend(loc='lower center', bbox_to_anchor=(1.25, 0.1),ncol=1, fancybox=True, shadow=True,fontsize=14)\n",
    "with open('/Users/olga/Desktop/fig.html', 'w') as fn:\n",
    "    fn.write(mpld3.fig_to_html(plt.gcf()))"
   ]
  },
  {
   "cell_type": "code",
   "execution_count": 61,
   "metadata": {
    "collapsed": false
   },
   "outputs": [
    {
     "data": {
      "text/plain": [
       "u'\\n\\n<style>\\n\\n</style>\\n\\n<div id=\"fig_el5823844655726245692542047\"></div>\\n<script>\\nfunction mpld3_load_lib(url, callback){\\n  var s = document.createElement(\\'script\\');\\n  s.src = url;\\n  s.async = true;\\n  s.onreadystatechange = s.onload = callback;\\n  s.onerror = function(){console.warn(\"failed to load library \" + url);};\\n  document.getElementsByTagName(\"head\")[0].appendChild(s);\\n}\\n\\nif(typeof(mpld3) !== \"undefined\" && mpld3._mpld3IsLoaded){\\n   // already loaded: just create the figure\\n   !function(mpld3){\\n       \\n       mpld3.draw_figure(\"fig_el5823844655726245692542047\", {\"axes\": [], \"height\": 320.0, \"width\": 480.0, \"plugins\": [{\"type\": \"reset\"}, {\"enabled\": false, \"button\": true, \"type\": \"zoom\"}, {\"enabled\": false, \"button\": true, \"type\": \"boxzoom\"}], \"data\": {}, \"id\": \"el582384465572624\"});\\n   }(mpld3);\\n}else if(typeof define === \"function\" && define.amd){\\n   // require.js is available: use it to load d3/mpld3\\n   require.config({paths: {d3: \"https://mpld3.github.io/js/d3.v3.min\"}});\\n   require([\"d3\"], function(d3){\\n      window.d3 = d3;\\n      mpld3_load_lib(\"https://mpld3.github.io/js/mpld3.v0.3.js\", function(){\\n         \\n         mpld3.draw_figure(\"fig_el5823844655726245692542047\", {\"axes\": [], \"height\": 320.0, \"width\": 480.0, \"plugins\": [{\"type\": \"reset\"}, {\"enabled\": false, \"button\": true, \"type\": \"zoom\"}, {\"enabled\": false, \"button\": true, \"type\": \"boxzoom\"}], \"data\": {}, \"id\": \"el582384465572624\"});\\n      });\\n    });\\n}else{\\n    // require.js not available: dynamically load d3 & mpld3\\n    mpld3_load_lib(\"https://mpld3.github.io/js/d3.v3.min.js\", function(){\\n         mpld3_load_lib(\"https://mpld3.github.io/js/mpld3.v0.3.js\", function(){\\n                 \\n                 mpld3.draw_figure(\"fig_el5823844655726245692542047\", {\"axes\": [], \"height\": 320.0, \"width\": 480.0, \"plugins\": [{\"type\": \"reset\"}, {\"enabled\": false, \"button\": true, \"type\": \"zoom\"}, {\"enabled\": false, \"button\": true, \"type\": \"boxzoom\"}], \"data\": {}, \"id\": \"el582384465572624\"});\\n            })\\n         });\\n}\\n</script>'"
      ]
     },
     "execution_count": 61,
     "metadata": {},
     "output_type": "execute_result"
    },
    {
     "data": {
      "text/html": [
       "\n",
       "\n",
       "<style>\n",
       "\n",
       "</style>\n",
       "\n",
       "<div id=\"fig_el5823844655726247739921608\"></div>\n",
       "<script>\n",
       "function mpld3_load_lib(url, callback){\n",
       "  var s = document.createElement('script');\n",
       "  s.src = url;\n",
       "  s.async = true;\n",
       "  s.onreadystatechange = s.onload = callback;\n",
       "  s.onerror = function(){console.warn(\"failed to load library \" + url);};\n",
       "  document.getElementsByTagName(\"head\")[0].appendChild(s);\n",
       "}\n",
       "\n",
       "if(typeof(mpld3) !== \"undefined\" && mpld3._mpld3IsLoaded){\n",
       "   // already loaded: just create the figure\n",
       "   !function(mpld3){\n",
       "       \n",
       "       mpld3.draw_figure(\"fig_el5823844655726247739921608\", {\"axes\": [], \"height\": 320.0, \"width\": 480.0, \"plugins\": [{\"type\": \"reset\"}, {\"enabled\": false, \"button\": true, \"type\": \"zoom\"}, {\"enabled\": false, \"button\": true, \"type\": \"boxzoom\"}], \"data\": {}, \"id\": \"el582384465572624\"});\n",
       "   }(mpld3);\n",
       "}else if(typeof define === \"function\" && define.amd){\n",
       "   // require.js is available: use it to load d3/mpld3\n",
       "   require.config({paths: {d3: \"https://mpld3.github.io/js/d3.v3.min\"}});\n",
       "   require([\"d3\"], function(d3){\n",
       "      window.d3 = d3;\n",
       "      mpld3_load_lib(\"https://mpld3.github.io/js/mpld3.v0.3.js\", function(){\n",
       "         \n",
       "         mpld3.draw_figure(\"fig_el5823844655726247739921608\", {\"axes\": [], \"height\": 320.0, \"width\": 480.0, \"plugins\": [{\"type\": \"reset\"}, {\"enabled\": false, \"button\": true, \"type\": \"zoom\"}, {\"enabled\": false, \"button\": true, \"type\": \"boxzoom\"}], \"data\": {}, \"id\": \"el582384465572624\"});\n",
       "      });\n",
       "    });\n",
       "}else{\n",
       "    // require.js not available: dynamically load d3 & mpld3\n",
       "    mpld3_load_lib(\"https://mpld3.github.io/js/d3.v3.min.js\", function(){\n",
       "         mpld3_load_lib(\"https://mpld3.github.io/js/mpld3.v0.3.js\", function(){\n",
       "                 \n",
       "                 mpld3.draw_figure(\"fig_el5823844655726247739921608\", {\"axes\": [], \"height\": 320.0, \"width\": 480.0, \"plugins\": [{\"type\": \"reset\"}, {\"enabled\": false, \"button\": true, \"type\": \"zoom\"}, {\"enabled\": false, \"button\": true, \"type\": \"boxzoom\"}], \"data\": {}, \"id\": \"el582384465572624\"});\n",
       "            })\n",
       "         });\n",
       "}\n",
       "</script>"
      ],
      "text/plain": [
       "<matplotlib.figure.Figure at 0x10a2b3b10>"
      ]
     },
     "metadata": {},
     "output_type": "display_data"
    }
   ],
   "source": [
    "mpld3.fig_to_html(plt.gcf())"
   ]
  },
  {
   "cell_type": "code",
   "execution_count": null,
   "metadata": {
    "collapsed": true
   },
   "outputs": [],
   "source": []
  }
 ],
 "metadata": {
  "kernelspec": {
   "display_name": "Python 2",
   "language": "python",
   "name": "python2"
  },
  "language_info": {
   "codemirror_mode": {
    "name": "ipython",
    "version": 2
   },
   "file_extension": ".py",
   "mimetype": "text/x-python",
   "name": "python",
   "nbconvert_exporter": "python",
   "pygments_lexer": "ipython2",
   "version": "2.7.12"
  }
 },
 "nbformat": 4,
 "nbformat_minor": 0
}
