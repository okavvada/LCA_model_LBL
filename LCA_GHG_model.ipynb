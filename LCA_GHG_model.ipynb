{
 "cells": [
  {
   "cell_type": "code",
   "execution_count": 17,
   "metadata": {
    "collapsed": false
   },
   "outputs": [],
   "source": [
    "import pandas as pd\n",
    "import numpy as np\n",
    "import parameters as P\n",
    "import sensitivity_parameters as SP\n",
    "import helper_functions as hf"
   ]
  },
  {
   "cell_type": "code",
   "execution_count": 18,
   "metadata": {
    "collapsed": true
   },
   "outputs": [],
   "source": [
    "import matplotlib.pyplot as plt\n",
    "%matplotlib inline"
   ]
  },
  {
   "cell_type": "code",
   "execution_count": 19,
   "metadata": {
    "collapsed": true
   },
   "outputs": [],
   "source": [
    "io_data = pd.read_csv(P.io_table_dollars_path)"
   ]
  },
  {
   "cell_type": "code",
   "execution_count": 20,
   "metadata": {
    "collapsed": false
   },
   "outputs": [],
   "source": [
    "cost = hf.csv_dict_list(P.cost_impact_path)"
   ]
  },
  {
   "cell_type": "code",
   "execution_count": 21,
   "metadata": {
    "collapsed": false
   },
   "outputs": [],
   "source": [
    "y = {}\n",
    "for item in cost.keys():\n",
    "    y.update({item:0})"
   ]
  },
  {
   "cell_type": "code",
   "execution_count": 22,
   "metadata": {
    "collapsed": false
   },
   "outputs": [],
   "source": [
    "m = {} \n",
    "for scenario in P.scenario_range:\n",
    "    new_data = np.zeros([7,3])\n",
    "    m[scenario] = pd.DataFrame(new_data, columns=P.selectivity, index=P.processes)"
   ]
  },
  {
   "cell_type": "code",
   "execution_count": 23,
   "metadata": {
    "collapsed": false
   },
   "outputs": [],
   "source": [
    "for selectivity in P.selectivity:\n",
    "    for scenario in P.scenario_range:\n",
    "        if (selectivity == \"waterwash\"): \n",
    "            y[\"lysine.us.kg\"] = cost[\"lysine.us.kg\"] * SP.other_params[selectivity]['chlys_amount'][scenario] * 0.58 \n",
    "            # 58% lysine + 42% ChOH for Chylys production (Stoichiometry) \n",
    "            y[\"cholinium.hydroxide.kg\"] = (cost[\"cholinium.hydroxide.kg\"] * \n",
    "                                           SP.other_params[selectivity]['chlys_amount'][scenario] * 0.42)  \n",
    "            # 58% lysine + 42% ChOH for Chylys production (Stoichiometry) \n",
    "            y[\"cellulase.kg\"] = cost[\"cellulase.kg\"] * SP.common_params['enzyme'][scenario]\n",
    "            y[\"csl.kg\"] = cost[\"csl.kg\"] * 0.06\n",
    "            y[\"farmedstover.kg\"] = cost[\"farmedstover.kg\"] * SP.other_params[selectivity]['feedstock'][scenario]  \n",
    "            y[\"dap.kg\"] = cost[\"dap.kg\"] * 0.01\n",
    "            y[\"h2so4.kg\"] = cost[\"h2so4.kg\"] * 0.002\n",
    "            y[\"naturalgas.MJ\"] = cost[\"naturalgas.MJ\"] * (hf.FuelConvertMJ(\n",
    "                    SP.other_params[selectivity]['ng_input_stream_mass_ww_kg'][scenario], \"naturalgas\",\"kg\"))\n",
    "            y[\"rail.mt_km\"] = (cost[\"rail.mt_km\"] * (SP.other_params[selectivity]['chlys_amount'][scenario]/1000) * 100 * 1.6 +\n",
    "                                  cost[\"rail.mt_km\"] * (\n",
    "                                    P.etoh_feed_stream_mass_kg/1000 * SP.common_params['etoh_distribution_rail'][scenario])) \n",
    "            y[\"flatbedtruck.mt_km\"] = (cost[\"flatbedtruck.mt_km\"] * (\n",
    "                    (SP.other_params[selectivity]['chlys_amount'][scenario]/1000) * 50 * 1.6) +\n",
    "                    cost[\"flatbedtruck.mt_km\"] * (P.etoh_feed_stream_mass_kg/1000 * (\n",
    "                    SP.common_params['etoh_distribution_truck'][scenario])))\n",
    "            y[\"electricity.{}.kWh\".format(P.facility_electricity)] = (\n",
    "                cost[\"electricity.{}.kWh\".format(P.facility_electricity)] * (\n",
    "                    SP.other_params[selectivity]['electricity_requirements'][scenario]))\n",
    "\n",
    "            biorefinery_direct_ghg = hf.FuelCO2kg(hf.FuelConvertMJ(\n",
    "                    SP.other_params[selectivity]['ng_input_stream_mass_ww_kg'][scenario],\"naturalgas\",\"kg\"), \"naturalgas\")\n",
    "            \n",
    "        \n",
    "        if (selectivity == \"iHG-Projected\"):\n",
    "            y[\"lysine.us.kg\"] = cost[\"lysine.us.kg\"] * SP.other_params[selectivity]['chlys_amount'][scenario] * 0.58 \n",
    "            # 55% lysine + 45% ChOH for Chylys production (assumption) \n",
    "            y[\"cholinium.hydroxide.kg\"] = (cost[\"cholinium.hydroxide.kg\"] * \n",
    "                                           SP.other_params[selectivity]['chlys_amount'][scenario] * 0.42)  \n",
    "            # 50% lysine + 50% ChOH for Chylys production (assumption) \n",
    "            y[\"cellulase.kg\"] = cost[\"cellulase.kg\"] * SP.common_params['enzyme'][scenario]\n",
    "            y[\"csl.kg\"] = cost[\"csl.kg\"] * 0.05\n",
    "            y[\"farmedstover.kg\"] = cost[\"farmedstover.kg\"] * SP.other_params[selectivity]['feedstock'][scenario]\n",
    "            y[\"dap.kg\"] = cost[\"dap.kg\"] * 0.017  \n",
    "            y[\"rail.mt_km\"] = (cost[\"rail.mt_km\"] * (\n",
    "                (SP.other_params[selectivity]['chlys_amount'][scenario]/1000) * 100 * 1.6) +\n",
    "                               cost[\"rail.mt_km\"] * (\n",
    "                P.etoh_feed_stream_mass_kg/1000 * SP.common_params['etoh_distribution_rail'][scenario]))\n",
    "            y[\"flatbedtruck.mt_km\"] = (cost[\"flatbedtruck.mt_km\"] * (\n",
    "                (SP.other_params[selectivity]['chlys_amount'][scenario]/1000) * 50 * 1.6) +\n",
    "                    cost[\"flatbedtruck.mt_km\"] * (\n",
    "                        P.etoh_feed_stream_mass_kg/1000 * SP.common_params['etoh_distribution_truck'][scenario]))\n",
    "            y[\"electricity.{}.kWh\".format(P.facility_electricity)] = (\n",
    "                cost[\"electricity.{}.kWh\".format(P.facility_electricity)] * (\n",
    "                    SP.other_params[selectivity]['electricity_requirements'][scenario]))\n",
    "\n",
    "            biorefinery_direct_ghg = 0\n",
    "                    \n",
    "        if (selectivity == \"iHG-Current\"):\n",
    "            # Data needs to be updated for H2SO4! \n",
    "            y[\"lysine.us.kg\"] = cost[\"lysine.us.kg\"] * SP.other_params[selectivity]['chlys_amount'][scenario] * 0.58        \n",
    "            # 55% lysine + 45% ChOH for Chylys production (assumption) \n",
    "            y[\"cholinium.hydroxide.kg\"] = (cost[\"cholinium.hydroxide.kg\"] * \n",
    "                                           SP.other_params[selectivity]['chlys_amount'][scenario] * 0.42)  \n",
    "            # 50% lysine + 50% ChOH for Chylys production (assumption) \n",
    "            y[\"cellulase.kg\"] = cost[\"cellulase.kg\"] * SP.common_params['enzyme'][scenario]\n",
    "            y[\"csl.kg\"] = cost[\"csl.kg\"] * 0.05\n",
    "            y[\"farmedstover.kg\"] = cost[\"farmedstover.kg\"] * SP.other_params[selectivity]['feedstock'][scenario]\n",
    "            y[\"dap.kg\"] = cost[\"dap.kg\"] * 0.01\n",
    "            y[\"hcl.kg\"] = cost[\"hcl.kg\"] * 0.18\n",
    "            y[\"rail.mt_km\"] = (cost[\"rail.mt_km\"] * (\n",
    "                (SP.other_params[selectivity]['chlys_amount'][scenario]/1000) * 100 * 1.6) + (\n",
    "                P.etoh_feed_stream_mass_kg/1000 * SP.common_params['etoh_distribution_rail'][scenario]))\n",
    "            y[\"flatbedtruck.mt_km\"] = (cost[\"flatbedtruck.mt_km\"] * (\n",
    "                (SP.other_params[selectivity]['chlys_amount'][scenario]/1000) * 50 * 1.6) +\n",
    "                    cost[\"flatbedtruck.mt_km\"] * (\n",
    "                        P.etoh_feed_stream_mass_kg/1000 * SP.common_params['etoh_distribution_truck'][scenario])) \n",
    "\n",
    "            y[\"electricity.{}.kWh\".format(P.facility_electricity)] = (\n",
    "                cost[\"electricity.{}.kWh\".format(P.facility_electricity)] * (\n",
    "                    SP.other_params[selectivity]['electricity_requirements'][scenario]))\n",
    "\n",
    "        results_kg_co2e = hf.TotalGHGEmissions(io_data, y, cost, \n",
    "                                               biorefinery_direct_ghg, P.combustion_direct_ghg)\n",
    "        \n",
    "        results_kg_co2e_dict = results_kg_co2e.set_index('products')['ghg_results_kg'].to_dict()\n",
    "\n",
    "        m = hf.AggregateResults(m, results_kg_co2e_dict, selectivity, scenario)\n",
    "        \n",
    "        m[scenario][selectivity] = m[scenario][selectivity] * 1000/27 # converting kg per kg results to g per MJ"
   ]
  },
  {
   "cell_type": "code",
   "execution_count": 24,
   "metadata": {
    "collapsed": false
   },
   "outputs": [],
   "source": [
    "n = {} \n",
    "for scenario in P.scenario_range:\n",
    "    n_new_data = np.zeros([3,3])\n",
    "    n = pd.DataFrame(n_new_data, columns=P.selectivity, index=P.scenario_range)\n",
    "        "
   ]
  },
  {
   "cell_type": "code",
   "execution_count": 25,
   "metadata": {
    "collapsed": false
   },
   "outputs": [],
   "source": [
    "biorefinery_direct_ghg = 0\n",
    "for selectivity in P.selectivity:\n",
    "    for scenario in P.scenario_range:\n",
    "        y[\"electricity.{}.kWh\".format(P.facility_electricity)] = (\n",
    "                -cost[\"electricity.{}.kWh\".format(P.facility_electricity)] * (\n",
    "                    SP.other_params[selectivity]['electricity_credit'][scenario]))\n",
    "        \n",
    "        results_kg_co2e = hf.TotalGHGEmissions(io_data, y, cost, \n",
    "                                               biorefinery_direct_ghg, P.combustion_direct_ghg)\n",
    "        results_kg_co2e_dict = results_kg_co2e.set_index('products')['ghg_results_kg'].to_dict()\n",
    "        n[selectivity][scenario] = results_kg_co2e_dict[\"electricity.US.kWh\"]"
   ]
  },
  {
   "cell_type": "code",
   "execution_count": 26,
   "metadata": {
    "collapsed": false
   },
   "outputs": [],
   "source": [
    "aggregated_data_avg = m['avg'][['waterwash', 'iHG-Current', 'iHG-Projected']].T\n",
    "aggregated_data_low = m['low'][['waterwash', 'iHG-Current', 'iHG-Projected']].T\n",
    "aggregated_data_high = m['high'][['waterwash', 'iHG-Current', 'iHG-Projected']].T"
   ]
  },
  {
   "cell_type": "code",
   "execution_count": 27,
   "metadata": {
    "collapsed": false
   },
   "outputs": [],
   "source": [
    "aggregated_data_avg['electricity_credit'] = [0, -1.25, -15.22]\n",
    "aggregated_data_low['electricity_credit'] = [0, -9.5, -25.54]\n",
    "aggregated_data_high['electricity_credit'] = [0, -0.78, -2.1]"
   ]
  },
  {
   "cell_type": "code",
   "execution_count": 28,
   "metadata": {
    "collapsed": true
   },
   "outputs": [],
   "source": [
    "aggregated_data_avg_pos = aggregated_data_avg.drop(['electricity_credit'],1)\n",
    "aggregated_data_low_pos = aggregated_data_low.drop(['electricity_credit'],1)\n",
    "aggregated_data_high_pos = aggregated_data_high.drop(['electricity_credit'],1)"
   ]
  },
  {
   "cell_type": "code",
   "execution_count": 29,
   "metadata": {
    "collapsed": false
   },
   "outputs": [],
   "source": [
    "aggregated_data_avg_plot = aggregated_data_avg[list(reversed(aggregated_data_avg.columns.values))]"
   ]
  },
  {
   "cell_type": "code",
   "execution_count": 30,
   "metadata": {
    "collapsed": false
   },
   "outputs": [],
   "source": [
    "error_min = (aggregated_data_low.sum(axis=1) - aggregated_data_avg_pos.sum(axis=1)).values*(-1)\n",
    "error_max = (aggregated_data_high.sum(axis=1) - aggregated_data_avg_pos.sum(axis=1)).values\n",
    "plt_errors = [error_min, error_max]"
   ]
  },
  {
   "cell_type": "code",
   "execution_count": 31,
   "metadata": {
    "collapsed": false
   },
   "outputs": [
    {
     "data": {
      "text/plain": [
       "<matplotlib.legend.Legend at 0x109e662d0>"
      ]
     },
     "execution_count": 31,
     "metadata": {},
     "output_type": "execute_result"
    },
    {
     "data": {
      "image/png": "[encoded data removed]",
      "text/plain": [
       "<matplotlib.figure.Figure at 0x108f93c50>"
      ]
     },
     "metadata": {},
     "output_type": "display_data"
    }
   ],
   "source": [
    "plot = aggregated_data_avg_plot.plot(kind='bar', stacked = True, figsize=(9,6),\n",
    "                                     colormap='PRGn_r',\n",
    "                                     yerr={'Farming':plt_errors}, \n",
    "                                     error_kw= {'capsize':5, 'ecolor':'k', 'elinewidth':2, 'capthick':2, 'barsabove':True})\n",
    "plt.xticks(fontsize = 16)\n",
    "plt.yticks(fontsize = 16)\n",
    "plt.ylabel('gCO2 per MJ', fontsize = 18)\n",
    "plt.ylim(-20,195)\n",
    "plt.axhline(0, color='black', linewidth=2)\n",
    "plot.set_axis_bgcolor(\"#EBEBEB\")\n",
    "plot.legend(loc='lower center', bbox_to_anchor=(1.25, 0.1),ncol=1, fancybox=True, shadow=True,fontsize=14)"
   ]
  },
  {
   "cell_type": "code",
   "execution_count": null,
   "metadata": {
    "collapsed": true
   },
   "outputs": [],
   "source": []
  }
 ],
 "metadata": {
  "kernelspec": {
   "display_name": "Python 2",
   "language": "python",
   "name": "python2"
  },
  "language_info": {
   "codemirror_mode": {
    "name": "ipython",
    "version": 2
   },
   "file_extension": ".py",
   "mimetype": "text/x-python",
   "name": "python",
   "nbconvert_exporter": "python",
   "pygments_lexer": "ipython2",
   "version": "2.7.12"
  }
 },
 "nbformat": 4,
 "nbformat_minor": 0
}
