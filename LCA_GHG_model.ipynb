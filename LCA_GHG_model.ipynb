{
 "cells": [
  {
   "cell_type": "code",
   "execution_count": 1,
   "metadata": {
    "collapsed": false
   },
   "outputs": [],
   "source": [
    "import pandas as pd\n",
    "import numpy as np\n",
    "import parameters as P\n",
    "import sensitivity_parameters as SP\n",
    "\n",
    "import helper_functions as hf"
   ]
  },
  {
   "cell_type": "code",
   "execution_count": 2,
   "metadata": {
    "collapsed": true
   },
   "outputs": [],
   "source": [
    "import matplotlib.pyplot as plt\n",
    "%matplotlib inline"
   ]
  },
  {
   "cell_type": "code",
   "execution_count": 3,
   "metadata": {
    "collapsed": true
   },
   "outputs": [],
   "source": [
    "io_data = pd.read_csv(P.io_table_dollars_path)"
   ]
  },
  {
   "cell_type": "code",
   "execution_count": 4,
   "metadata": {
    "collapsed": false
   },
   "outputs": [],
   "source": [
    "cost = hf.csv_dict_list(P.cost_impact_path)\n",
    "etoh_feed_stream_mass_kg = 1 "
   ]
  },
  {
   "cell_type": "code",
   "execution_count": 5,
   "metadata": {
    "collapsed": false
   },
   "outputs": [],
   "source": [
    "y = {}\n",
    "for item in cost.keys():\n",
    "    y.update({item:0})\n",
    "    \n",
    "y_cred = {}\n",
    "for item in cost.keys():\n",
    "    y_cred.update({item:0})"
   ]
  },
  {
   "cell_type": "code",
   "execution_count": 6,
   "metadata": {
    "collapsed": false
   },
   "outputs": [],
   "source": [
    "m = {} \n",
    "for scenario in P.scenario_range:\n",
    "    new_data = np.zeros([8,3])\n",
    "    m[scenario] = pd.DataFrame(new_data, columns=P.selectivity, index=P.processes)\n",
    "    \n",
    "n = {} \n",
    "for scenario in P.scenario_range:\n",
    "    new_data = np.zeros([1,3])\n",
    "    n[scenario] = pd.DataFrame(new_data, columns=P.selectivity, index=['electricity_credit'])"
   ]
  },
  {
   "cell_type": "code",
   "execution_count": 7,
   "metadata": {
    "collapsed": false
   },
   "outputs": [],
   "source": [
    "for selectivity in P.selectivity:\n",
    "    for scenario in P.scenario_range:\n",
    "        y[\"lysine.us.kg\"] = cost[\"lysine.us.kg\"] * (SP.other_params[selectivity]['chlys_amount'][scenario] * \n",
    "                            SP.common_params['chlys_percent'][scenario]) \n",
    "        # 58% lysine + 42% ChOH for Chylys production (Stoichiometry) \n",
    "        y[\"cholinium.hydroxide.kg\"] = (cost[\"cholinium.hydroxide.kg\"] * \n",
    "                                       SP.other_params[selectivity]['chlys_amount'][scenario] * \n",
    "                                       SP.common_params['cholinium_percent'][scenario])  \n",
    "        # 58% lysine + 42% ChOH for Chylys production (Stoichiometry) \n",
    "        y[\"cellulase.kg\"] = cost[\"cellulase.kg\"] * SP.common_params['enzyme'][scenario]\n",
    "        y[\"csl.kg\"] = cost[\"csl.kg\"] * SP.other_params[selectivity]['csl.kg'][scenario]\n",
    "        y[\"farmedstover.kg\"] = cost[\"farmedstover.kg\"] * SP.other_params[selectivity]['feedstock'][scenario]  \n",
    "        y[\"dap.kg\"] = cost[\"dap.kg\"] * SP.other_params[selectivity]['dap.kg'][scenario] \n",
    "        y[\"h2so4.kg\"] = cost[\"h2so4.kg\"] * SP.other_params[selectivity]['h2so4.kg'][scenario]\n",
    "        y[\"naturalgas.MJ\"] = cost[\"naturalgas.MJ\"] * (hf.FuelConvertMJ(\n",
    "                            SP.other_params[selectivity]['ng_input_stream_mass_ww_kg'][scenario], \"naturalgas\",\"kg\"))\n",
    "        y[\"rail.mt_km\"] = (cost[\"rail.mt_km\"] * (SP.other_params[selectivity]['chlys_amount'][scenario]/1000) * \n",
    "                        SP.common_params['chlys_rail_mt_km'][scenario] +\n",
    "                            cost[\"rail.mt_km\"] * (\n",
    "                                etoh_feed_stream_mass_kg/1000 * SP.common_params['etoh_distribution_rail'][scenario])) \n",
    "        y[\"flatbedtruck.mt_km\"] = (cost[\"flatbedtruck.mt_km\"] * (\n",
    "                (SP.other_params[selectivity]['chlys_amount'][scenario]/1000) * \n",
    "                    SP.common_params['chlys_flatbedtruck_mt_km'][scenario]) +\n",
    "                        cost[\"flatbedtruck.mt_km\"] * (etoh_feed_stream_mass_kg/1000 * (\n",
    "                            SP.common_params['etoh_distribution_truck'][scenario])))\n",
    "        y[\"electricity.{}.kWh\".format(SP.analysis_params['facility_electricity'])] = (\n",
    "            cost[\"electricity.{}.kWh\".format(SP.analysis_params['facility_electricity'])] * (\n",
    "                SP.other_params[selectivity]['electricity_requirements'][scenario]))\n",
    "        y[\"hcl.kg\"] = cost[\"hcl.kg\"] * SP.other_params[selectivity]['hcl.kg'][scenario]\n",
    "\n",
    "        biorefinery_direct_ghg = hf.FuelCO2kg(hf.FuelConvertMJ(\n",
    "                SP.other_params[selectivity]['ng_input_stream_mass_ww_kg'][scenario],\"naturalgas\",\"kg\"), \"naturalgas\")\n",
    "\n",
    "        results_kg_co2e = hf.TotalGHGEmissions(io_data, y, cost, \n",
    "                                               biorefinery_direct_ghg, SP.analysis_params['combustion_direct_ghg'],\n",
    "                                              SP.analysis_params['time_horizon'])\n",
    "           \n",
    "        y_cred[\"electricity.{}.kWh\".format(SP.analysis_params['facility_electricity'])] = -(\n",
    "            cost[\"electricity.{}.kWh\".format(SP.analysis_params['facility_electricity'])] * (\n",
    "                SP.other_params[selectivity]['electricity_credit'][scenario]))\n",
    "        \n",
    "        \n",
    "        results_kg_co2e_credit = hf.TotalGHGEmissions(io_data, y_cred, cost, \n",
    "                                                   biorefinery_direct_ghg, SP.analysis_params['combustion_direct_ghg'],\n",
    "                                                  SP.analysis_params['time_horizon'])\n",
    "        \n",
    "        results_kg_co2e_credit_dict = results_kg_co2e_credit.set_index('products')['ghg_results_kg'].to_dict()\n",
    "        \n",
    "        results_kg_co2e_dict = results_kg_co2e.set_index('products')['ghg_results_kg'].to_dict()\n",
    "\n",
    "        hf.AggregateResults(m, results_kg_co2e_dict, selectivity, scenario)\n",
    "\n",
    "        \n",
    "        m[scenario][selectivity] = m[scenario][selectivity] * 1000/27 # converting kg per kg results to g per MJ\n",
    "        m[scenario][selectivity].loc['electricity_credit'] = (results_kg_co2e_credit[results_kg_co2e_credit['products'] == \n",
    "                                                'electricity.US.kWh']['ghg_results_kg'].iloc[0] * 1000/27)"
   ]
  },
  {
   "cell_type": "code",
   "execution_count": 8,
   "metadata": {
    "collapsed": false
   },
   "outputs": [
    {
     "data": {
      "text/plain": [
       "{'avg':                            iHG-Projected  iHG-Current  waterwash\n",
       " electricity_credit            -15.224557    -1.791124   0.000000\n",
       " Farming                         2.903830     2.903830   3.379564\n",
       " Transportation                  3.683544     4.475926   5.472493\n",
       " Petroleum                       2.182441     2.870289   5.800505\n",
       " Electricity                     9.505824    18.782255  41.253173\n",
       " Chemicals_And_Fertilizers       9.054613    20.188270  18.056143\n",
       " Direct                          0.000000     0.000000  94.041719\n",
       " Other                           0.407407     0.777778   0.851852,\n",
       " 'high':                            iHG-Projected  iHG-Current   waterwash\n",
       " electricity_credit             -1.791124    -1.791124    0.000000\n",
       " Farming                         3.194213     3.194213    3.713196\n",
       " Transportation                  4.028063     4.919270    5.950810\n",
       " Petroleum                       2.381753     3.149007    6.252992\n",
       " Electricity                    10.449636    20.532210   45.040133\n",
       " Chemicals_And_Fertilizers       9.834756    21.998898   19.318473\n",
       " Direct                          0.000000     0.000000  100.502601\n",
       " Other                           0.444444     0.851852    0.888889,\n",
       " 'low':                            iHG-Projected  iHG-Current  waterwash\n",
       " electricity_credit            -25.075740    -1.791124   0.000000\n",
       " Farming                         2.613447     2.613447   3.027398\n",
       " Transportation                  3.339024     4.032581   4.917668\n",
       " Petroleum                       1.983128     2.591570   5.074987\n",
       " Electricity                     8.562013    17.032301  36.990508\n",
       " Chemicals_And_Fertilizers       8.274469    18.377642  16.162843\n",
       " Direct                          0.000000     0.000000  78.966329\n",
       " Other                           0.407407     0.703704   0.777778}"
      ]
     },
     "execution_count": 8,
     "metadata": {},
     "output_type": "execute_result"
    }
   ],
   "source": [
    "m"
   ]
  },
  {
   "cell_type": "code",
   "execution_count": 9,
   "metadata": {
    "collapsed": false
   },
   "outputs": [],
   "source": [
    "aggregated_data_avg = m['avg'][['waterwash', 'iHG-Current', 'iHG-Projected']].T\n",
    "aggregated_data_low = m['low'][['waterwash', 'iHG-Current', 'iHG-Projected']].T\n",
    "aggregated_data_high = m['high'][['waterwash', 'iHG-Current', 'iHG-Projected']].T"
   ]
  },
  {
   "cell_type": "code",
   "execution_count": null,
   "metadata": {
    "collapsed": false
   },
   "outputs": [],
   "source": [
    "bb = aggregated_data_high.to_dict()"
   ]
  },
  {
   "cell_type": "code",
   "execution_count": 11,
   "metadata": {
    "collapsed": false
   },
   "outputs": [
    {
     "data": {
      "text/plain": [
       "waterwash        168.855449\n",
       "iHG-Current       48.207224\n",
       "iHG-Projected     12.513102\n",
       "dtype: float64"
      ]
     },
     "execution_count": 11,
     "metadata": {},
     "output_type": "execute_result"
    }
   ],
   "source": [
    "aggregated_data_avg.sum(axis=1)"
   ]
  },
  {
   "cell_type": "code",
   "execution_count": 13,
   "metadata": {
    "collapsed": false
   },
   "outputs": [
    {
     "data": {
      "text/plain": [
       "waterwash        145.917511\n",
       "iHG-Current       43.560121\n",
       "iHG-Projected      0.103748\n",
       "dtype: float64"
      ]
     },
     "execution_count": 13,
     "metadata": {},
     "output_type": "execute_result"
    }
   ],
   "source": [
    "aggregated_data_low.sum(axis=1)"
   ]
  },
  {
   "cell_type": "code",
   "execution_count": 12,
   "metadata": {
    "collapsed": false
   },
   "outputs": [
    {
     "data": {
      "text/plain": [
       "waterwash        181.667095\n",
       "iHG-Current       52.854327\n",
       "iHG-Projected     28.541743\n",
       "dtype: float64"
      ]
     },
     "execution_count": 12,
     "metadata": {},
     "output_type": "execute_result"
    }
   ],
   "source": [
    "aggregated_data_high.sum(axis=1)"
   ]
  },
  {
   "cell_type": "code",
   "execution_count": null,
   "metadata": {
    "collapsed": false
   },
   "outputs": [],
   "source": [
    "\n",
    "for key, value in bb.iteritems():\n",
    "    key"
   ]
  },
  {
   "cell_type": "code",
   "execution_count": null,
   "metadata": {
    "collapsed": false
   },
   "outputs": [],
   "source": [
    "aggregated_data_high['error_max'] = "
   ]
  },
  {
   "cell_type": "code",
   "execution_count": null,
   "metadata": {
    "collapsed": false
   },
   "outputs": [],
   "source": [
    "aggregated_data_avg['electricity_credit'] = [0, -1.25, -15.22]\n",
    "aggregated_data_low['electricity_credit'] = [0, -9.5, -25.54]\n",
    "aggregated_data_high['electricity_credit'] = [0, -0.78, -2.1]"
   ]
  },
  {
   "cell_type": "code",
   "execution_count": null,
   "metadata": {
    "collapsed": true
   },
   "outputs": [],
   "source": [
    "aggregated_data_avg_pos = aggregated_data_avg.drop(['electricity_credit'],1)\n",
    "aggregated_data_low_pos = aggregated_data_low.drop(['electricity_credit'],1)\n",
    "aggregated_data_high_pos = aggregated_data_high.drop(['electricity_credit'],1)"
   ]
  },
  {
   "cell_type": "code",
   "execution_count": null,
   "metadata": {
    "collapsed": false
   },
   "outputs": [],
   "source": [
    "aggregated_data_avg_plot = aggregated_data_avg[list(reversed(aggregated_data_avg.columns.values))]"
   ]
  },
  {
   "cell_type": "code",
   "execution_count": null,
   "metadata": {
    "collapsed": false
   },
   "outputs": [],
   "source": [
    "aggregated_data_avg_plot"
   ]
  },
  {
   "cell_type": "code",
   "execution_count": null,
   "metadata": {
    "collapsed": false
   },
   "outputs": [],
   "source": [
    "error_min = (aggregated_data_low.sum(axis=1) - aggregated_data_avg_pos.sum(axis=1)).values*(-1)\n",
    "error_max = (aggregated_data_high.sum(axis=1) - aggregated_data_avg_pos.sum(axis=1)).values\n",
    "plt_errors = [error_min, error_max]"
   ]
  },
  {
   "cell_type": "code",
   "execution_count": null,
   "metadata": {
    "collapsed": false
   },
   "outputs": [],
   "source": [
    "import mpld3\n",
    "mpld3.enable_notebook()\n",
    "# mpld3.disable_notebook()"
   ]
  },
  {
   "cell_type": "code",
   "execution_count": null,
   "metadata": {
    "collapsed": false
   },
   "outputs": [],
   "source": [
    "\n",
    "plot = aggregated_data_avg_plot.plot(kind='bar', stacked = True, figsize=(9,6),\n",
    "                                     colormap='PRGn_r',\n",
    "                                     yerr={'Farming':plt_errors}, \n",
    "                                     error_kw= {'capsize':5, 'ecolor':'k', 'elinewidth':2, 'capthick':2, 'barsabove':True})\n",
    "plt.xticks(fontsize = 16)\n",
    "plt.yticks(fontsize = 16)\n",
    "plt.ylabel('gCO2 per MJ', fontsize = 18)\n",
    "plt.ylim(-20,195)\n",
    "plt.axhline(0, color='black', linewidth=2)\n",
    "plot.set_axis_bgcolor(\"#EBEBEB\")\n",
    "plot.legend(loc='lower center', bbox_to_anchor=(1.25, 0.1),ncol=1, fancybox=True, shadow=True,fontsize=14)\n",
    "with open('/Users/olga/Desktop/fig.html', 'w') as fn:\n",
    "    fn.write(mpld3.fig_to_html(plt.gcf()))"
   ]
  },
  {
   "cell_type": "code",
   "execution_count": null,
   "metadata": {
    "collapsed": false
   },
   "outputs": [],
   "source": [
    "mpld3.fig_to_html(plt.gcf())"
   ]
  },
  {
   "cell_type": "code",
   "execution_count": null,
   "metadata": {
    "collapsed": true
   },
   "outputs": [],
   "source": []
  }
 ],
 "metadata": {
  "kernelspec": {
   "display_name": "Python 2",
   "language": "python",
   "name": "python2"
  },
  "language_info": {
   "codemirror_mode": {
    "name": "ipython",
    "version": 2
   },
   "file_extension": ".py",
   "mimetype": "text/x-python",
   "name": "python",
   "nbconvert_exporter": "python",
   "pygments_lexer": "ipython2",
   "version": "2.7.12"
  }
 },
 "nbformat": 4,
 "nbformat_minor": 0
}
