{
 "cells": [
  {
   "cell_type": "code",
   "execution_count": 22,
   "metadata": {
    "collapsed": false
   },
   "outputs": [],
   "source": [
    "import pandas as pd\n",
    "import numpy as np\n",
    "import parameters as P\n",
    "import sensitivity_parameters as SP\n",
    "\n",
    "import helper_functions as hf"
   ]
  },
  {
   "cell_type": "code",
   "execution_count": 23,
   "metadata": {
    "collapsed": true
   },
   "outputs": [],
   "source": [
    "import matplotlib.pyplot as plt\n",
    "%matplotlib inline"
   ]
  },
  {
   "cell_type": "code",
   "execution_count": 24,
   "metadata": {
    "collapsed": true
   },
   "outputs": [],
   "source": [
    "io_data = pd.read_csv(P.io_table_dollars_path).fillna(0)"
   ]
  },
  {
   "cell_type": "code",
   "execution_count": 27,
   "metadata": {
    "collapsed": false
   },
   "outputs": [],
   "source": [
    "water_consumption = hf.csv_dict_list(P.water_consumption_path)"
   ]
  },
  {
   "cell_type": "code",
   "execution_count": 28,
   "metadata": {
    "collapsed": false
   },
   "outputs": [
    {
     "data": {
      "text/plain": [
       "{'1-bromoalkane.kg': 0.0,\n",
       " '1-methylimidazole.kg': 0.0,\n",
       " '1_chlorobutane.kg': 0.0,\n",
       " '1_chloroethane.kg': 0.0,\n",
       " 'acetic.acid.kg': 0.0,\n",
       " 'acetone.kg': 0.0,\n",
       " 'alpha_amylase.kg': 0.0,\n",
       " 'ammo.chloride.kg': 0.0,\n",
       " 'ammonia.kg': 11.0,\n",
       " 'ammonia_brazil.kg': 0.0,\n",
       " 'ammonium.sulfate.kg': 0.0,\n",
       " 'atrazine.kg': 7.3,\n",
       " 'atrazine_brazil.kg': 0.0,\n",
       " 'barge.mt_km': 0.0,\n",
       " 'bromine.kg': 0.0,\n",
       " 'butadiene.kg': 0.0,\n",
       " 'butadiene_via_butane.kg': 0.0,\n",
       " 'butane.MJ': 0.0,\n",
       " 'caco3.kg': 0.0,\n",
       " 'caco3_brazil.kg': 0.0,\n",
       " 'cellulase.kg': 0.0,\n",
       " 'cement.kg': 0.0,\n",
       " 'char.MJ': 0.0,\n",
       " 'cholinium.hydroxide.kg': 0.56,\n",
       " 'cholinium.lysinate.kg': 0.0,\n",
       " 'citric.acid.kg': 0.0,\n",
       " 'coal.MJ': 0.0573,\n",
       " 'concrete.cu.m': 0.0,\n",
       " 'corn.bushel': 0.0,\n",
       " 'corn.stover.kg': 0.0,\n",
       " 'corn.stover.transportation.kg': 0.0,\n",
       " 'corn_grain_ethanol.MJ': 0.0,\n",
       " 'corn_grain_ethanol_rolledup.MJ': 0.0,\n",
       " 'corn_oil.kg': 0.0,\n",
       " 'corn_starch.kg': 0.0,\n",
       " 'corn_stover_ethanol_rolledup.MJ': 0.0,\n",
       " 'crudeoil.MJ': 0.0755,\n",
       " 'cs.ethanol.chly.distribution.kg': 0.0,\n",
       " 'cs.ethanol.chly.production.kg': 0.0,\n",
       " 'cs.ethanol.emimoac.production.kg': 0.0,\n",
       " 'csl.kg': 0.0,\n",
       " 'dap.kg': 0.0,\n",
       " 'ddgs.kg': 0.0,\n",
       " 'diesel.MJ': 0.159,\n",
       " 'electricity.Coal.kWh': 2.129963899,\n",
       " 'electricity.FRCC.kWh': 2.057761733,\n",
       " 'electricity.Lignin.kWh': 0.0,\n",
       " 'electricity.MRO.kWh': 1.841155235,\n",
       " 'electricity.NG.kWh': 2.38267148,\n",
       " 'electricity.NGCC.kWh': 2.057761733,\n",
       " 'electricity.NPCC.kWh': 1.805054152,\n",
       " 'electricity.RFC.kWh': 2.238267148,\n",
       " 'electricity.Renewables.kWh': 0.0,\n",
       " 'electricity.SERC.kWh': 2.02166065,\n",
       " 'electricity.SPP.kWh': 2.418772563,\n",
       " 'electricity.TRE.kWh': 2.599277978,\n",
       " 'electricity.US.kWh': 2.057761733,\n",
       " 'electricity.WECC.kWh': 1.877256318,\n",
       " 'electricity.china.kWh': 0.0,\n",
       " 'emimaco.kg': 0.0,\n",
       " 'emimcl.kg': 0.0,\n",
       " 'ethyl.acetate.kg': 0.0,\n",
       " 'ethylene.MJ': 0.0,\n",
       " 'ethylene.glycol.kg': 0.0,\n",
       " 'ethylene_oxide.kg': 0.0,\n",
       " 'etoh.ethylene.kg': 0.0,\n",
       " 'farmedbrazilcane.kg': 0.0,\n",
       " 'farmedmiscanthus.kg': 0.0,\n",
       " 'farmedstover.kg': 0.0,\n",
       " 'farmedstraw.kg': 0.0,\n",
       " 'farmequip.NA': 0.0,\n",
       " 'flatbedtruck.mt_km': 0.0,\n",
       " 'flyash.kg': 0.0,\n",
       " 'formaldehyde.kg': 0.0,\n",
       " 'gasoline.MJ': 0.0,\n",
       " 'gaspipeline.mt_km': 0.0,\n",
       " 'gluco_amylase.kg': 0.0,\n",
       " 'glucose.kg': 0.0,\n",
       " 'glycerin.kg': 0.0,\n",
       " 'glyoxal.kg': 0.0,\n",
       " 'glyphosate.kg': 0.0,\n",
       " 'h2.kg': 5.6,\n",
       " 'h2so4.kg': 5.0,\n",
       " 'hcl.kg': 4.6,\n",
       " 'heavytruck.china.mt_km': 0.0,\n",
       " 'insecticide.kg': 4.7,\n",
       " 'insecticide_brazil.kg': 0.0,\n",
       " 'k2o.kg': 5.12,\n",
       " 'k2o_brazil.kg': 0.0,\n",
       " 'ligninpellets.MJ': 0.0,\n",
       " 'lime.kg': 0.094,\n",
       " 'liquidpipeline.mt_km': 0.0,\n",
       " 'lpg.kg': 0.0,\n",
       " 'lysine.china.kg': 0.0,\n",
       " 'lysine.us.kg': 0.0,\n",
       " 'manganese.kg': 0.0,\n",
       " 'manganese_sulfate.kg': 0.0,\n",
       " 'marinetanker.mt_km': 0.0,\n",
       " 'meim.kg': 0.0,\n",
       " 'methanol.kg': 0.0,\n",
       " 'methylamine.kg': 0.0,\n",
       " 'molasses.kg': 0.0,\n",
       " 'n.kg': 5.12,\n",
       " 'n_butanol.kg': 0.0,\n",
       " 'nacl.kg': 0.0,\n",
       " 'naoh.kg': 4.6,\n",
       " 'naturalgas.MJ': 0.0,\n",
       " 'o2.kg': 0.0,\n",
       " 'p.kg': 0.0,\n",
       " 'p2o5.kg': 30.0,\n",
       " 'petrobutanol.MJ': 0.0,\n",
       " 'petrohexanol.MJ': 0.0,\n",
       " 'phosphoric.acid.kg': 0.0,\n",
       " 'propene.MJ': 0.0,\n",
       " 'rail.china.mt_km': 0.0,\n",
       " 'rail.mt_km': 0.0,\n",
       " 'refgas.MJ': 0.0,\n",
       " 'rfo.MJ': 0.049,\n",
       " 'sbm.kg': 0.0,\n",
       " 'sg.ethanol.chly.distribution.kg': 0.0,\n",
       " 'sg.ethanol.chly.production.kg': 0.0,\n",
       " 'sg.ethanol.emimoac.production.kg': 0.0,\n",
       " 'silica.kg': 0.0,\n",
       " 'steel_canadian.kg': 0.0,\n",
       " 'steel_chinese.kg': 0.0,\n",
       " 'steel_domestic.kg': 0.0,\n",
       " 'sugarcane_ethanol.MJ': 0.0,\n",
       " 'sugarcane_ethanol_rolledup.MJ': 0.0,\n",
       " 'switchgrass.kg': 0.0,\n",
       " 'switchgrass.transportation.kg': 0.0,\n",
       " 't_butanol.kg': 0.0,\n",
       " 'tankertruck.mt_km': 0.0,\n",
       " 'triethylaluminum.kg': 4.6,\n",
       " 'trimethylamine.kg': 0.0,\n",
       " 'uranium.kg': 0.0,\n",
       " 'urea.kg': 0.0,\n",
       " 'urea_brazil.kg': 0.0,\n",
       " 'yeast.kg': 0.0,\n",
       " 'zeolite.kg': 0.0}"
      ]
     },
     "execution_count": 28,
     "metadata": {},
     "output_type": "execute_result"
    }
   ],
   "source": [
    "water_consumption"
   ]
  },
  {
   "cell_type": "code",
   "execution_count": 17,
   "metadata": {
    "collapsed": false
   },
   "outputs": [],
   "source": [
    "cost = hf.csv_dict_list(P.cost_impact_path)\n",
    "etoh_feed_stream_mass_kg = 1 "
   ]
  },
  {
   "cell_type": "code",
   "execution_count": 18,
   "metadata": {
    "collapsed": false
   },
   "outputs": [],
   "source": [
    "y = {}\n",
    "for item in cost.keys():\n",
    "    y.update({item:0})\n",
    "    \n",
    "y_cred = {}\n",
    "for item in cost.keys():\n",
    "    y_cred.update({item:0})"
   ]
  },
  {
   "cell_type": "code",
   "execution_count": 19,
   "metadata": {
    "collapsed": false
   },
   "outputs": [],
   "source": [
    "m = {} \n",
    "for scenario in P.scenario_range:\n",
    "    new_data = np.zeros([8,3])\n",
    "    m[scenario] = pd.DataFrame(new_data, columns=P.selectivity, index=P.processes)\n",
    "    \n",
    "n = {} \n",
    "for scenario in P.scenario_range:\n",
    "    new_data = np.zeros([1,3])\n",
    "    n[scenario] = pd.DataFrame(new_data, columns=P.selectivity, index=['electricity_credit'])"
   ]
  },
  {
   "cell_type": "code",
   "execution_count": 20,
   "metadata": {
    "collapsed": false
   },
   "outputs": [],
   "source": [
    "for selectivity in P.selectivity:\n",
    "    for scenario in P.scenario_range:\n",
    "        y[\"lysine.us.kg\"] = cost[\"lysine.us.kg\"] * (SP.other_params[selectivity]['chlys_amount'][scenario] * \n",
    "                            SP.common_params['chlys_percent'][scenario]) \n",
    "        # 58% lysine + 42% ChOH for Chylys production (Stoichiometry) \n",
    "        y[\"cholinium.hydroxide.kg\"] = (cost[\"cholinium.hydroxide.kg\"] * \n",
    "                                       SP.other_params[selectivity]['chlys_amount'][scenario] * \n",
    "                                       SP.common_params['cholinium_percent'][scenario])  \n",
    "        # 58% lysine + 42% ChOH for Chylys production (Stoichiometry) \n",
    "        y[\"cellulase.kg\"] = cost[\"cellulase.kg\"] * SP.common_params['enzyme'][scenario]\n",
    "        y[\"csl.kg\"] = cost[\"csl.kg\"] * SP.other_params[selectivity]['csl.kg'][scenario]\n",
    "        y[\"farmedstover.kg\"] = cost[\"farmedstover.kg\"] * SP.other_params[selectivity]['feedstock'][scenario]  \n",
    "        y[\"dap.kg\"] = cost[\"dap.kg\"] * SP.other_params[selectivity]['dap.kg'][scenario] \n",
    "        y[\"h2so4.kg\"] = cost[\"h2so4.kg\"] * SP.other_params[selectivity]['h2so4.kg'][scenario]\n",
    "        y[\"naturalgas.MJ\"] = cost[\"naturalgas.MJ\"] * (hf.FuelConvertMJ(\n",
    "                            SP.other_params[selectivity]['ng_input_stream_mass_ww_kg'][scenario], \"naturalgas\",\"kg\"))\n",
    "        y[\"rail.mt_km\"] = (cost[\"rail.mt_km\"] * (SP.other_params[selectivity]['chlys_amount'][scenario]/1000) * \n",
    "                        SP.common_params['chlys_rail_mt_km'][scenario] +\n",
    "                            cost[\"rail.mt_km\"] * (\n",
    "                                etoh_feed_stream_mass_kg/1000 * SP.common_params['etoh_distribution_rail'][scenario])) \n",
    "        y[\"flatbedtruck.mt_km\"] = (cost[\"flatbedtruck.mt_km\"] * (\n",
    "                (SP.other_params[selectivity]['chlys_amount'][scenario]/1000) * \n",
    "                    SP.common_params['chlys_flatbedtruck_mt_km'][scenario]) +\n",
    "                        cost[\"flatbedtruck.mt_km\"] * (etoh_feed_stream_mass_kg/1000 * (\n",
    "                            SP.common_params['etoh_distribution_truck'][scenario])))\n",
    "        y[\"electricity.{}.kWh\".format(SP.analysis_params['facility_electricity'])] = (\n",
    "            cost[\"electricity.{}.kWh\".format(SP.analysis_params['facility_electricity'])] * (\n",
    "                SP.other_params[selectivity]['electricity_requirements'][scenario]))\n",
    "        y[\"hcl.kg\"] = cost[\"hcl.kg\"] * SP.other_params[selectivity]['hcl.kg'][scenario]\n",
    "\n",
    "        biorefinery_direct_ghg = hf.FuelCO2kg(hf.FuelConvertMJ(\n",
    "                SP.other_params[selectivity]['ng_input_stream_mass_ww_kg'][scenario],\"naturalgas\",\"kg\"), \"naturalgas\")\n",
    "\n",
    "        results_kg_co2e = hf.TotalGHGEmissions(io_data, y, cost, \n",
    "                                               biorefinery_direct_ghg, SP.analysis_params['combustion_direct_ghg'],\n",
    "                                              SP.analysis_params['time_horizon'])\n",
    "           \n",
    "        y_cred[\"electricity.{}.kWh\".format(SP.analysis_params['facility_electricity'])] = -(\n",
    "            cost[\"electricity.{}.kWh\".format(SP.analysis_params['facility_electricity'])] * (\n",
    "                SP.other_params[selectivity]['electricity_credit'][scenario]))\n",
    "        \n",
    "        \n",
    "        results_kg_co2e_credit = hf.TotalGHGEmissions(io_data, y_cred, cost, \n",
    "                                                   biorefinery_direct_ghg, SP.analysis_params['combustion_direct_ghg'],\n",
    "                                                  SP.analysis_params['time_horizon'])\n",
    "        \n",
    "        results_kg_co2e_credit_dict = results_kg_co2e_credit.set_index('products')['ghg_results_kg'].to_dict()\n",
    "        \n",
    "        results_kg_co2e_dict = results_kg_co2e.set_index('products')['ghg_results_kg'].to_dict()\n",
    "\n",
    "        hf.AggregateResults(m, results_kg_co2e_dict, selectivity, scenario)\n",
    "\n",
    "        \n",
    "        m[scenario][selectivity] = m[scenario][selectivity] * 1000/27 # converting kg per kg results to g per MJ\n",
    "        m[scenario][selectivity].loc['electricity_credit'] = (results_kg_co2e_credit[results_kg_co2e_credit['products'] == \n",
    "                                                'electricity.US.kWh']['ghg_results_kg'].iloc[0] * 1000/27)"
   ]
  },
  {
   "cell_type": "code",
   "execution_count": 21,
   "metadata": {
    "collapsed": false
   },
   "outputs": [
    {
     "data": {
      "text/plain": [
       "{'avg':                            iHG-Projected  iHG-Current    waterwash\n",
       " electricity_credit            -15.280111    -1.797660    -0.000000\n",
       " Farming                         2.903830     2.903830     3.379564\n",
       " Transportation                183.106684   281.478985   289.019696\n",
       " Petroleum                     548.708845   969.610969   973.114943\n",
       " Electricity                   802.190888  1061.458250  1074.163519\n",
       " Chemicals_And_Fertilizers      99.194565   287.674899   299.049948\n",
       " Direct                          0.000000     0.000000    94.041719\n",
       " Other                           1.185185     1.703704     1.851852,\n",
       " 'high':                            iHG-Projected  iHG-Current    waterwash\n",
       " electricity_credit             -1.797660    -1.797660    -0.000000\n",
       " Farming                         3.194213     3.194213     3.713196\n",
       " Transportation                200.786210   311.525344   312.210844\n",
       " Petroleum                     601.037932  1071.913120  1047.358998\n",
       " Electricity                   882.344971  1171.589306  1169.180150\n",
       " Chemicals_And_Fertilizers     108.700580   321.476694   318.563320\n",
       " Direct                          0.000000     0.000000   100.502601\n",
       " Other                           1.259259     1.851852     2.000000,\n",
       " 'low':                            iHG-Projected  iHG-Current   waterwash\n",
       " electricity_credit            -25.167241    -1.797660   -0.000000\n",
       " Farming                         2.613447     2.613447    3.027398\n",
       " Transportation                165.427158   251.432626  258.524332\n",
       " Petroleum                     496.379759   867.308819  869.187909\n",
       " Electricity                   722.036804   951.327194  961.512414\n",
       " Chemicals_And_Fertilizers      89.688551   253.873104  265.243565\n",
       " Direct                          0.000000     0.000000   78.966329\n",
       " Other                           1.074074     1.518519    1.703704}"
      ]
     },
     "execution_count": 21,
     "metadata": {},
     "output_type": "execute_result"
    }
   ],
   "source": [
    "m"
   ]
  },
  {
   "cell_type": "code",
   "execution_count": 9,
   "metadata": {
    "collapsed": false
   },
   "outputs": [],
   "source": [
    "aggregated_data_avg = m['avg'][['waterwash', 'iHG-Current', 'iHG-Projected']].T\n",
    "aggregated_data_low = m['low'][['waterwash', 'iHG-Current', 'iHG-Projected']].T\n",
    "aggregated_data_high = m['high'][['waterwash', 'iHG-Current', 'iHG-Projected']].T"
   ]
  },
  {
   "cell_type": "code",
   "execution_count": null,
   "metadata": {
    "collapsed": false
   },
   "outputs": [],
   "source": [
    "aggregated_data_avg['electricity_credit'] = [0, -1.25, -15.22]\n",
    "aggregated_data_low['electricity_credit'] = [0, -9.5, -25.54]\n",
    "aggregated_data_high['electricity_credit'] = [0, -0.78, -2.1]"
   ]
  },
  {
   "cell_type": "code",
   "execution_count": null,
   "metadata": {
    "collapsed": true
   },
   "outputs": [],
   "source": [
    "aggregated_data_avg_pos = aggregated_data_avg.drop(['electricity_credit'],1)\n",
    "aggregated_data_low_pos = aggregated_data_low.drop(['electricity_credit'],1)\n",
    "aggregated_data_high_pos = aggregated_data_high.drop(['electricity_credit'],1)"
   ]
  },
  {
   "cell_type": "code",
   "execution_count": null,
   "metadata": {
    "collapsed": false
   },
   "outputs": [],
   "source": [
    "aggregated_data_avg_plot = aggregated_data_avg[list(reversed(aggregated_data_avg.columns.values))]"
   ]
  },
  {
   "cell_type": "code",
   "execution_count": null,
   "metadata": {
    "collapsed": false
   },
   "outputs": [],
   "source": [
    "aggregated_data_avg_plot"
   ]
  },
  {
   "cell_type": "code",
   "execution_count": null,
   "metadata": {
    "collapsed": false
   },
   "outputs": [],
   "source": [
    "error_min = (aggregated_data_low.sum(axis=1) - aggregated_data_avg_pos.sum(axis=1)).values*(-1)\n",
    "error_max = (aggregated_data_high.sum(axis=1) - aggregated_data_avg_pos.sum(axis=1)).values\n",
    "plt_errors = [error_min, error_max]"
   ]
  },
  {
   "cell_type": "code",
   "execution_count": null,
   "metadata": {
    "collapsed": false
   },
   "outputs": [],
   "source": [
    "import mpld3\n",
    "mpld3.enable_notebook()\n",
    "# mpld3.disable_notebook()"
   ]
  },
  {
   "cell_type": "code",
   "execution_count": null,
   "metadata": {
    "collapsed": false
   },
   "outputs": [],
   "source": [
    "\n",
    "plot = aggregated_data_avg_plot.plot(kind='bar', stacked = True, figsize=(9,6),\n",
    "                                     colormap='PRGn_r',\n",
    "                                     yerr={'Farming':plt_errors}, \n",
    "                                     error_kw= {'capsize':5, 'ecolor':'k', 'elinewidth':2, 'capthick':2, 'barsabove':True})\n",
    "plt.xticks(fontsize = 16)\n",
    "plt.yticks(fontsize = 16)\n",
    "plt.ylabel('gCO2 per MJ', fontsize = 18)\n",
    "plt.ylim(-20,195)\n",
    "plt.axhline(0, color='black', linewidth=2)\n",
    "plot.set_axis_bgcolor(\"#EBEBEB\")\n",
    "plot.legend(loc='lower center', bbox_to_anchor=(1.25, 0.1),ncol=1, fancybox=True, shadow=True,fontsize=14)\n",
    "with open('/Users/olga/Desktop/fig.html', 'w') as fn:\n",
    "    fn.write(mpld3.fig_to_html(plt.gcf()))"
   ]
  },
  {
   "cell_type": "code",
   "execution_count": null,
   "metadata": {
    "collapsed": false
   },
   "outputs": [],
   "source": [
    "mpld3.fig_to_html(plt.gcf())"
   ]
  },
  {
   "cell_type": "code",
   "execution_count": null,
   "metadata": {
    "collapsed": true
   },
   "outputs": [],
   "source": []
  }
 ],
 "metadata": {
  "kernelspec": {
   "display_name": "Python 2",
   "language": "python",
   "name": "python2"
  },
  "language_info": {
   "codemirror_mode": {
    "name": "ipython",
    "version": 2
   },
   "file_extension": ".py",
   "mimetype": "text/x-python",
   "name": "python",
   "nbconvert_exporter": "python",
   "pygments_lexer": "ipython2",
   "version": "2.7.12"
  }
 },
 "nbformat": 4,
 "nbformat_minor": 0
}
